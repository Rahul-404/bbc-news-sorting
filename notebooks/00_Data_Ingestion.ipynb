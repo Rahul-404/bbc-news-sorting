{
 "cells": [
  {
   "cell_type": "markdown",
   "metadata": {},
   "source": [
    "# Import Packages"
   ]
  },
  {
   "cell_type": "code",
   "execution_count": 13,
   "metadata": {},
   "outputs": [],
   "source": [
    "import requests\n",
    "from bs4 import BeautifulSoup\n",
    "import pandas as pd\n",
    "import os\n",
    "from typing import List"
   ]
  },
  {
   "cell_type": "markdown",
   "metadata": {},
   "source": [
    "# News Categories"
   ]
  },
  {
   "cell_type": "code",
   "execution_count": 14,
   "metadata": {},
   "outputs": [],
   "source": [
    "# constants\n",
    "sport_news_url = \"https://www.bbc.com/sport\"\n",
    "business_news_url = \"https://www.bbc.com/business\"\n",
    "tech_news_url = \"https://www.bbc.com/innovation/technology\"\n",
    "politics_news_url = \"\"\n",
    "entertainment_news_url = \"https://www.bbc.com/culture\""
   ]
  },
  {
   "cell_type": "markdown",
   "metadata": {},
   "source": [
    "## 1. Stoprts News Scrapping"
   ]
  },
  {
   "cell_type": "code",
   "execution_count": 15,
   "metadata": {},
   "outputs": [],
   "source": [
    "# constants\n",
    "sport_news_url = \"https://www.bbc.com/sport\"\n",
    "\n",
    "# diferent categories\n",
    "football_news_url = \"https://www.bbc.com/sport/football\"\n",
    "cricket_news_url = \"https://www.bbc.com/sport/cricket\"\n",
    "formula_1_news_url = \"https://www.bbc.com/sport/formula1\"\n",
    "rugby_news_url = \"https://www.bbc.com/sport/rugby-union\"\n",
    "tennis_news_url = \"https://www.bbc.com/sport/tennis\"\n",
    "golf_news_url = \"https://www.bbc.com/sport/golf\"\n",
    "athletic_news_url = \"https://www.bbc.com/sport/athletics\"\n",
    "cycling_news_url = \"https://www.bbc.com/sport/cycling\""
   ]
  },
  {
   "cell_type": "code",
   "execution_count": 16,
   "metadata": {},
   "outputs": [],
   "source": [
    "# constants\n",
    "sub_news_categories = [\"football\", \"cricket\", \"formula1\", \"rugby-union\", \"tennis\", \"golf\", \"athletics\", \"cycling\"]"
   ]
  },
  {
   "cell_type": "code",
   "execution_count": 17,
   "metadata": {},
   "outputs": [
    {
     "name": "stdout",
     "output_type": "stream",
     "text": [
      "football news link:\t https://www.bbc.com/sport/football\n",
      "cricket news link:\t https://www.bbc.com/sport/cricket\n",
      "formula1 news link:\t https://www.bbc.com/sport/formula1\n",
      "rugby-union news link:\t https://www.bbc.com/sport/rugby-union\n",
      "tennis news link:\t https://www.bbc.com/sport/tennis\n",
      "golf news link:\t https://www.bbc.com/sport/golf\n",
      "athletics news link:\t https://www.bbc.com/sport/athletics\n",
      "cycling news link:\t https://www.bbc.com/sport/cycling\n"
     ]
    }
   ],
   "source": [
    "for sub in sub_news_categories:\n",
    "    print(f\"{sub} news link:\\t {sport_news_url}/{sub}\")"
   ]
  },
  {
   "cell_type": "code",
   "execution_count": 18,
   "metadata": {},
   "outputs": [
    {
     "name": "stdout",
     "output_type": "stream",
     "text": [
      "Requesting Page: https://www.bbc.com/sport/football\n",
      "Total Links: 290\n",
      "\n",
      "Requesting Page: https://www.bbc.com/sport/cricket\n",
      "Total Links: 155\n",
      "\n",
      "Requesting Page: https://www.bbc.com/sport/formula1\n",
      "Total Links: 181\n",
      "\n",
      "Requesting Page: https://www.bbc.com/sport/rugby-union\n",
      "Total Links: 191\n",
      "\n",
      "Requesting Page: https://www.bbc.com/sport/tennis\n",
      "Total Links: 210\n",
      "\n",
      "Requesting Page: https://www.bbc.com/sport/golf\n",
      "Total Links: 178\n",
      "\n",
      "Requesting Page: https://www.bbc.com/sport/athletics\n",
      "Total Links: 157\n",
      "\n",
      "Requesting Page: https://www.bbc.com/sport/cycling\n",
      "Total Links: 135\n",
      "\n"
     ]
    }
   ],
   "source": [
    "news_article_links = []\n",
    "# Step 1: get all pages urls\n",
    "for sub_news_category in sub_news_categories:\n",
    "    # sport url\n",
    "    sport_url = f\"{sport_news_url}/{sub_news_category}\"\n",
    "\n",
    "    print(f\"Requesting Page: {sport_url}\")\n",
    "    # Step 2: Send request to get the source page\n",
    "    response = requests.get(sport_url)\n",
    "\n",
    "    # Step 3: Parse the content of the webpage using BeautifulSoup\n",
    "    soup = BeautifulSoup(response.content, 'html.parser')\n",
    "\n",
    "    # Step 4: get the all urls\n",
    "    print(f\"Total Links: {len(soup.find_all('a'))}\")\n",
    "\n",
    "    # Step 5: Filtering relevant urls\n",
    "    for link in soup.find_all('a'):\n",
    "        sub_link = f\"/sport/{sub_news_category}/articles/\"\n",
    "\n",
    "        # print(link.get('href'))\n",
    "        if sub_link in link.get('href'):\n",
    "            news_article_links.append(f\"https://www.bbc.com/{link.get('href').split('#')[0]}\")\n",
    "            # print(link.get('href').split('#')[0])\n",
    "    print()"
   ]
  },
  {
   "cell_type": "code",
   "execution_count": 19,
   "metadata": {},
   "outputs": [
    {
     "data": {
      "text/plain": [
       "245"
      ]
     },
     "execution_count": 19,
     "metadata": {},
     "output_type": "execute_result"
    }
   ],
   "source": [
    "len(news_article_links)"
   ]
  },
  {
   "cell_type": "markdown",
   "metadata": {},
   "source": [
    "### Complete Function"
   ]
  },
  {
   "cell_type": "code",
   "execution_count": 20,
   "metadata": {},
   "outputs": [],
   "source": [
    "def get_sports_news() -> List[str]:\n",
    "    try:\n",
    "        # constants\n",
    "        sport_news_url = \"https://www.bbc.com/sport\"\n",
    "        sub_news_categories = [\"football\", \"cricket\", \"formula1\", \"rugby-union\", \"tennis\", \"golf\", \"athletics\", \"cycling\"]\n",
    "\n",
    "        news_article_links = []\n",
    "        # Step 1: get all pages urls\n",
    "        for sub_news_category in sub_news_categories:\n",
    "            # sport url\n",
    "            sport_url = f\"{sport_news_url}/{sub_news_category}\"\n",
    "\n",
    "            # print(f\"Requesting Page: {sport_url}\")\n",
    "\n",
    "            # Step 2: Send request to get the source page\n",
    "            response = requests.get(sport_url)\n",
    "\n",
    "            # Step 3: Parse the content of the webpage using BeautifulSoup\n",
    "            soup = BeautifulSoup(response.content, 'html.parser')\n",
    "\n",
    "            # Step 4: get the all urls\n",
    "            # print(f\"Total Links: {len(soup.find_all('a'))}\")\n",
    "\n",
    "            # Step 5: Filtering relevant urls\n",
    "            for link in soup.find_all('a'):\n",
    "                sub_link = f\"/sport/{sub_news_category}/articles/\"\n",
    "\n",
    "                # print(link.get('href'))\n",
    "                if sub_link in link.get('href'):\n",
    "                    news_article_links.append(f\"https://www.bbc.com/{link.get('href').split('#')[0]}\")\n",
    "                    # print(link.get('href').split('#')[0])\n",
    "            # print()\n",
    "        \n",
    "        return news_article_links\n",
    "    except Exception as e:\n",
    "        raise e"
   ]
  },
  {
   "cell_type": "code",
   "execution_count": 21,
   "metadata": {},
   "outputs": [
    {
     "data": {
      "text/plain": [
       "['https://www.bbc.com//sport/football/articles/c0mvy4w3nnlo',\n",
       " 'https://www.bbc.com//sport/football/articles/c0mvy4w3nnlo',\n",
       " 'https://www.bbc.com//sport/football/articles/ce8xj6dm2rro',\n",
       " 'https://www.bbc.com//sport/football/articles/clyv8r9427no',\n",
       " 'https://www.bbc.com//sport/football/articles/clyv8r9427no',\n",
       " 'https://www.bbc.com//sport/football/articles/cn4xdzx8l95o',\n",
       " 'https://www.bbc.com//sport/football/articles/c8ew2lk4zp9o',\n",
       " 'https://www.bbc.com//sport/football/articles/c8ew2lk4zp9o',\n",
       " 'https://www.bbc.com//sport/football/articles/cp83lgnzvepo',\n",
       " 'https://www.bbc.com//sport/football/articles/c1j0yg95dpno',\n",
       " 'https://www.bbc.com//sport/football/articles/c1j0yg95dpno',\n",
       " 'https://www.bbc.com//sport/football/articles/c17d27p1djyo',\n",
       " 'https://www.bbc.com//sport/football/articles/cy8yd70x21xo',\n",
       " 'https://www.bbc.com//sport/football/articles/c1knll1xp01o',\n",
       " 'https://www.bbc.com//sport/football/articles/cgm9p2n20vjo',\n",
       " 'https://www.bbc.com//sport/football/articles/c3e32e0dx1go',\n",
       " 'https://www.bbc.com//sport/football/articles/cgq1p5ve4n0o',\n",
       " 'https://www.bbc.com//sport/football/articles/c77j5dvjnn8o',\n",
       " 'https://www.bbc.com//sport/football/articles/c77j5dvjnn8o',\n",
       " 'https://www.bbc.com//sport/football/articles/cp9np84m21lo',\n",
       " 'https://www.bbc.com//sport/football/articles/cp9np84m21lo',\n",
       " 'https://www.bbc.com//sport/football/articles/cy9q2zq2wv9o',\n",
       " 'https://www.bbc.com//sport/football/articles/cdek6wz39lzo',\n",
       " 'https://www.bbc.com//sport/football/articles/cy4pdjpvz17o',\n",
       " 'https://www.bbc.com//sport/football/articles/cgm9pnnlllko',\n",
       " 'https://www.bbc.com//sport/football/articles/cgm9pnnlllko',\n",
       " 'https://www.bbc.com//sport/football/articles/c8dqlngpyn7o',\n",
       " 'https://www.bbc.com//sport/football/articles/c0rn2kljlzlo',\n",
       " 'https://www.bbc.com//sport/football/articles/cx26dyg9l4qo',\n",
       " 'https://www.bbc.com//sport/football/articles/cx2w1e33w74o',\n",
       " 'https://www.bbc.com//sport/football/articles/ce8dj443v5yo',\n",
       " 'https://www.bbc.com//sport/football/articles/c134587zl01o',\n",
       " 'https://www.bbc.com//sport/football/articles/czrgm6grxvlo',\n",
       " 'https://www.bbc.com//sport/football/articles/c4ngy9xjpzro',\n",
       " 'https://www.bbc.com//sport/football/articles/cv2gd3jr387o',\n",
       " 'https://www.bbc.com//sport/football/articles/cv2gd3jr387o',\n",
       " 'https://www.bbc.com//sport/football/articles/crgglxwge10o',\n",
       " 'https://www.bbc.com//sport/football/articles/cekk4zp5rg8o',\n",
       " 'https://www.bbc.com//sport/football/articles/cwy855222pjo',\n",
       " 'https://www.bbc.com//sport/football/articles/cewxn4948ejo',\n",
       " 'https://www.bbc.com//sport/football/articles/c5y48l8g780o',\n",
       " 'https://www.bbc.com//sport/football/articles/c4gxq9rq1n9o',\n",
       " 'https://www.bbc.com//sport/football/articles/c4gxq9rq1n9o',\n",
       " 'https://www.bbc.com//sport/football/articles/ckgxyp2z8jeo',\n",
       " 'https://www.bbc.com//sport/football/articles/cd9x25wvv8xo',\n",
       " 'https://www.bbc.com//sport/football/articles/ckgz2kw3lj3o',\n",
       " 'https://www.bbc.com//sport/football/articles/cy4797dm97vo',\n",
       " 'https://www.bbc.com//sport/football/articles/c8ew2lk4zp9o',\n",
       " 'https://www.bbc.com//sport/football/articles/c8ew2lk4zp9o',\n",
       " 'https://www.bbc.com//sport/football/articles/cp83lgnzvepo',\n",
       " 'https://www.bbc.com//sport/football/articles/cly47npdq8zo',\n",
       " 'https://www.bbc.com//sport/football/articles/cx26dyg9l4qo',\n",
       " 'https://www.bbc.com//sport/football/articles/c4gw99xg20yo',\n",
       " 'https://www.bbc.com//sport/football/articles/c80edged5mmo',\n",
       " 'https://www.bbc.com//sport/football/articles/cz0rxld00p5o',\n",
       " 'https://www.bbc.com//sport/football/articles/cd6033eg6qwo',\n",
       " 'https://www.bbc.com//sport/football/articles/cd6033eg6qwo',\n",
       " 'https://www.bbc.com//sport/football/articles/cy47plez17jo',\n",
       " 'https://www.bbc.com//sport/cricket/articles/c8xjw8v99kdo',\n",
       " 'https://www.bbc.com//sport/cricket/articles/c8xjw8v99kdo',\n",
       " 'https://www.bbc.com//sport/cricket/articles/ckg3pvw5ke3o',\n",
       " 'https://www.bbc.com//sport/cricket/articles/ckg3pvw5ke3o',\n",
       " 'https://www.bbc.com//sport/cricket/articles/c24n2e55rmjo',\n",
       " 'https://www.bbc.com//sport/cricket/articles/cvg4x4jgek0o',\n",
       " 'https://www.bbc.com//sport/cricket/articles/c5y705y7q17o',\n",
       " 'https://www.bbc.com//sport/cricket/articles/cvg7kxxkm8wo',\n",
       " 'https://www.bbc.com//sport/cricket/articles/c1wq230g21ro',\n",
       " 'https://www.bbc.com//sport/cricket/articles/cj49zl9vx25o',\n",
       " 'https://www.bbc.com//sport/cricket/articles/crk0xl6vx46o',\n",
       " 'https://www.bbc.com//sport/cricket/articles/crk0xl6vx46o',\n",
       " 'https://www.bbc.com//sport/cricket/articles/cy095ngzn2lo',\n",
       " 'https://www.bbc.com//sport/cricket/articles/cy095ngzn2lo',\n",
       " 'https://www.bbc.com//sport/cricket/articles/cd75z2xxzpwo',\n",
       " 'https://www.bbc.com//sport/cricket/articles/c33d6xjnz33o',\n",
       " 'https://www.bbc.com//sport/cricket/articles/c33d6xjnz33o',\n",
       " 'https://www.bbc.com//sport/cricket/articles/c5yd9dn3rxro',\n",
       " 'https://www.bbc.com//sport/cricket/articles/c5yd9dn3rxro',\n",
       " 'https://www.bbc.com//sport/cricket/articles/c2ldxxw4de4o',\n",
       " 'https://www.bbc.com//sport/cricket/articles/cn4x3k81n08o',\n",
       " 'https://www.bbc.com//sport/cricket/articles/cn4x3k81n08o',\n",
       " 'https://www.bbc.com//sport/cricket/articles/cpvgry25z77o',\n",
       " 'https://www.bbc.com//sport/cricket/articles/cq6r4zypg9zo',\n",
       " 'https://www.bbc.com//sport/formula1/articles/c9q7ywy1337o',\n",
       " 'https://www.bbc.com//sport/formula1/articles/clykgdz974xo',\n",
       " 'https://www.bbc.com//sport/formula1/articles/crmnxweg781o',\n",
       " 'https://www.bbc.com//sport/formula1/articles/crmnxweg781o',\n",
       " 'https://www.bbc.com//sport/formula1/articles/c89xd0k55gwo',\n",
       " 'https://www.bbc.com//sport/formula1/articles/c89xd0k55gwo',\n",
       " 'https://www.bbc.com//sport/formula1/articles/cy4pj0j9z98o',\n",
       " 'https://www.bbc.com//sport/formula1/articles/c9q7y8r4jppo',\n",
       " 'https://www.bbc.com//sport/formula1/articles/c9q7y8r4jppo',\n",
       " 'https://www.bbc.com//sport/formula1/articles/cn4v5kgxv1qo',\n",
       " 'https://www.bbc.com//sport/formula1/articles/cq5ljdx2d43o',\n",
       " 'https://www.bbc.com//sport/formula1/articles/cq5ljdx2d43o',\n",
       " 'https://www.bbc.com//sport/formula1/articles/ckgz4jw14rdo',\n",
       " 'https://www.bbc.com//sport/formula1/articles/cdd6e1jep42o',\n",
       " 'https://www.bbc.com//sport/formula1/articles/cn8502y285eo',\n",
       " 'https://www.bbc.com//sport/formula1/articles/c75wz75q14ko',\n",
       " 'https://www.bbc.com//sport/formula1/articles/c75wz75q14ko',\n",
       " 'https://www.bbc.com//sport/formula1/articles/c5yweeww57wo',\n",
       " 'https://www.bbc.com//sport/formula1/articles/cd9xldqw49ko',\n",
       " 'https://www.bbc.com//sport/formula1/articles/c623rwn54d2o',\n",
       " 'https://www.bbc.com//sport/formula1/articles/c623rwn54d2o',\n",
       " 'https://www.bbc.com//sport/formula1/articles/c17dqwydw0do',\n",
       " 'https://www.bbc.com//sport/formula1/articles/cy7kgg5lxeeo',\n",
       " 'https://www.bbc.com//sport/formula1/articles/cy7kgg5lxeeo',\n",
       " 'https://www.bbc.com//sport/formula1/articles/cq8qkkzq2lgo',\n",
       " 'https://www.bbc.com//sport/formula1/articles/cq8qkkzq2lgo',\n",
       " 'https://www.bbc.com//sport/formula1/articles/cx2vkyelj3vo',\n",
       " 'https://www.bbc.com//sport/formula1/articles/cx2vkyelj3vo',\n",
       " 'https://www.bbc.com//sport/formula1/articles/cp83kpe9d93o',\n",
       " 'https://www.bbc.com//sport/formula1/articles/crk4gnzgv3no',\n",
       " 'https://www.bbc.com//sport/formula1/articles/c0mv01mvkjdo',\n",
       " 'https://www.bbc.com//sport/formula1/articles/cevg9w8440ko',\n",
       " 'https://www.bbc.com//sport/formula1/articles/ckgdvveky5zo',\n",
       " 'https://www.bbc.com//sport/formula1/articles/c4gd5rxgyyjo',\n",
       " 'https://www.bbc.com//sport/formula1/articles/ckgn5rmeke4o',\n",
       " 'https://www.bbc.com//sport/rugby-union/articles/cd0ep183erro',\n",
       " 'https://www.bbc.com//sport/rugby-union/articles/c5y87nvg1dvo',\n",
       " 'https://www.bbc.com//sport/rugby-union/articles/c1597e4vny8o',\n",
       " 'https://www.bbc.com//sport/rugby-union/articles/c1597e4vny8o',\n",
       " 'https://www.bbc.com//sport/rugby-union/articles/c20e8v79gqeo',\n",
       " 'https://www.bbc.com//sport/rugby-union/articles/c20e8v79gqeo',\n",
       " 'https://www.bbc.com//sport/rugby-union/articles/cdxzpq0pv6eo',\n",
       " 'https://www.bbc.com//sport/rugby-union/articles/c1d3zwv9qqno',\n",
       " 'https://www.bbc.com//sport/rugby-union/articles/c1d3zwv9qqno',\n",
       " 'https://www.bbc.com//sport/rugby-union/articles/c1mrkv5e0e8o',\n",
       " 'https://www.bbc.com//sport/rugby-union/articles/c1mrkv5e0e8o',\n",
       " 'https://www.bbc.com//sport/rugby-union/articles/c33dmx3y0k6o',\n",
       " 'https://www.bbc.com//sport/rugby-union/articles/c33dmx3y0k6o',\n",
       " 'https://www.bbc.com//sport/rugby-union/articles/cx2vwly788po',\n",
       " 'https://www.bbc.com//sport/rugby-union/articles/cx2vwly788po',\n",
       " 'https://www.bbc.com//sport/rugby-union/articles/ckg3pwyglpvo',\n",
       " 'https://www.bbc.com//sport/rugby-union/articles/c878wv744z3o',\n",
       " 'https://www.bbc.com//sport/rugby-union/articles/cx2n99w72p4o',\n",
       " 'https://www.bbc.com//sport/rugby-union/articles/cn4xd99nwreo',\n",
       " 'https://www.bbc.com//sport/rugby-union/articles/cn4xd99nwreo',\n",
       " 'https://www.bbc.com//sport/rugby-union/articles/cd9xv05kgj3o',\n",
       " 'https://www.bbc.com//sport/rugby-union/articles/c627nwvwe7xo',\n",
       " 'https://www.bbc.com//sport/rugby-union/articles/c93ge7p266xo',\n",
       " 'https://www.bbc.com//sport/rugby-union/articles/cdxzggd0p2go',\n",
       " 'https://www.bbc.com//sport/rugby-union/articles/c2dxzyej1weo',\n",
       " 'https://www.bbc.com//sport/rugby-union/articles/c2dxzyej1weo',\n",
       " 'https://www.bbc.com//sport/rugby-union/articles/cd75eyne9wqo',\n",
       " 'https://www.bbc.com//sport/rugby-union/articles/c623xk537zro',\n",
       " 'https://www.bbc.com//sport/rugby-union/articles/cn54wg2yvn3o',\n",
       " 'https://www.bbc.com//sport/rugby-union/articles/cn085d5ry9no',\n",
       " 'https://www.bbc.com//sport/rugby-union/articles/cn085d5ry9no',\n",
       " 'https://www.bbc.com//sport/rugby-union/articles/c8ewk69e59po',\n",
       " 'https://www.bbc.com//sport/rugby-union/articles/cgqydjydzd8o',\n",
       " 'https://www.bbc.com//sport/rugby-union/articles/cgqydjydzd8o',\n",
       " 'https://www.bbc.com//sport/rugby-union/articles/c1lgepp1g22o',\n",
       " 'https://www.bbc.com//sport/tennis/articles/clyxek8dy4ro',\n",
       " 'https://www.bbc.com//sport/tennis/articles/cn4xd7g0n4yo',\n",
       " 'https://www.bbc.com//sport/tennis/articles/c62z1lve32ko',\n",
       " 'https://www.bbc.com//sport/tennis/articles/cr56jrzjd14o',\n",
       " 'https://www.bbc.com//sport/tennis/articles/cvg9nrvwjrwo',\n",
       " 'https://www.bbc.com//sport/tennis/articles/cvg9nrvwjrwo',\n",
       " 'https://www.bbc.com//sport/tennis/articles/cdekp01w9k0o',\n",
       " 'https://www.bbc.com//sport/tennis/articles/cn9gp1jpqvgo',\n",
       " 'https://www.bbc.com//sport/tennis/articles/cn9gp1jpqvgo',\n",
       " 'https://www.bbc.com//sport/tennis/articles/ce8nplz6zelo',\n",
       " 'https://www.bbc.com//sport/tennis/articles/c1j0nnjzn2zo',\n",
       " 'https://www.bbc.com//sport/tennis/articles/czr3ex8kn8lo',\n",
       " 'https://www.bbc.com//sport/tennis/articles/c0j1682gyv4o',\n",
       " 'https://www.bbc.com//sport/tennis/articles/cj0rv288mlmo',\n",
       " 'https://www.bbc.com//sport/tennis/articles/c30nlr8lr8qo',\n",
       " 'https://www.bbc.com//sport/tennis/articles/c30nlr8lr8qo',\n",
       " 'https://www.bbc.com//sport/tennis/articles/c4gpyv3z8wno',\n",
       " 'https://www.bbc.com//sport/tennis/articles/c3g527q1z0vo',\n",
       " 'https://www.bbc.com//sport/tennis/articles/c978jmrj2j6o',\n",
       " 'https://www.bbc.com//sport/tennis/articles/c978jmrj2j6o',\n",
       " 'https://www.bbc.com//sport/tennis/articles/c3ggw24w9y1o',\n",
       " 'https://www.bbc.com//sport/tennis/articles/c2881d1zv0xo',\n",
       " 'https://www.bbc.com//sport/tennis/articles/cdr02n25l0ko',\n",
       " 'https://www.bbc.com//sport/tennis/articles/cg52nn2m61do',\n",
       " 'https://www.bbc.com//sport/tennis/articles/c4gw78x8pw1o',\n",
       " 'https://www.bbc.com//sport/tennis/articles/ce3lw4vrvdvo',\n",
       " 'https://www.bbc.com//sport/tennis/articles/ced85x6gj56o',\n",
       " 'https://www.bbc.com//sport/tennis/articles/cgq1zpe8p00o',\n",
       " 'https://www.bbc.com//sport/tennis/articles/c204lz9dv1eo',\n",
       " 'https://www.bbc.com//sport/tennis/articles/cql5kezqe96o',\n",
       " 'https://www.bbc.com//sport/tennis/articles/cjd5ek3jp89o',\n",
       " 'https://www.bbc.com//sport/tennis/articles/c785nn0d7vyo',\n",
       " 'https://www.bbc.com//sport/tennis/articles/cjdnym840vko',\n",
       " 'https://www.bbc.com//sport/tennis/articles/c159qjv90z3o',\n",
       " 'https://www.bbc.com//sport/tennis/articles/clyj6jm28dgo',\n",
       " 'https://www.bbc.com//sport/tennis/articles/c4gxjy31vrzo',\n",
       " 'https://www.bbc.com//sport/tennis/articles/cyvy9dervqzo',\n",
       " 'https://www.bbc.com//sport/tennis/articles/cly3zw1gqwjo',\n",
       " 'https://www.bbc.com//sport/tennis/articles/clyl02pwvj8o',\n",
       " 'https://www.bbc.com//sport/tennis/articles/czdpm0rdqyjo',\n",
       " 'https://www.bbc.com//sport/tennis/articles/cz9wky1gdq4o',\n",
       " 'https://www.bbc.com//sport/golf/articles/cly2x1zdwywo',\n",
       " 'https://www.bbc.com//sport/golf/articles/cvg7rjn827do',\n",
       " 'https://www.bbc.com//sport/golf/articles/cvg7rjn827do',\n",
       " 'https://www.bbc.com//sport/golf/articles/cn8g155pgwwo',\n",
       " 'https://www.bbc.com//sport/golf/articles/cx2p5q3ggnqo',\n",
       " 'https://www.bbc.com//sport/golf/articles/c5yv9rm1jxno',\n",
       " 'https://www.bbc.com//sport/golf/articles/cgkxr4r8n2eo',\n",
       " 'https://www.bbc.com//sport/golf/articles/cj90we80y32o',\n",
       " 'https://www.bbc.com//sport/golf/articles/clyg859jed5o',\n",
       " 'https://www.bbc.com//sport/golf/articles/clyg859jed5o',\n",
       " 'https://www.bbc.com//sport/golf/articles/cy8ykkr72mdo',\n",
       " 'https://www.bbc.com//sport/golf/articles/cr56r57edd5o',\n",
       " 'https://www.bbc.com//sport/golf/articles/c1el0y158g8o',\n",
       " 'https://www.bbc.com//sport/golf/articles/c1el0y158g8o',\n",
       " 'https://www.bbc.com//sport/golf/articles/c745z3z5499o',\n",
       " 'https://www.bbc.com//sport/golf/articles/ckg1ek243y4o',\n",
       " 'https://www.bbc.com//sport/golf/articles/cx2vp426673o',\n",
       " 'https://www.bbc.com//sport/golf/articles/cx2w41zwxp8o',\n",
       " 'https://www.bbc.com//sport/golf/articles/ckg90pvrpdeo',\n",
       " 'https://www.bbc.com//sport/golf/articles/ckg90pvrpdeo',\n",
       " 'https://www.bbc.com//sport/golf/articles/cj4vgz7j2xjo',\n",
       " 'https://www.bbc.com//sport/golf/articles/cj4vgz7j2xjo',\n",
       " 'https://www.bbc.com//sport/golf/articles/c0k83gk8dj1o',\n",
       " 'https://www.bbc.com//sport/golf/articles/c0k83gk8dj1o',\n",
       " 'https://www.bbc.com//sport/golf/articles/cwyxq53jx5no',\n",
       " 'https://www.bbc.com//sport/golf/articles/czd54le9r7yo',\n",
       " 'https://www.bbc.com//sport/golf/articles/czd54le9r7yo',\n",
       " 'https://www.bbc.com//sport/golf/articles/crr5nypeglzo',\n",
       " 'https://www.bbc.com//sport/golf/articles/crr5nypeglzo',\n",
       " 'https://www.bbc.com//sport/athletics/articles/cx267p1e261o',\n",
       " 'https://www.bbc.com//sport/athletics/articles/cj0r7nymzj7o',\n",
       " 'https://www.bbc.com//sport/athletics/articles/cj0r7nymzj7o',\n",
       " 'https://www.bbc.com//sport/athletics/articles/cvg7vrre47no',\n",
       " 'https://www.bbc.com//sport/athletics/articles/czeny93yk22o',\n",
       " 'https://www.bbc.com//sport/athletics/articles/czeny93yk22o',\n",
       " 'https://www.bbc.com//sport/athletics/articles/clyv93r25jyo',\n",
       " 'https://www.bbc.com//sport/athletics/articles/c9vkk7y2ywvo',\n",
       " 'https://www.bbc.com//sport/athletics/articles/crln646n5g6o',\n",
       " 'https://www.bbc.com//sport/athletics/articles/c89l29l2dxvo',\n",
       " 'https://www.bbc.com//sport/athletics/articles/c1m9300rrm4o',\n",
       " 'https://www.bbc.com//sport/athletics/articles/cn8y4mky8v9o',\n",
       " 'https://www.bbc.com//sport/cycling/articles/cd0e4j8gprxo',\n",
       " 'https://www.bbc.com//sport/cycling/articles/cql5y243n95o',\n",
       " 'https://www.bbc.com//sport/cycling/articles/c0475w65054o',\n",
       " 'https://www.bbc.com//sport/cycling/articles/c0475w65054o',\n",
       " 'https://www.bbc.com//sport/cycling/articles/crmn3x9ej0xo',\n",
       " 'https://www.bbc.com//sport/cycling/articles/cx2nreg4xmro',\n",
       " 'https://www.bbc.com//sport/cycling/articles/cx2nreg4xmro',\n",
       " 'https://www.bbc.com//sport/cycling/articles/cj901dkl2e4o',\n",
       " 'https://www.bbc.com//sport/cycling/articles/cz0rr2yy7n5o',\n",
       " 'https://www.bbc.com//sport/cycling/articles/cn08d4pgk02o',\n",
       " 'https://www.bbc.com//sport/cycling/articles/cgj640p986zo',\n",
       " 'https://www.bbc.com//sport/cycling/articles/cy9qqjjngneo',\n",
       " 'https://www.bbc.com//sport/cycling/articles/cy0g7vwd27po']"
      ]
     },
     "execution_count": 21,
     "metadata": {},
     "output_type": "execute_result"
    }
   ],
   "source": [
    "get_sports_news()"
   ]
  },
  {
   "cell_type": "markdown",
   "metadata": {},
   "source": [
    "## 2. Business News Scrapping"
   ]
  },
  {
   "cell_type": "code",
   "execution_count": 22,
   "metadata": {},
   "outputs": [],
   "source": [
    "# constants\n",
    "business_news_url = \"https://www.bbc.com/business\"\n",
    "\n",
    "# diferent categories\n",
    "executive_lounge_news_url = \"https://www.bbc.com/business/executive-lounge\"\n",
    "technology_of_business_news_url = \"https://www.bbc.com/business/technology-of-business\"\n",
    "future_of_business_news_url = \"https://www.bbc.com/business/future-of-business\""
   ]
  },
  {
   "cell_type": "code",
   "execution_count": 23,
   "metadata": {},
   "outputs": [],
   "source": [
    "# constants\n",
    "sub_news_categories = [\"executive-lounge\", \"technology-of-business\", \"future-of-business\"]"
   ]
  },
  {
   "cell_type": "code",
   "execution_count": 24,
   "metadata": {},
   "outputs": [
    {
     "name": "stdout",
     "output_type": "stream",
     "text": [
      "executive-lounge news link:\t https://www.bbc.com/business/executive-lounge\n",
      "technology-of-business news link:\t https://www.bbc.com/business/technology-of-business\n",
      "future-of-business news link:\t https://www.bbc.com/business/future-of-business\n"
     ]
    }
   ],
   "source": [
    "for sub in sub_news_categories:\n",
    "    print(f\"{sub} news link:\\t {business_news_url}/{sub}\")"
   ]
  },
  {
   "cell_type": "code",
   "execution_count": 25,
   "metadata": {},
   "outputs": [
    {
     "name": "stdout",
     "output_type": "stream",
     "text": [
      "Requesting Page: https://www.bbc.com/business/executive-lounge\n",
      "Total Links: 134\n",
      "\n",
      "Requesting Page: https://www.bbc.com/business/technology-of-business\n",
      "Total Links: 145\n",
      "\n",
      "Requesting Page: https://www.bbc.com/business/future-of-business\n",
      "Total Links: 171\n",
      "\n"
     ]
    }
   ],
   "source": [
    "news_article_links = []\n",
    "# Step 1: get all pages urls\n",
    "for sub_news_category in sub_news_categories:\n",
    "    # business url\n",
    "    business_url = f\"{business_news_url}/{sub_news_category}\"\n",
    "\n",
    "    print(f\"Requesting Page: {business_url}\")\n",
    "    # Step 2: Send request to get the source page\n",
    "    response = requests.get(business_url)\n",
    "\n",
    "    # Step 3: Parse the content of the webpage using BeautifulSoup\n",
    "    soup = BeautifulSoup(response.content, 'html.parser')\n",
    "\n",
    "    # Step 4: get the all urls\n",
    "    print(f\"Total Links: {len(soup.find_all('a'))}\")\n",
    "\n",
    "    # Step 5: Filtering relevant urls\n",
    "    for link in soup.find_all('a'):\n",
    "        sub_link1 = \"/news/articles/\"\n",
    "        sub_link2 = \"/worklife/articles/\"\n",
    "\n",
    "        # print(link.get('href'))\n",
    "        if sub_link1 in link.get('href') or sub_link2 in link.get('href'):\n",
    "            news_article_links.append(f\"https://www.bbc.com{link.get('href').split('#')[0]}\")\n",
    "            # news_article_links.append(f\"https://www.bbc.com{link.get('href')}\")\n",
    "            # print(link.get('href').split('#')[0])\n",
    "    print()"
   ]
  },
  {
   "cell_type": "code",
   "execution_count": 26,
   "metadata": {},
   "outputs": [
    {
     "data": {
      "text/plain": [
       "48"
      ]
     },
     "execution_count": 26,
     "metadata": {},
     "output_type": "execute_result"
    }
   ],
   "source": [
    "len(news_article_links)"
   ]
  },
  {
   "cell_type": "code",
   "execution_count": 27,
   "metadata": {},
   "outputs": [
    {
     "data": {
      "text/plain": [
       "['https://www.bbc.com/news/articles/cq8v1ww51vno',\n",
       " 'https://www.bbc.com/news/articles/crk4pm8xxx8o',\n",
       " 'https://www.bbc.com/news/articles/ckgxv7jk0z1o',\n",
       " 'https://www.bbc.com/news/articles/clyjvn658n6o',\n",
       " 'https://www.bbc.com/news/articles/cy9j10wj78wo',\n",
       " 'https://www.bbc.com/news/articles/crk4pm8xxx8o',\n",
       " 'https://www.bbc.com/news/articles/cq8v73dkne3o',\n",
       " 'https://www.bbc.com/news/articles/c4gp555xy5ro',\n",
       " 'https://www.bbc.com/news/articles/ckgxv7jk0z1o',\n",
       " 'https://www.bbc.com/news/articles/cg4lvw6vzkyo',\n",
       " 'https://www.bbc.com/news/articles/cj9n1939ryzo',\n",
       " 'https://www.bbc.com/news/articles/c62g03ln7z4o',\n",
       " 'https://www.bbc.com/news/articles/c33em6jrx1go',\n",
       " 'https://www.bbc.com/news/articles/cqxwjwqw3xdo',\n",
       " 'https://www.bbc.com/news/articles/cgej7gzg8l0o',\n",
       " 'https://www.bbc.com/news/articles/c870j92p82wo',\n",
       " 'https://www.bbc.com/news/articles/ce817156p34o',\n",
       " 'https://www.bbc.com/news/articles/cqxj700pxpdo',\n",
       " 'https://www.bbc.com/news/articles/c8j7md2kj8vo',\n",
       " 'https://www.bbc.com/news/articles/cq8v1ww51vno',\n",
       " 'https://www.bbc.com/news/articles/crk4pm8xxx8o',\n",
       " 'https://www.bbc.com/news/articles/cq8v73dkne3o',\n",
       " 'https://www.bbc.com/news/articles/c4gp555xy5ro',\n",
       " 'https://www.bbc.com/news/articles/ckgxv7jk0z1o',\n",
       " 'https://www.bbc.com/news/articles/clyjvn658n6o',\n",
       " 'https://www.bbc.com/news/articles/cy9j10wj78wo',\n",
       " 'https://www.bbc.com/news/articles/c33em6jrx1go',\n",
       " 'https://www.bbc.com/news/articles/cg4lvw6vzkyo',\n",
       " 'https://www.bbc.com/news/articles/cm2evjxev4jo',\n",
       " 'https://www.bbc.com/news/articles/cwyxd1p98yro',\n",
       " 'https://www.bbc.com/news/articles/cdr0g1em52go',\n",
       " 'https://www.bbc.com/news/articles/cq8v1ww51vno',\n",
       " 'https://www.bbc.com/news/articles/crk4pm8xxx8o',\n",
       " 'https://www.bbc.com/news/articles/c745q8w25keo',\n",
       " 'https://www.bbc.com/news/articles/cn7r8xr3v76o',\n",
       " 'https://www.bbc.com/news/articles/c20e3l3xllwo',\n",
       " 'https://www.bbc.com/news/articles/c5ywp0l0xrxo',\n",
       " 'https://www.bbc.com/news/articles/ce3le1zk6wvo',\n",
       " 'https://www.bbc.com/news/articles/cwyxjne97rwo',\n",
       " 'https://www.bbc.com/news/articles/cq8v73dkne3o',\n",
       " 'https://www.bbc.com/news/articles/c4gp555xy5ro',\n",
       " 'https://www.bbc.com/news/articles/ckgxv7jk0z1o',\n",
       " 'https://www.bbc.com/news/articles/clyjvn658n6o',\n",
       " 'https://www.bbc.com/news/articles/cwy3dz0614jo',\n",
       " 'https://www.bbc.com/news/articles/cd0elzk24dno',\n",
       " 'https://www.bbc.com/news/articles/c4gzz5wdg41o',\n",
       " 'https://www.bbc.com/news/articles/c89xvjkzzyvo',\n",
       " 'https://www.bbc.com/news/articles/cqjz04lv5q9o']"
      ]
     },
     "execution_count": 27,
     "metadata": {},
     "output_type": "execute_result"
    }
   ],
   "source": [
    "news_article_links"
   ]
  },
  {
   "cell_type": "markdown",
   "metadata": {},
   "source": [
    "### Complete Function"
   ]
  },
  {
   "cell_type": "code",
   "execution_count": 28,
   "metadata": {},
   "outputs": [],
   "source": [
    "def get_business_news() -> List[str]:\n",
    "    try:\n",
    "        # constants\n",
    "        business_news_url = \"https://www.bbc.com/business\"\n",
    "        sub_news_categories = [\"executive-lounge\", \"technology-of-business\", \"future-of-business\"]\n",
    "\n",
    "        news_article_links = []\n",
    "        \n",
    "        # Step 1: get all pages urls\n",
    "        for sub_news_category in sub_news_categories:\n",
    "            # business url\n",
    "            business_url = f\"{business_news_url}/{sub_news_category}\"\n",
    "\n",
    "            # print(f\"Requesting Page: {business_url}\")\n",
    "            # Step 2: Send request to get the source page\n",
    "            response = requests.get(business_url)\n",
    "\n",
    "            # Step 3: Parse the content of the webpage using BeautifulSoup\n",
    "            soup = BeautifulSoup(response.content, 'html.parser')\n",
    "\n",
    "            # Step 4: get the all urls\n",
    "            # print(f\"Total Links: {len(soup.find_all('a'))}\")\n",
    "\n",
    "            # Step 5: Filtering relevant urls\n",
    "            for link in soup.find_all('a'):\n",
    "                sub_link1 = \"/news/articles/\"\n",
    "                sub_link2 = \"/worklife/articles/\"\n",
    "\n",
    "                # print(link.get('href'))\n",
    "                if sub_link1 in link.get('href') or sub_link2 in link.get('href'):\n",
    "                    news_article_links.append(f\"https://www.bbc.com{link.get('href').split('#')[0]}\")\n",
    "                    # news_article_links.append(f\"https://www.bbc.com{link.get('href')}\")\n",
    "                    # print(link.get('href').split('#')[0])\n",
    "            # print()\n",
    "        \n",
    "        return news_article_links\n",
    "    except Exception as e:\n",
    "        raise e"
   ]
  },
  {
   "cell_type": "code",
   "execution_count": 29,
   "metadata": {},
   "outputs": [
    {
     "data": {
      "text/plain": [
       "['https://www.bbc.com/news/articles/cq8v1ww51vno',\n",
       " 'https://www.bbc.com/news/articles/crk4pm8xxx8o',\n",
       " 'https://www.bbc.com/news/articles/ckgxv7jk0z1o',\n",
       " 'https://www.bbc.com/news/articles/clyjvn658n6o',\n",
       " 'https://www.bbc.com/news/articles/cy9j10wj78wo',\n",
       " 'https://www.bbc.com/news/articles/crk4pm8xxx8o',\n",
       " 'https://www.bbc.com/news/articles/cq8v73dkne3o',\n",
       " 'https://www.bbc.com/news/articles/c4gp555xy5ro',\n",
       " 'https://www.bbc.com/news/articles/ckgxv7jk0z1o',\n",
       " 'https://www.bbc.com/news/articles/cg4lvw6vzkyo',\n",
       " 'https://www.bbc.com/news/articles/cj9n1939ryzo',\n",
       " 'https://www.bbc.com/news/articles/c62g03ln7z4o',\n",
       " 'https://www.bbc.com/news/articles/c33em6jrx1go',\n",
       " 'https://www.bbc.com/news/articles/cqxwjwqw3xdo',\n",
       " 'https://www.bbc.com/news/articles/cgej7gzg8l0o',\n",
       " 'https://www.bbc.com/news/articles/c870j92p82wo',\n",
       " 'https://www.bbc.com/news/articles/ce817156p34o',\n",
       " 'https://www.bbc.com/news/articles/cqxj700pxpdo',\n",
       " 'https://www.bbc.com/news/articles/c8j7md2kj8vo',\n",
       " 'https://www.bbc.com/news/articles/cq8v1ww51vno',\n",
       " 'https://www.bbc.com/news/articles/crk4pm8xxx8o',\n",
       " 'https://www.bbc.com/news/articles/cq8v73dkne3o',\n",
       " 'https://www.bbc.com/news/articles/c4gp555xy5ro',\n",
       " 'https://www.bbc.com/news/articles/ckgxv7jk0z1o',\n",
       " 'https://www.bbc.com/news/articles/clyjvn658n6o',\n",
       " 'https://www.bbc.com/news/articles/cy9j10wj78wo',\n",
       " 'https://www.bbc.com/news/articles/c33em6jrx1go',\n",
       " 'https://www.bbc.com/news/articles/cg4lvw6vzkyo',\n",
       " 'https://www.bbc.com/news/articles/cm2evjxev4jo',\n",
       " 'https://www.bbc.com/news/articles/cwyxd1p98yro',\n",
       " 'https://www.bbc.com/news/articles/cdr0g1em52go',\n",
       " 'https://www.bbc.com/news/articles/cq8v1ww51vno',\n",
       " 'https://www.bbc.com/news/articles/crk4pm8xxx8o',\n",
       " 'https://www.bbc.com/news/articles/c745q8w25keo',\n",
       " 'https://www.bbc.com/news/articles/cn7r8xr3v76o',\n",
       " 'https://www.bbc.com/news/articles/c20e3l3xllwo',\n",
       " 'https://www.bbc.com/news/articles/c5ywp0l0xrxo',\n",
       " 'https://www.bbc.com/news/articles/ce3le1zk6wvo',\n",
       " 'https://www.bbc.com/news/articles/cwyxjne97rwo',\n",
       " 'https://www.bbc.com/news/articles/cq8v73dkne3o',\n",
       " 'https://www.bbc.com/news/articles/c4gp555xy5ro',\n",
       " 'https://www.bbc.com/news/articles/ckgxv7jk0z1o',\n",
       " 'https://www.bbc.com/news/articles/clyjvn658n6o',\n",
       " 'https://www.bbc.com/news/articles/cwy3dz0614jo',\n",
       " 'https://www.bbc.com/news/articles/cd0elzk24dno',\n",
       " 'https://www.bbc.com/news/articles/c4gzz5wdg41o',\n",
       " 'https://www.bbc.com/news/articles/c89xvjkzzyvo',\n",
       " 'https://www.bbc.com/news/articles/cqjz04lv5q9o']"
      ]
     },
     "execution_count": 29,
     "metadata": {},
     "output_type": "execute_result"
    }
   ],
   "source": [
    "get_business_news()"
   ]
  },
  {
   "cell_type": "markdown",
   "metadata": {},
   "source": [
    "## 3. Technology News Scrapping"
   ]
  },
  {
   "cell_type": "code",
   "execution_count": 30,
   "metadata": {},
   "outputs": [],
   "source": [
    "# constants\n",
    "innovation_news_url = \"https://www.bbc.com/innovation\"\n",
    "\n",
    "# diferent categories\n",
    "tech_news_url = \"https://www.bbc.com/innovation/technology\"\n",
    "science_news_url = \"https://www.bbc.com/innovation/science\"\n",
    "ai_news_url = \"https://www.bbc.com/innovation/artificial-intelligence\"\n",
    "ai_vs_mind_news_url = \"https://www.bbc.com/innovation/ai-v-the-mind\""
   ]
  },
  {
   "cell_type": "code",
   "execution_count": 31,
   "metadata": {},
   "outputs": [],
   "source": [
    "# constants\n",
    "sub_news_categories = [\"technology\", \"science\", \"artificial-intelligence\", \"ai-v-the-mind\"]"
   ]
  },
  {
   "cell_type": "code",
   "execution_count": 32,
   "metadata": {},
   "outputs": [
    {
     "name": "stdout",
     "output_type": "stream",
     "text": [
      "technology news link:\t https://www.bbc.com/business/technology\n",
      "science news link:\t https://www.bbc.com/business/science\n",
      "artificial-intelligence news link:\t https://www.bbc.com/business/artificial-intelligence\n",
      "ai-v-the-mind news link:\t https://www.bbc.com/business/ai-v-the-mind\n"
     ]
    }
   ],
   "source": [
    "for sub in sub_news_categories:\n",
    "    print(f\"{sub} news link:\\t {business_news_url}/{sub}\")"
   ]
  },
  {
   "cell_type": "code",
   "execution_count": 33,
   "metadata": {},
   "outputs": [
    {
     "name": "stdout",
     "output_type": "stream",
     "text": [
      "Requesting Page: https://www.bbc.com/innovation/technology\n",
      "Total Links: 159\n",
      "\n",
      "Requesting Page: https://www.bbc.com/innovation/science\n",
      "Total Links: 141\n",
      "\n",
      "Requesting Page: https://www.bbc.com/innovation/artificial-intelligence\n",
      "Total Links: 155\n",
      "\n",
      "Requesting Page: https://www.bbc.com/innovation/ai-v-the-mind\n",
      "Total Links: 131\n",
      "\n"
     ]
    }
   ],
   "source": [
    "news_article_links = []\n",
    "# Step 1: get all pages urls\n",
    "for sub_news_category in sub_news_categories:\n",
    "    # news url\n",
    "    innovation_url = f\"{innovation_news_url}/{sub_news_category}\"\n",
    "\n",
    "    print(f\"Requesting Page: {innovation_url}\")\n",
    "    # Step 2: Send request to get the source page\n",
    "    response = requests.get(innovation_url)\n",
    "\n",
    "    # Step 3: Parse the content of the webpage using BeautifulSoup\n",
    "    soup = BeautifulSoup(response.content, 'html.parser')\n",
    "\n",
    "    # Step 4: get the all urls\n",
    "    print(f\"Total Links: {len(soup.find_all('a'))}\")\n",
    "\n",
    "    # Step 5: Filtering relevant urls\n",
    "    for link in soup.find_all('a'):\n",
    "        sub_link1 = \"/news/articles/\"\n",
    "        sub_link2 = \"/worklife/articles/\"\n",
    "\n",
    "        # print(link.get('href'))\n",
    "        if sub_link1 in link.get('href') or sub_link2 in link.get('href'):\n",
    "            news_article_links.append(f\"https://www.bbc.com{link.get('href').split('#')[0]}\")\n",
    "            # news_article_links.append(f\"https://www.bbc.com{link.get('href')}\")\n",
    "            # print(link.get('href').split('#')[0])\n",
    "    print()"
   ]
  },
  {
   "cell_type": "code",
   "execution_count": 34,
   "metadata": {},
   "outputs": [
    {
     "data": {
      "text/plain": [
       "['https://www.bbc.com/news/articles/cy7keddnj31o',\n",
       " 'https://www.bbc.com/news/articles/czd4jpdglzmo',\n",
       " 'https://www.bbc.com/news/articles/cje9p5gpj72o',\n",
       " 'https://www.bbc.com/news/articles/cgrwpvp9z4wo',\n",
       " 'https://www.bbc.com/news/articles/c9dp0qqe48po',\n",
       " 'https://www.bbc.com/news/articles/cr56e3vr3vno',\n",
       " 'https://www.bbc.com/news/articles/c1elddq34p7o',\n",
       " 'https://www.bbc.com/news/articles/cn8g24qn87no',\n",
       " 'https://www.bbc.com/news/articles/cdjg8kz8jj3o',\n",
       " 'https://www.bbc.com/news/articles/cvg7kxxjzzno',\n",
       " 'https://www.bbc.com/news/articles/c2kxpn2k08do',\n",
       " 'https://www.bbc.com/news/articles/ckgnj7e8028o',\n",
       " 'https://www.bbc.com/news/articles/c74x0j47gz8o',\n",
       " 'https://www.bbc.com/news/articles/cx2v778x85yo',\n",
       " 'https://www.bbc.com/news/articles/cn4xw9lx02xo',\n",
       " 'https://www.bbc.com/news/articles/c1d3y5zvxzeo',\n",
       " 'https://www.bbc.com/news/articles/cdr03vepjx4o',\n",
       " 'https://www.bbc.com/news/articles/cp31pk53k8lo',\n",
       " 'https://www.bbc.com/news/articles/c140exemgk7o',\n",
       " 'https://www.bbc.com/news/articles/cm2v1rl32j8o',\n",
       " 'https://www.bbc.com/news/articles/ckg8dg3ke40o',\n",
       " 'https://www.bbc.com/news/articles/c9q7wnzyyg8o',\n",
       " 'https://www.bbc.com/news/articles/cp3zllv6y15o',\n",
       " 'https://www.bbc.com/news/articles/c1ke8y7lg83o',\n",
       " 'https://www.bbc.com/news/articles/cx2pg7jp518o',\n",
       " 'https://www.bbc.com/news/articles/c0ewggnr7dxo',\n",
       " 'https://www.bbc.com/news/articles/c4gxqep4zk3o',\n",
       " 'https://www.bbc.com/news/articles/cgrwdxpljyxo',\n",
       " 'https://www.bbc.com/news/articles/cm2evjxev4jo',\n",
       " 'https://www.bbc.com/news/articles/cwyxd1p98yro',\n",
       " 'https://www.bbc.com/news/articles/cdr0g1em52go',\n",
       " 'https://www.bbc.com/news/articles/cq8v1ww51vno',\n",
       " 'https://www.bbc.com/news/articles/crk4pm8xxx8o',\n",
       " 'https://www.bbc.com/news/articles/c745q8w25keo',\n",
       " 'https://www.bbc.com/news/articles/cj0rqz003zdo',\n",
       " 'https://www.bbc.com/news/articles/cd0elzk24dno',\n",
       " 'https://www.bbc.com/news/articles/cq8v73dkne3o',\n",
       " 'https://www.bbc.com/news/articles/c62zgd3kk50o',\n",
       " 'https://www.bbc.com/news/articles/cd605e48q1vo',\n",
       " 'https://www.bbc.com/news/articles/cz7qe2zr7ggo',\n",
       " 'https://www.bbc.com/news/articles/ckgxv7jk0z1o',\n",
       " 'https://www.bbc.com/news/articles/clygy87nleqo']"
      ]
     },
     "execution_count": 34,
     "metadata": {},
     "output_type": "execute_result"
    }
   ],
   "source": [
    "news_article_links"
   ]
  },
  {
   "cell_type": "markdown",
   "metadata": {},
   "source": [
    "### Complete Function"
   ]
  },
  {
   "cell_type": "code",
   "execution_count": 35,
   "metadata": {},
   "outputs": [],
   "source": [
    "def get_tech_news() -> List[str]:\n",
    "    try:\n",
    "        # constants\n",
    "        innovation_news_url = \"https://www.bbc.com/innovation\"\n",
    "        sub_news_categories = [\"technology\", \"science\", \"artificial-intelligence\", \"ai-v-the-mind\"]\n",
    "\n",
    "        news_article_links = []\n",
    "        \n",
    "        # Step 1: get all pages urls\n",
    "        for sub_news_category in sub_news_categories:\n",
    "            # innovation url\n",
    "            innovation_url = f\"{innovation_news_url}/{sub_news_category}\"\n",
    "\n",
    "            # print(f\"Requesting Page: {innovation_url}\")\n",
    "            # Step 2: Send request to get the source page\n",
    "            response = requests.get(innovation_url)\n",
    "\n",
    "            # Step 3: Parse the content of the webpage using BeautifulSoup\n",
    "            soup = BeautifulSoup(response.content, 'html.parser')\n",
    "\n",
    "            # Step 4: get the all urls\n",
    "            # print(f\"Total Links: {len(soup.find_all('a'))}\")\n",
    "\n",
    "            # Step 5: Filtering relevant urls\n",
    "            for link in soup.find_all('a'):\n",
    "                sub_link1 = \"/news/articles/\"\n",
    "                sub_link2 = \"/worklife/articles/\"\n",
    "\n",
    "                # print(link.get('href'))\n",
    "                if sub_link1 in link.get('href') or sub_link2 in link.get('href'):\n",
    "                    news_article_links.append(f\"https://www.bbc.com{link.get('href').split('#')[0]}\")\n",
    "                    # news_article_links.append(f\"https://www.bbc.com{link.get('href')}\")\n",
    "                    # print(link.get('href').split('#')[0])\n",
    "            # print()\n",
    "        \n",
    "        return news_article_links\n",
    "    except Exception as e:\n",
    "        raise e"
   ]
  },
  {
   "cell_type": "code",
   "execution_count": 36,
   "metadata": {},
   "outputs": [
    {
     "data": {
      "text/plain": [
       "['https://www.bbc.com/news/articles/cy7keddnj31o',\n",
       " 'https://www.bbc.com/news/articles/czd4jpdglzmo',\n",
       " 'https://www.bbc.com/news/articles/cje9p5gpj72o',\n",
       " 'https://www.bbc.com/news/articles/cgrwpvp9z4wo',\n",
       " 'https://www.bbc.com/news/articles/c9dp0qqe48po',\n",
       " 'https://www.bbc.com/news/articles/cr56e3vr3vno',\n",
       " 'https://www.bbc.com/news/articles/c1elddq34p7o',\n",
       " 'https://www.bbc.com/news/articles/cn8g24qn87no',\n",
       " 'https://www.bbc.com/news/articles/cdjg8kz8jj3o',\n",
       " 'https://www.bbc.com/news/articles/cvg7kxxjzzno',\n",
       " 'https://www.bbc.com/news/articles/c2kxpn2k08do',\n",
       " 'https://www.bbc.com/news/articles/ckgnj7e8028o',\n",
       " 'https://www.bbc.com/news/articles/c74x0j47gz8o',\n",
       " 'https://www.bbc.com/news/articles/cx2v778x85yo',\n",
       " 'https://www.bbc.com/news/articles/cn4xw9lx02xo',\n",
       " 'https://www.bbc.com/news/articles/cwyd99pkegpo',\n",
       " 'https://www.bbc.com/news/articles/c1d3y5zvxzeo',\n",
       " 'https://www.bbc.com/news/articles/cdr03vepjx4o',\n",
       " 'https://www.bbc.com/news/articles/cp31pk53k8lo',\n",
       " 'https://www.bbc.com/news/articles/c140exemgk7o',\n",
       " 'https://www.bbc.com/news/articles/cm2v1rl32j8o',\n",
       " 'https://www.bbc.com/news/articles/ckg8dg3ke40o',\n",
       " 'https://www.bbc.com/news/articles/c9q7wnzyyg8o',\n",
       " 'https://www.bbc.com/news/articles/cp3zllv6y15o',\n",
       " 'https://www.bbc.com/news/articles/c1ke8y7lg83o',\n",
       " 'https://www.bbc.com/news/articles/cx2pg7jp518o',\n",
       " 'https://www.bbc.com/news/articles/c0ewggnr7dxo',\n",
       " 'https://www.bbc.com/news/articles/c4gxqep4zk3o',\n",
       " 'https://www.bbc.com/news/articles/cm2evjxev4jo',\n",
       " 'https://www.bbc.com/news/articles/cwyxd1p98yro',\n",
       " 'https://www.bbc.com/news/articles/cdr0g1em52go',\n",
       " 'https://www.bbc.com/news/articles/cq8v1ww51vno',\n",
       " 'https://www.bbc.com/news/articles/crk4pm8xxx8o',\n",
       " 'https://www.bbc.com/news/articles/c745q8w25keo',\n",
       " 'https://www.bbc.com/news/articles/cj0rqz003zdo',\n",
       " 'https://www.bbc.com/news/articles/cd0elzk24dno',\n",
       " 'https://www.bbc.com/news/articles/cq8v73dkne3o',\n",
       " 'https://www.bbc.com/news/articles/c62zgd3kk50o',\n",
       " 'https://www.bbc.com/news/articles/cd605e48q1vo',\n",
       " 'https://www.bbc.com/news/articles/cz7qe2zr7ggo',\n",
       " 'https://www.bbc.com/news/articles/ckgxv7jk0z1o',\n",
       " 'https://www.bbc.com/news/articles/clygy87nleqo']"
      ]
     },
     "execution_count": 36,
     "metadata": {},
     "output_type": "execute_result"
    }
   ],
   "source": [
    "get_tech_news()"
   ]
  },
  {
   "cell_type": "markdown",
   "metadata": {},
   "source": [
    "## 4. Entertainment News Scrapping"
   ]
  },
  {
   "cell_type": "code",
   "execution_count": 37,
   "metadata": {},
   "outputs": [],
   "source": [
    "culture_news_url = \"https://www.bbc.com/culture\"\n",
    "\n",
    "film_tv_news_url = \"https://www.bbc.com/culture/film-tv\"\n",
    "music_news_url = \"https://www.bbc.com/culture/music\"\n",
    "atr_design_news_url = \"https://www.bbc.com/culture/art\"\n",
    "style_news_url = \"https://www.bbc.com/culture/style\"\n",
    "books_news_url = \"https://www.bbc.com/culture/books\"\n",
    "entertainment_news_url = \"https://www.bbc.com/culture/entertainment-news\""
   ]
  },
  {
   "cell_type": "code",
   "execution_count": 38,
   "metadata": {},
   "outputs": [],
   "source": [
    "# constants\n",
    "sub_news_categories = [\"film-tv\", \"music\", \"art\", \"style\", \"books\", \"entertainment-news\"]"
   ]
  },
  {
   "cell_type": "code",
   "execution_count": 39,
   "metadata": {},
   "outputs": [
    {
     "name": "stdout",
     "output_type": "stream",
     "text": [
      "film-tv news link:\t https://www.bbc.com/business/film-tv\n",
      "music news link:\t https://www.bbc.com/business/music\n",
      "art news link:\t https://www.bbc.com/business/art\n",
      "style news link:\t https://www.bbc.com/business/style\n",
      "books news link:\t https://www.bbc.com/business/books\n",
      "entertainment-news news link:\t https://www.bbc.com/business/entertainment-news\n"
     ]
    }
   ],
   "source": [
    "for sub in sub_news_categories:\n",
    "    print(f\"{sub} news link:\\t {business_news_url}/{sub}\")"
   ]
  },
  {
   "cell_type": "code",
   "execution_count": 40,
   "metadata": {},
   "outputs": [
    {
     "name": "stdout",
     "output_type": "stream",
     "text": [
      "Requesting Page: https://www.bbc.com/culture/film-tv\n",
      "Total Links: 164\n",
      "\n",
      "Requesting Page: https://www.bbc.com/culture/music\n",
      "Total Links: 161\n",
      "\n",
      "Requesting Page: https://www.bbc.com/culture/art\n",
      "Total Links: 161\n",
      "\n",
      "Requesting Page: https://www.bbc.com/culture/style\n",
      "Total Links: 141\n",
      "\n",
      "Requesting Page: https://www.bbc.com/culture/books\n",
      "Total Links: 151\n",
      "\n",
      "Requesting Page: https://www.bbc.com/culture/entertainment-news\n",
      "Total Links: 153\n",
      "\n"
     ]
    }
   ],
   "source": [
    "news_article_links = []\n",
    "# Step 1: get all pages urls\n",
    "for sub_news_category in sub_news_categories:\n",
    "    # news url\n",
    "    culture_url = f\"{culture_news_url}/{sub_news_category}\"\n",
    "\n",
    "    print(f\"Requesting Page: {culture_url}\")\n",
    "    # Step 2: Send request to get the source page\n",
    "    response = requests.get(culture_url)\n",
    "\n",
    "    # Step 3: Parse the content of the webpage using BeautifulSoup\n",
    "    soup = BeautifulSoup(response.content, 'html.parser')\n",
    "\n",
    "    # Step 4: get the all urls\n",
    "    print(f\"Total Links: {len(soup.find_all('a'))}\")\n",
    "\n",
    "    # Step 5: Filtering relevant urls\n",
    "    for link in soup.find_all('a'):\n",
    "        sub_link1 = \"/news/articles/\"\n",
    "        sub_link2 = \"/worklife/articles/\"\n",
    "\n",
    "        # print(link.get('href'))\n",
    "        if sub_link1 in link.get('href') or sub_link2 in link.get('href'):\n",
    "            news_article_links.append(f\"https://www.bbc.com{link.get('href').split('#')[0]}\")\n",
    "            # news_article_links.append(f\"https://www.bbc.com{link.get('href')}\")\n",
    "            # print(link.get('href').split('#')[0])\n",
    "    print()"
   ]
  },
  {
   "cell_type": "code",
   "execution_count": 41,
   "metadata": {},
   "outputs": [
    {
     "data": {
      "text/plain": [
       "['https://www.bbc.com/news/articles/czr3kj1nnypo',\n",
       " 'https://www.bbc.com/news/articles/cn08plvv45yo',\n",
       " 'https://www.bbc.com/news/articles/clygpjgpk4do',\n",
       " 'https://www.bbc.com/news/articles/cp31pk53k8lo',\n",
       " 'https://www.bbc.com/news/articles/cgrwpvp9z4wo',\n",
       " 'https://www.bbc.com/news/articles/crl3077699jo',\n",
       " 'https://www.bbc.com/news/articles/cx2nvp0kxx6o',\n",
       " 'https://www.bbc.com/news/articles/cdekxz2g630o',\n",
       " 'https://www.bbc.com/news/articles/c4gjdy5zxglo',\n",
       " 'https://www.bbc.com/news/articles/cdd6q5yzjq5o',\n",
       " 'https://www.bbc.com/news/articles/cvg90rx41v8o',\n",
       " 'https://www.bbc.com/news/articles/c8xj5gvlzn8o',\n",
       " 'https://www.bbc.com/news/articles/c159d35jq7zo',\n",
       " 'https://www.bbc.com/news/articles/cn08w15rr22o',\n",
       " 'https://www.bbc.com/news/articles/cgkxz7k27x1o',\n",
       " 'https://www.bbc.com/news/articles/cgj6pqd2v16o',\n",
       " 'https://www.bbc.com/news/articles/cx2y12lzn0go',\n",
       " 'https://www.bbc.com/news/articles/c786ydz84epo',\n",
       " 'https://www.bbc.com/news/articles/c981zyp9468o',\n",
       " 'https://www.bbc.com/news/articles/c623q4jr87lo',\n",
       " 'https://www.bbc.com/news/articles/c4glpl141x1o',\n",
       " 'https://www.bbc.com/news/articles/c0mvjrx7dg9o',\n",
       " 'https://www.bbc.com/news/articles/cvg7vwlg8rmo',\n",
       " 'https://www.bbc.com/news/articles/c2kxgg1kejdo',\n",
       " 'https://www.bbc.com/news/articles/cgrw0qnvl1go',\n",
       " 'https://www.bbc.com/news/articles/cy9q4l3gv0no',\n",
       " 'https://www.bbc.com/news/articles/c8jy3v2lpweo',\n",
       " 'https://www.bbc.com/news/articles/c8rjelr56m7o',\n",
       " 'https://www.bbc.com/news/articles/cm52kxmx01go',\n",
       " 'https://www.bbc.com/news/articles/cwyx0340p8yo',\n",
       " 'https://www.bbc.com/news/articles/cy0nq011j7ko',\n",
       " 'https://www.bbc.com/news/articles/cn85vy57l2xo',\n",
       " 'https://www.bbc.com/news/articles/cly4q9d5vx8o',\n",
       " 'https://www.bbc.com/news/articles/cj4vpd1yrdvo',\n",
       " 'https://www.bbc.com/news/articles/c7913qjn2v1o',\n",
       " 'https://www.bbc.com/news/articles/c20ell72x1qo',\n",
       " 'https://www.bbc.com/news/articles/cwy31nv72e7o',\n",
       " 'https://www.bbc.com/news/articles/cewxdx7j00ro',\n",
       " 'https://www.bbc.com/news/articles/cn7rv58ljpgo',\n",
       " 'https://www.bbc.com/news/articles/c390ve7d11lo',\n",
       " 'https://www.bbc.com/news/articles/cvgx1756eyvo',\n",
       " 'https://www.bbc.com/news/articles/c99xvn427nlo',\n",
       " 'https://www.bbc.com/news/articles/c3dxez91gy7o',\n",
       " 'https://www.bbc.com/news/articles/cdxzd6nexnvo',\n",
       " 'https://www.bbc.com/news/articles/cvg90yz4l1eo',\n",
       " 'https://www.bbc.com/news/articles/c78dy3pz0vvo',\n",
       " 'https://www.bbc.com/news/articles/ckg7l2j43l4o',\n",
       " 'https://www.bbc.com/news/articles/cj4vpd1yrdvo',\n",
       " 'https://www.bbc.com/news/articles/cy4pkypde42o',\n",
       " 'https://www.bbc.com/news/articles/c20elv4g695o',\n",
       " 'https://www.bbc.com/news/articles/cvg7dx9ve9jo',\n",
       " 'https://www.bbc.com/news/articles/c5y47ll01y2o',\n",
       " 'https://www.bbc.com/news/articles/cevj80gld7do',\n",
       " 'https://www.bbc.com/news/articles/cx2nxprm8ddo',\n",
       " 'https://www.bbc.com/news/articles/czr3kdn7pv3o',\n",
       " 'https://www.bbc.com/news/articles/c8dqy828dl3o',\n",
       " 'https://www.bbc.com/news/articles/cdj31gkwg83o',\n",
       " 'https://www.bbc.com/news/articles/cge922jn1z8o',\n",
       " 'https://www.bbc.com/news/articles/cj4vpd1yrdvo',\n",
       " 'https://www.bbc.com/news/articles/cn4x7e4054jo',\n",
       " 'https://www.bbc.com/news/articles/c0rn7lzne5ko',\n",
       " 'https://www.bbc.com/news/articles/c99xm49pj13o',\n",
       " 'https://www.bbc.com/news/articles/c2kxge1n8kgo',\n",
       " 'https://www.bbc.com/news/articles/ced8l7y8wz9o',\n",
       " 'https://www.bbc.com/news/articles/c9dpeqwl46jo',\n",
       " 'https://www.bbc.com/news/articles/cx2nde444d0o',\n",
       " 'https://www.bbc.com/news/articles/cx2y12lzn0go',\n",
       " 'https://www.bbc.com/news/articles/c1ln96d4yyeo',\n",
       " 'https://www.bbc.com/news/articles/c786ydz84epo',\n",
       " 'https://www.bbc.com/news/articles/c8dq8n1jn26o',\n",
       " 'https://www.bbc.com/news/articles/cx2y12lzn0go',\n",
       " 'https://www.bbc.com/news/articles/cgj6pqd2v16o',\n",
       " 'https://www.bbc.com/news/articles/cgkxz7k27x1o',\n",
       " 'https://www.bbc.com/news/articles/c1ln96d4yyeo',\n",
       " 'https://www.bbc.com/news/articles/cp31pk53k8lo',\n",
       " 'https://www.bbc.com/news/articles/cn85pd4jkx1o',\n",
       " 'https://www.bbc.com/news/articles/czd4jpdglzmo',\n",
       " 'https://www.bbc.com/news/articles/crl3077699jo',\n",
       " 'https://www.bbc.com/news/articles/cx2w10wy1jyo',\n",
       " 'https://www.bbc.com/news/articles/c981zyp9468o',\n",
       " 'https://www.bbc.com/news/articles/c9dp0qqe48po',\n",
       " 'https://www.bbc.com/news/articles/cz6jynn5w9no',\n",
       " 'https://www.bbc.com/news/articles/c8jy3v2lpweo',\n",
       " 'https://www.bbc.com/news/articles/cg52gz82ydqo',\n",
       " 'https://www.bbc.com/news/articles/cgkxz7k27x1o',\n",
       " 'https://www.bbc.com/news/articles/cgj6pqd2v16o',\n",
       " 'https://www.bbc.com/news/articles/cx2y12lzn0go',\n",
       " 'https://www.bbc.com/news/articles/c981zyp9468o',\n",
       " 'https://www.bbc.com/news/articles/cx2nvp0kxx6o',\n",
       " 'https://www.bbc.com/news/articles/cdd6q5yzjq5o',\n",
       " 'https://www.bbc.com/news/articles/c4gp620lj81o']"
      ]
     },
     "execution_count": 41,
     "metadata": {},
     "output_type": "execute_result"
    }
   ],
   "source": [
    "news_article_links"
   ]
  },
  {
   "cell_type": "markdown",
   "metadata": {},
   "source": [
    "### Complete Function"
   ]
  },
  {
   "cell_type": "code",
   "execution_count": 42,
   "metadata": {},
   "outputs": [],
   "source": [
    "def get_entertainment_news() -> List[str]:\n",
    "    try:\n",
    "        # constants\n",
    "        culture_news_url = \"https://www.bbc.com/culture\"\n",
    "        sub_news_categories = [\"film-tv\", \"music\", \"art\", \"style\", \"books\", \"entertainment-news\"]\n",
    "\n",
    "        news_article_links = []\n",
    "        \n",
    "        # Step 1: get all pages urls\n",
    "        for sub_news_category in sub_news_categories:\n",
    "            # news url\n",
    "            culture_url = f\"{culture_news_url}/{sub_news_category}\"\n",
    "\n",
    "            # print(f\"Requesting Page: {culture_url}\")\n",
    "            # Step 2: Send request to get the source page\n",
    "            response = requests.get(culture_url)\n",
    "\n",
    "            # Step 3: Parse the content of the webpage using BeautifulSoup\n",
    "            soup = BeautifulSoup(response.content, 'html.parser')\n",
    "\n",
    "            # Step 4: get the all urls\n",
    "            # print(f\"Total Links: {len(soup.find_all('a'))}\")\n",
    "\n",
    "            # Step 5: Filtering relevant urls\n",
    "            for link in soup.find_all('a'):\n",
    "                sub_link1 = \"/news/articles/\"\n",
    "                sub_link2 = \"/worklife/articles/\"\n",
    "\n",
    "                # print(link.get('href'))\n",
    "                if sub_link1 in link.get('href') or sub_link2 in link.get('href'):\n",
    "                    news_article_links.append(f\"https://www.bbc.com{link.get('href').split('#')[0]}\")\n",
    "                    # news_article_links.append(f\"https://www.bbc.com{link.get('href')}\")\n",
    "                    # print(link.get('href').split('#')[0])\n",
    "            # print()\n",
    "        \n",
    "        return news_article_links\n",
    "    except Exception as e:\n",
    "        raise e"
   ]
  },
  {
   "cell_type": "code",
   "execution_count": 43,
   "metadata": {},
   "outputs": [
    {
     "data": {
      "text/plain": [
       "['https://www.bbc.com/news/articles/czr3kj1nnypo',\n",
       " 'https://www.bbc.com/news/articles/cn08plvv45yo',\n",
       " 'https://www.bbc.com/news/articles/clygpjgpk4do',\n",
       " 'https://www.bbc.com/news/articles/cp31pk53k8lo',\n",
       " 'https://www.bbc.com/news/articles/cgrwpvp9z4wo',\n",
       " 'https://www.bbc.com/news/articles/crl3077699jo',\n",
       " 'https://www.bbc.com/news/articles/cx2nvp0kxx6o',\n",
       " 'https://www.bbc.com/news/articles/cdekxz2g630o',\n",
       " 'https://www.bbc.com/news/articles/c4gjdy5zxglo',\n",
       " 'https://www.bbc.com/news/articles/cdd6q5yzjq5o',\n",
       " 'https://www.bbc.com/news/articles/cvg90rx41v8o',\n",
       " 'https://www.bbc.com/news/articles/c8xj5gvlzn8o',\n",
       " 'https://www.bbc.com/news/articles/c159d35jq7zo',\n",
       " 'https://www.bbc.com/news/articles/cn08w15rr22o',\n",
       " 'https://www.bbc.com/news/articles/cgkxz7k27x1o',\n",
       " 'https://www.bbc.com/news/articles/cgj6pqd2v16o',\n",
       " 'https://www.bbc.com/news/articles/cx2y12lzn0go',\n",
       " 'https://www.bbc.com/news/articles/c786ydz84epo',\n",
       " 'https://www.bbc.com/news/articles/c981zyp9468o',\n",
       " 'https://www.bbc.com/news/articles/c623q4jr87lo',\n",
       " 'https://www.bbc.com/news/articles/c4glpl141x1o',\n",
       " 'https://www.bbc.com/news/articles/c0mvjrx7dg9o',\n",
       " 'https://www.bbc.com/news/articles/cvg7vwlg8rmo',\n",
       " 'https://www.bbc.com/news/articles/c2kxgg1kejdo',\n",
       " 'https://www.bbc.com/news/articles/cgrw0qnvl1go',\n",
       " 'https://www.bbc.com/news/articles/cy9q4l3gv0no',\n",
       " 'https://www.bbc.com/news/articles/c8jy3v2lpweo',\n",
       " 'https://www.bbc.com/news/articles/c8rjelr56m7o',\n",
       " 'https://www.bbc.com/news/articles/cm52kxmx01go',\n",
       " 'https://www.bbc.com/news/articles/cwyx0340p8yo',\n",
       " 'https://www.bbc.com/news/articles/cy0nq011j7ko',\n",
       " 'https://www.bbc.com/news/articles/cn85vy57l2xo',\n",
       " 'https://www.bbc.com/news/articles/cly4q9d5vx8o',\n",
       " 'https://www.bbc.com/news/articles/cj4vpd1yrdvo',\n",
       " 'https://www.bbc.com/news/articles/c7913qjn2v1o',\n",
       " 'https://www.bbc.com/news/articles/c20ell72x1qo',\n",
       " 'https://www.bbc.com/news/articles/cwy31nv72e7o',\n",
       " 'https://www.bbc.com/news/articles/cewxdx7j00ro',\n",
       " 'https://www.bbc.com/news/articles/cn7rv58ljpgo',\n",
       " 'https://www.bbc.com/news/articles/c390ve7d11lo',\n",
       " 'https://www.bbc.com/news/articles/cvgx1756eyvo',\n",
       " 'https://www.bbc.com/news/articles/c99xvn427nlo',\n",
       " 'https://www.bbc.com/news/articles/c3dxez91gy7o',\n",
       " 'https://www.bbc.com/news/articles/cdxzd6nexnvo',\n",
       " 'https://www.bbc.com/news/articles/cvg90yz4l1eo',\n",
       " 'https://www.bbc.com/news/articles/c78dy3pz0vvo',\n",
       " 'https://www.bbc.com/news/articles/ckg7l2j43l4o',\n",
       " 'https://www.bbc.com/news/articles/cj4vpd1yrdvo',\n",
       " 'https://www.bbc.com/news/articles/cy4pkypde42o',\n",
       " 'https://www.bbc.com/news/articles/c20elv4g695o',\n",
       " 'https://www.bbc.com/news/articles/cvg7dx9ve9jo',\n",
       " 'https://www.bbc.com/news/articles/c5y47ll01y2o',\n",
       " 'https://www.bbc.com/news/articles/cevj80gld7do',\n",
       " 'https://www.bbc.com/news/articles/cx2nxprm8ddo',\n",
       " 'https://www.bbc.com/news/articles/czr3kdn7pv3o',\n",
       " 'https://www.bbc.com/news/articles/c8dqy828dl3o',\n",
       " 'https://www.bbc.com/news/articles/cdj31gkwg83o',\n",
       " 'https://www.bbc.com/news/articles/cge922jn1z8o',\n",
       " 'https://www.bbc.com/news/articles/cj4vpd1yrdvo',\n",
       " 'https://www.bbc.com/news/articles/cn4x7e4054jo',\n",
       " 'https://www.bbc.com/news/articles/c0rn7lzne5ko',\n",
       " 'https://www.bbc.com/news/articles/c99xm49pj13o',\n",
       " 'https://www.bbc.com/news/articles/c2kxge1n8kgo',\n",
       " 'https://www.bbc.com/news/articles/ced8l7y8wz9o',\n",
       " 'https://www.bbc.com/news/articles/c9dpeqwl46jo',\n",
       " 'https://www.bbc.com/news/articles/cx2nde444d0o',\n",
       " 'https://www.bbc.com/news/articles/cx2y12lzn0go',\n",
       " 'https://www.bbc.com/news/articles/c1ln96d4yyeo',\n",
       " 'https://www.bbc.com/news/articles/c786ydz84epo',\n",
       " 'https://www.bbc.com/news/articles/c8dq8n1jn26o',\n",
       " 'https://www.bbc.com/news/articles/cx2y12lzn0go',\n",
       " 'https://www.bbc.com/news/articles/cgj6pqd2v16o',\n",
       " 'https://www.bbc.com/news/articles/cgkxz7k27x1o',\n",
       " 'https://www.bbc.com/news/articles/c1ln96d4yyeo',\n",
       " 'https://www.bbc.com/news/articles/cp31pk53k8lo',\n",
       " 'https://www.bbc.com/news/articles/cn85pd4jkx1o',\n",
       " 'https://www.bbc.com/news/articles/czd4jpdglzmo',\n",
       " 'https://www.bbc.com/news/articles/crl3077699jo',\n",
       " 'https://www.bbc.com/news/articles/cx2w10wy1jyo',\n",
       " 'https://www.bbc.com/news/articles/c981zyp9468o',\n",
       " 'https://www.bbc.com/news/articles/c9dp0qqe48po',\n",
       " 'https://www.bbc.com/news/articles/cz6jynn5w9no',\n",
       " 'https://www.bbc.com/news/articles/c8jy3v2lpweo',\n",
       " 'https://www.bbc.com/news/articles/cg52gz82ydqo',\n",
       " 'https://www.bbc.com/news/articles/cgkxz7k27x1o',\n",
       " 'https://www.bbc.com/news/articles/cgj6pqd2v16o',\n",
       " 'https://www.bbc.com/news/articles/cx2y12lzn0go',\n",
       " 'https://www.bbc.com/news/articles/c981zyp9468o',\n",
       " 'https://www.bbc.com/news/articles/cx2nvp0kxx6o',\n",
       " 'https://www.bbc.com/news/articles/cdd6q5yzjq5o',\n",
       " 'https://www.bbc.com/news/articles/c4gp620lj81o']"
      ]
     },
     "execution_count": 43,
     "metadata": {},
     "output_type": "execute_result"
    }
   ],
   "source": [
    "get_entertainment_news()"
   ]
  },
  {
   "cell_type": "markdown",
   "metadata": {},
   "source": [
    "# Data Ingestion"
   ]
  },
  {
   "cell_type": "code",
   "execution_count": 1,
   "metadata": {},
   "outputs": [],
   "source": [
    "import os"
   ]
  },
  {
   "cell_type": "code",
   "execution_count": 2,
   "metadata": {},
   "outputs": [
    {
     "data": {
      "text/plain": [
       "'/Users/rahulshelke/Documents/Data-Science/Data-Science-Projects/bbc-news-sorting/notebooks'"
      ]
     },
     "execution_count": 2,
     "metadata": {},
     "output_type": "execute_result"
    }
   ],
   "source": [
    "%pwd"
   ]
  },
  {
   "cell_type": "code",
   "execution_count": 3,
   "metadata": {},
   "outputs": [],
   "source": [
    "os.chdir(\"../\")"
   ]
  },
  {
   "cell_type": "code",
   "execution_count": 4,
   "metadata": {},
   "outputs": [
    {
     "data": {
      "text/plain": [
       "'/Users/rahulshelke/Documents/Data-Science/Data-Science-Projects/bbc-news-sorting'"
      ]
     },
     "execution_count": 4,
     "metadata": {},
     "output_type": "execute_result"
    }
   ],
   "source": [
    "%pwd"
   ]
  },
  {
   "cell_type": "code",
   "execution_count": 5,
   "metadata": {},
   "outputs": [],
   "source": [
    "from dataclasses import dataclass\n",
    "from pathlib import Path\n",
    "\n",
    "@dataclass(frozen=True)\n",
    "class DataIngetsionConfig:\n",
    "    root_dir: Path\n",
    "    source_URL: str\n",
    "    local_data_file: Path\n",
    "    unzip_dir: Path"
   ]
  },
  {
   "cell_type": "code",
   "execution_count": 6,
   "metadata": {},
   "outputs": [],
   "source": [
    "from src.news_sorting_project.constants import *\n",
    "from src.news_sorting_project.utils.common import read_yaml, create_directories"
   ]
  },
  {
   "cell_type": "code",
   "execution_count": 7,
   "metadata": {},
   "outputs": [],
   "source": [
    "class CofigurationManager:\n",
    "    def __init__(\n",
    "            self,\n",
    "            config_filepath = CONFIG_FILE_PATH,\n",
    "            params_filepath = PARAMS_FILE_PATH,\n",
    "    ):\n",
    "        self.config = read_yaml(config_filepath)\n",
    "        self.params = read_yaml(params_filepath)\n",
    "\n",
    "        create_directories([self.config.artifacts_root])\n",
    "\n",
    "    def get_data_ingestion_config(self) -> DataIngetsionConfig:\n",
    "        config = self.config.data_ingestion\n",
    "\n",
    "        create_directories([config.root_dir])\n",
    "\n",
    "        data_ingestion_config = DataIngetsionConfig(\n",
    "            root_dir=config.root_dir,\n",
    "            source_URL=config.source_URL,\n",
    "            local_data_file=config.local_data_file,\n",
    "            unzip_dir=config.unzip_dir\n",
    "        )\n",
    "\n",
    "        return data_ingestion_config"
   ]
  },
  {
   "cell_type": "code",
   "execution_count": 8,
   "metadata": {},
   "outputs": [
    {
     "data": {
      "text/plain": [
       "True"
      ]
     },
     "execution_count": 8,
     "metadata": {},
     "output_type": "execute_result"
    }
   ],
   "source": [
    "import os\n",
    "import boto3\n",
    "import urllib.request as request\n",
    "import zipfile\n",
    "from src.news_sorting_project.utils.common import get_size\n",
    "from src.news_sorting_project import logger\n",
    "from dotenv import load_dotenv\n",
    "import os\n",
    "load_dotenv()"
   ]
  },
  {
   "cell_type": "code",
   "execution_count": 9,
   "metadata": {},
   "outputs": [],
   "source": [
    "# Retrieve the credentials from environment variables\n",
    "aws_access_key_id = os.getenv(\"AWS_ACCESS_KEY_ID\")\n",
    "aws_secret_access_key = os.getenv(\"AWS_SECRET_ACCESS_KEY\")\n",
    "aws_default_region = os.getenv(\"AWS_DEFAULT_REGION\")\n",
    "# Define the S3 bucket and object\n",
    "bucket_name = os.getenv(\"AWS_BUCKET_NAME\")\n",
    "object_key = os.getenv(\"AWS_OBJECT_KEY\")"
   ]
  },
  {
   "cell_type": "code",
   "execution_count": 10,
   "metadata": {},
   "outputs": [],
   "source": [
    "class DataIngetsion:\n",
    "    def __init__(self, config: DataIngetsionConfig):\n",
    "        self.config = config\n",
    "\n",
    "    def download_file(self):\n",
    "        if not os.path.exists(self.config.local_data_file):\n",
    "            # Initialize a session using Boto3 with the credentials from the environment\n",
    "            s3_client = boto3.client(\n",
    "                's3',\n",
    "                aws_access_key_id=aws_access_key_id,\n",
    "                aws_secret_access_key=aws_secret_access_key,\n",
    "                region_name=aws_default_region\n",
    "            )\n",
    "\n",
    "            s3_client.download_file(bucket_name, object_key, self.config.local_data_file)\n",
    "\n",
    "            logger.info(f\"{object_key} download! with following info: \\n{get_size(Path(self.config.local_data_file))}\")\n",
    "        else:\n",
    "            logger.info(f\"File already exists of size: {get_size(Path(self.config.local_data_file))}\")\n",
    "\n",
    "    def extract_zip_file(self):\n",
    "        \"\"\" \n",
    "        zip_file_path: str\n",
    "        Extract the zip file into the data directory\n",
    "        Function returns None\n",
    "        \"\"\"\n",
    "        unzip_path = self.config.unzip_dir\n",
    "        os.makedirs(unzip_path, exist_ok=True)\n",
    "        with zipfile.ZipFile(self.config.local_data_file, 'r') as zip_ref:\n",
    "            zip_ref.extractall(unzip_path)"
   ]
  },
  {
   "cell_type": "code",
   "execution_count": 11,
   "metadata": {},
   "outputs": [],
   "source": [
    "try:\n",
    "    config = CofigurationManager()\n",
    "    data_ingestion_config = config.get_data_ingestion_config()\n",
    "    data_ingestion = DataIngetsion(config=data_ingestion_config)\n",
    "    data_ingestion.download_file()\n",
    "    data_ingestion.extract_zip_file()\n",
    "except Exception as e:\n",
    "    raise e"
   ]
  },
  {
   "cell_type": "code",
   "execution_count": null,
   "metadata": {},
   "outputs": [],
   "source": []
  }
 ],
 "metadata": {
  "kernelspec": {
   "display_name": "venv",
   "language": "python",
   "name": "python3"
  },
  "language_info": {
   "codemirror_mode": {
    "name": "ipython",
    "version": 3
   },
   "file_extension": ".py",
   "mimetype": "text/x-python",
   "name": "python",
   "nbconvert_exporter": "python",
   "pygments_lexer": "ipython3",
   "version": "3.8.20"
  }
 },
 "nbformat": 4,
 "nbformat_minor": 2
}
