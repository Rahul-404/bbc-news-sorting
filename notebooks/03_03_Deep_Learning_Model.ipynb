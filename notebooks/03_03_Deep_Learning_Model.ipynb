{
  "nbformat": 4,
  "nbformat_minor": 0,
  "metadata": {
    "colab": {
      "provenance": [],
      "toc_visible": true
    },
    "kernelspec": {
      "name": "python3",
      "display_name": "Python 3"
    },
    "language_info": {
      "name": "python"
    }
  },
  "cells": [
    {
      "cell_type": "markdown",
      "source": [
        "## 1.Importing Packages"
      ],
      "metadata": {
        "id": "jpZtOV84IlmE"
      }
    },
    {
      "cell_type": "code",
      "execution_count": 1,
      "metadata": {
        "id": "lZFch2xsH4nc"
      },
      "outputs": [],
      "source": [
        "import re\n",
        "import os\n",
        "import random\n",
        "import pickle\n",
        "import pandas as pd\n",
        "import numpy as np\n",
        "import seaborn as sns\n",
        "# import mlflow\n",
        "from datetime import datetime\n",
        "import matplotlib.pyplot as plt\n",
        "from sklearn.metrics import classification_report\n",
        "from sklearn.model_selection import train_test_split, StratifiedKFold\n",
        "from sklearn.metrics import f1_score\n",
        "\n",
        "import tensorflow as tf\n",
        "from tensorflow.keras import layers\n",
        "from tensorflow.keras.preprocessing.text import one_hot\n",
        "from tensorflow.keras.preprocessing.text import Tokenizer\n",
        "from tensorflow.keras.preprocessing.sequence import pad_sequences\n",
        "from tensorflow.keras.models import Sequential,Model, load_model\n",
        "\n",
        "from tensorflow.keras.backend import clear_session\n",
        "from tensorflow.keras.callbacks import ModelCheckpoint\n",
        "from tensorflow.keras.callbacks import ReduceLROnPlateau"
      ]
    },
    {
      "cell_type": "markdown",
      "source": [
        "## 2.Loading Data"
      ],
      "metadata": {
        "id": "TmgVeZCWJiL_"
      }
    },
    {
      "cell_type": "code",
      "source": [
        "DATA_PATH = \"/content/drive/MyDrive/Data Science/NLP Problems/04_Text_Classification/BBC News Classification/dataset\""
      ],
      "metadata": {
        "id": "PK5xMPvAKPAl"
      },
      "execution_count": 2,
      "outputs": []
    },
    {
      "cell_type": "code",
      "source": [
        "df = pd.read_csv(os.path.join(DATA_PATH, \"train_clean_data.csv\"),\n",
        "                 usecols = ['clean_text', 'Label'])\n",
        "df.head()"
      ],
      "metadata": {
        "colab": {
          "base_uri": "https://localhost:8080/",
          "height": 206
        },
        "id": "K44M0XwwJfBP",
        "outputId": "cbc5ba23-181d-49e9-e172-a8d01b53452a"
      },
      "execution_count": 3,
      "outputs": [
        {
          "output_type": "execute_result",
          "data": {
            "text/plain": [
              "                                          clean_text  Label\n",
              "0  worldcom ex boss launches defence lawyers defe...      0\n",
              "1  german business confidence slides german busin...      0\n",
              "2  bbc poll indicates economic gloom citizens maj...      0\n",
              "3  lifestyle governs mobile choice faster better ...      1\n",
              "4  enron bosses payout eighteen former enron dire...      0"
            ],
            "text/html": [
              "\n",
              "  <div id=\"df-99cb1739-3517-4aa2-bb59-1f6b9a81c980\" class=\"colab-df-container\">\n",
              "    <div>\n",
              "<style scoped>\n",
              "    .dataframe tbody tr th:only-of-type {\n",
              "        vertical-align: middle;\n",
              "    }\n",
              "\n",
              "    .dataframe tbody tr th {\n",
              "        vertical-align: top;\n",
              "    }\n",
              "\n",
              "    .dataframe thead th {\n",
              "        text-align: right;\n",
              "    }\n",
              "</style>\n",
              "<table border=\"1\" class=\"dataframe\">\n",
              "  <thead>\n",
              "    <tr style=\"text-align: right;\">\n",
              "      <th></th>\n",
              "      <th>clean_text</th>\n",
              "      <th>Label</th>\n",
              "    </tr>\n",
              "  </thead>\n",
              "  <tbody>\n",
              "    <tr>\n",
              "      <th>0</th>\n",
              "      <td>worldcom ex boss launches defence lawyers defe...</td>\n",
              "      <td>0</td>\n",
              "    </tr>\n",
              "    <tr>\n",
              "      <th>1</th>\n",
              "      <td>german business confidence slides german busin...</td>\n",
              "      <td>0</td>\n",
              "    </tr>\n",
              "    <tr>\n",
              "      <th>2</th>\n",
              "      <td>bbc poll indicates economic gloom citizens maj...</td>\n",
              "      <td>0</td>\n",
              "    </tr>\n",
              "    <tr>\n",
              "      <th>3</th>\n",
              "      <td>lifestyle governs mobile choice faster better ...</td>\n",
              "      <td>1</td>\n",
              "    </tr>\n",
              "    <tr>\n",
              "      <th>4</th>\n",
              "      <td>enron bosses payout eighteen former enron dire...</td>\n",
              "      <td>0</td>\n",
              "    </tr>\n",
              "  </tbody>\n",
              "</table>\n",
              "</div>\n",
              "    <div class=\"colab-df-buttons\">\n",
              "\n",
              "  <div class=\"colab-df-container\">\n",
              "    <button class=\"colab-df-convert\" onclick=\"convertToInteractive('df-99cb1739-3517-4aa2-bb59-1f6b9a81c980')\"\n",
              "            title=\"Convert this dataframe to an interactive table.\"\n",
              "            style=\"display:none;\">\n",
              "\n",
              "  <svg xmlns=\"http://www.w3.org/2000/svg\" height=\"24px\" viewBox=\"0 -960 960 960\">\n",
              "    <path d=\"M120-120v-720h720v720H120Zm60-500h600v-160H180v160Zm220 220h160v-160H400v160Zm0 220h160v-160H400v160ZM180-400h160v-160H180v160Zm440 0h160v-160H620v160ZM180-180h160v-160H180v160Zm440 0h160v-160H620v160Z\"/>\n",
              "  </svg>\n",
              "    </button>\n",
              "\n",
              "  <style>\n",
              "    .colab-df-container {\n",
              "      display:flex;\n",
              "      gap: 12px;\n",
              "    }\n",
              "\n",
              "    .colab-df-convert {\n",
              "      background-color: #E8F0FE;\n",
              "      border: none;\n",
              "      border-radius: 50%;\n",
              "      cursor: pointer;\n",
              "      display: none;\n",
              "      fill: #1967D2;\n",
              "      height: 32px;\n",
              "      padding: 0 0 0 0;\n",
              "      width: 32px;\n",
              "    }\n",
              "\n",
              "    .colab-df-convert:hover {\n",
              "      background-color: #E2EBFA;\n",
              "      box-shadow: 0px 1px 2px rgba(60, 64, 67, 0.3), 0px 1px 3px 1px rgba(60, 64, 67, 0.15);\n",
              "      fill: #174EA6;\n",
              "    }\n",
              "\n",
              "    .colab-df-buttons div {\n",
              "      margin-bottom: 4px;\n",
              "    }\n",
              "\n",
              "    [theme=dark] .colab-df-convert {\n",
              "      background-color: #3B4455;\n",
              "      fill: #D2E3FC;\n",
              "    }\n",
              "\n",
              "    [theme=dark] .colab-df-convert:hover {\n",
              "      background-color: #434B5C;\n",
              "      box-shadow: 0px 1px 3px 1px rgba(0, 0, 0, 0.15);\n",
              "      filter: drop-shadow(0px 1px 2px rgba(0, 0, 0, 0.3));\n",
              "      fill: #FFFFFF;\n",
              "    }\n",
              "  </style>\n",
              "\n",
              "    <script>\n",
              "      const buttonEl =\n",
              "        document.querySelector('#df-99cb1739-3517-4aa2-bb59-1f6b9a81c980 button.colab-df-convert');\n",
              "      buttonEl.style.display =\n",
              "        google.colab.kernel.accessAllowed ? 'block' : 'none';\n",
              "\n",
              "      async function convertToInteractive(key) {\n",
              "        const element = document.querySelector('#df-99cb1739-3517-4aa2-bb59-1f6b9a81c980');\n",
              "        const dataTable =\n",
              "          await google.colab.kernel.invokeFunction('convertToInteractive',\n",
              "                                                    [key], {});\n",
              "        if (!dataTable) return;\n",
              "\n",
              "        const docLinkHtml = 'Like what you see? Visit the ' +\n",
              "          '<a target=\"_blank\" href=https://colab.research.google.com/notebooks/data_table.ipynb>data table notebook</a>'\n",
              "          + ' to learn more about interactive tables.';\n",
              "        element.innerHTML = '';\n",
              "        dataTable['output_type'] = 'display_data';\n",
              "        await google.colab.output.renderOutput(dataTable, element);\n",
              "        const docLink = document.createElement('div');\n",
              "        docLink.innerHTML = docLinkHtml;\n",
              "        element.appendChild(docLink);\n",
              "      }\n",
              "    </script>\n",
              "  </div>\n",
              "\n",
              "\n",
              "<div id=\"df-70d6abc4-b06a-47cc-81d8-0ea943340fd8\">\n",
              "  <button class=\"colab-df-quickchart\" onclick=\"quickchart('df-70d6abc4-b06a-47cc-81d8-0ea943340fd8')\"\n",
              "            title=\"Suggest charts\"\n",
              "            style=\"display:none;\">\n",
              "\n",
              "<svg xmlns=\"http://www.w3.org/2000/svg\" height=\"24px\"viewBox=\"0 0 24 24\"\n",
              "     width=\"24px\">\n",
              "    <g>\n",
              "        <path d=\"M19 3H5c-1.1 0-2 .9-2 2v14c0 1.1.9 2 2 2h14c1.1 0 2-.9 2-2V5c0-1.1-.9-2-2-2zM9 17H7v-7h2v7zm4 0h-2V7h2v10zm4 0h-2v-4h2v4z\"/>\n",
              "    </g>\n",
              "</svg>\n",
              "  </button>\n",
              "\n",
              "<style>\n",
              "  .colab-df-quickchart {\n",
              "      --bg-color: #E8F0FE;\n",
              "      --fill-color: #1967D2;\n",
              "      --hover-bg-color: #E2EBFA;\n",
              "      --hover-fill-color: #174EA6;\n",
              "      --disabled-fill-color: #AAA;\n",
              "      --disabled-bg-color: #DDD;\n",
              "  }\n",
              "\n",
              "  [theme=dark] .colab-df-quickchart {\n",
              "      --bg-color: #3B4455;\n",
              "      --fill-color: #D2E3FC;\n",
              "      --hover-bg-color: #434B5C;\n",
              "      --hover-fill-color: #FFFFFF;\n",
              "      --disabled-bg-color: #3B4455;\n",
              "      --disabled-fill-color: #666;\n",
              "  }\n",
              "\n",
              "  .colab-df-quickchart {\n",
              "    background-color: var(--bg-color);\n",
              "    border: none;\n",
              "    border-radius: 50%;\n",
              "    cursor: pointer;\n",
              "    display: none;\n",
              "    fill: var(--fill-color);\n",
              "    height: 32px;\n",
              "    padding: 0;\n",
              "    width: 32px;\n",
              "  }\n",
              "\n",
              "  .colab-df-quickchart:hover {\n",
              "    background-color: var(--hover-bg-color);\n",
              "    box-shadow: 0 1px 2px rgba(60, 64, 67, 0.3), 0 1px 3px 1px rgba(60, 64, 67, 0.15);\n",
              "    fill: var(--button-hover-fill-color);\n",
              "  }\n",
              "\n",
              "  .colab-df-quickchart-complete:disabled,\n",
              "  .colab-df-quickchart-complete:disabled:hover {\n",
              "    background-color: var(--disabled-bg-color);\n",
              "    fill: var(--disabled-fill-color);\n",
              "    box-shadow: none;\n",
              "  }\n",
              "\n",
              "  .colab-df-spinner {\n",
              "    border: 2px solid var(--fill-color);\n",
              "    border-color: transparent;\n",
              "    border-bottom-color: var(--fill-color);\n",
              "    animation:\n",
              "      spin 1s steps(1) infinite;\n",
              "  }\n",
              "\n",
              "  @keyframes spin {\n",
              "    0% {\n",
              "      border-color: transparent;\n",
              "      border-bottom-color: var(--fill-color);\n",
              "      border-left-color: var(--fill-color);\n",
              "    }\n",
              "    20% {\n",
              "      border-color: transparent;\n",
              "      border-left-color: var(--fill-color);\n",
              "      border-top-color: var(--fill-color);\n",
              "    }\n",
              "    30% {\n",
              "      border-color: transparent;\n",
              "      border-left-color: var(--fill-color);\n",
              "      border-top-color: var(--fill-color);\n",
              "      border-right-color: var(--fill-color);\n",
              "    }\n",
              "    40% {\n",
              "      border-color: transparent;\n",
              "      border-right-color: var(--fill-color);\n",
              "      border-top-color: var(--fill-color);\n",
              "    }\n",
              "    60% {\n",
              "      border-color: transparent;\n",
              "      border-right-color: var(--fill-color);\n",
              "    }\n",
              "    80% {\n",
              "      border-color: transparent;\n",
              "      border-right-color: var(--fill-color);\n",
              "      border-bottom-color: var(--fill-color);\n",
              "    }\n",
              "    90% {\n",
              "      border-color: transparent;\n",
              "      border-bottom-color: var(--fill-color);\n",
              "    }\n",
              "  }\n",
              "</style>\n",
              "\n",
              "  <script>\n",
              "    async function quickchart(key) {\n",
              "      const quickchartButtonEl =\n",
              "        document.querySelector('#' + key + ' button');\n",
              "      quickchartButtonEl.disabled = true;  // To prevent multiple clicks.\n",
              "      quickchartButtonEl.classList.add('colab-df-spinner');\n",
              "      try {\n",
              "        const charts = await google.colab.kernel.invokeFunction(\n",
              "            'suggestCharts', [key], {});\n",
              "      } catch (error) {\n",
              "        console.error('Error during call to suggestCharts:', error);\n",
              "      }\n",
              "      quickchartButtonEl.classList.remove('colab-df-spinner');\n",
              "      quickchartButtonEl.classList.add('colab-df-quickchart-complete');\n",
              "    }\n",
              "    (() => {\n",
              "      let quickchartButtonEl =\n",
              "        document.querySelector('#df-70d6abc4-b06a-47cc-81d8-0ea943340fd8 button');\n",
              "      quickchartButtonEl.style.display =\n",
              "        google.colab.kernel.accessAllowed ? 'block' : 'none';\n",
              "    })();\n",
              "  </script>\n",
              "</div>\n",
              "\n",
              "    </div>\n",
              "  </div>\n"
            ],
            "application/vnd.google.colaboratory.intrinsic+json": {
              "type": "dataframe",
              "variable_name": "df",
              "summary": "{\n  \"name\": \"df\",\n  \"rows\": 1490,\n  \"fields\": [\n    {\n      \"column\": \"clean_text\",\n      \"properties\": {\n        \"dtype\": \"string\",\n        \"num_unique_values\": 1437,\n        \"samples\": [\n          \"brown targets oaps homebuyers gordon brown doubled level house buyers pay stamp duty put economy heart labour election campaign chancellor also unveiled one council tax refund pensioners rise child tax credit mr brown put p pint beer p bottle wine p cigarettes froze petrol duty september tories called vote pay later budget lib dems branded sticking plaster election tory leader michael howard predicted budget would nothing help labour faltering election campaign government chancellor run solutions problems britain faces mr howard told mps answer tax spend waste get people vote pay later ended response election challenge labour saying bring liberal democrat leader charles kennedy attacked mr brown failing mention environment record social justice right britain today poorest pay tax proportion income richest asked mr kennedy criticised mr brown failing mention ticking bomb council tax revaluation saying high time system replaced local tax based ability pay minute speech mr brown told mps defied pundits hitting growth target said budget struck balance tax cuts affordable investments essential stability paramount rejected across board tax cuts favour targeted help families child tax credit rise line earnings giving families extra week contrast personal income tax allowance rise line inflation next month mr brown told mps child benefit would rise maximum week first child two children despite giveaways budget documents show mr brown clawed back clampdown tax avoidance increased revenue windfall tax oil companies also scrapped stamp duty relief commercial property disadvantaged areas measure brought three years ago bbc political editor andrew marr suggested sweeteners big enough transforming effect voters trust mr brown economic stewardship would central election issue said mr brown also unveiled plans memorial queen mother funded special coin celebrate queen th birthday measures include equal tax status sex couples deal council mortgage lenders boost low cost home ownership level people start paying inheritance tax also rise april mr brown said met financial golden rule surplus said public borrowing would continue fall next five years economy grown consecutive quarters said forecast continue next year forecast first value money savings identified gershon review achieved chancellor said civil servant posts axed relocated south east england added snp leader alex salmond said mr brown failed tartan test measures boost scottish economy simon thomas plaid cymru called budget middle england uk independence party leader roger knapman attacked plans pensioners saying needed money dignity allowed spend want free bus rides green party said budget wasted opportunity environmental protection adding brown obviously eye coming election taken eye needs planet\",\n          \"blunkett unveils policing plans people could given mobile phone number local bobby overhaul policing england wales unveiled david blunkett plans include dedicated policing team neighbourhood point compulsory customer charter home secretary said targets would put place ensure public got good response police local people would also able trigger action specific problems felt nothing done local councillors would show certain conditions met invoking power police could refuse request complaints frivolous would cause annoyance would pose heavy burden resources mr blunkett said new three digit number would created non emergency phone calls police best performing police services would get cash extra freedoms said would shirk stepping public failed home secretary powers suspend sack chief constables reviewed mr blunkett battle humberside chief david westwood intelligence failures soham murderer ian huntley opposition parties also want local policing tackle nuisance behaviour crime accuse ministers tying police paperwork tory spokesman david davis said proposals little taxpayer funded pr exercise ahead general election predicted next may police forces already buried existing government initiatives little latest plans reassure said mr davis earlier lib dem home affairs spokesman mark oaten said government right want increase links local people police measures work matched cut amount paperwork investment modern equipment keep police streets delivering statement mps mr blunkett joined tony blair welling school south east london heart community policing initiative mr blunkett said wanted go back time young expected police part community community part policing people joined together partnership making work prime minister said law abiding citizen charge community minority want cause trouble mr blunkett already boasts producing record police numbers also started recruit community support officers csos new plans would allow police forces give power detain suspects extra promised tuesday new csos recruited rather next year within two years every force expected keep coppers contract kind service public expect mori poll summer suggested policing unlike health education one major public service people less satisfied contact plans also include idea allowing people join police forces different levels rather traditional way making everybody spend specific amounts time constable promoted also specific exercises encourage black asian people join police senior ranks\",\n          \"us composer recreates bach score us musicologist recreated lost musical score german composer johann sebastian bach composition called wedding cantata bwv found among papers japanese pianist chieko hara died japan aged work written wedding daughter german customs official missing years joshua rifkin composer leading interpreter bach recreated missing instrumental parts said originally wanted let lost cantata lie rest maybe fragment stay fragment said rifkin thought palaeontologists one bone figure entire dinosaur dinosaur eight rediscovered pages consist vocal pieces german soprano alto seven movements lasting total minutes instrumental parts entirely lost except two recycled movements duet aria used elsewhere bach work rifkin likened challenge musical rubik cube could reconstruct bach wrote could give people today idea music like said sounds like bach music listener know part bach part mine\"\n        ],\n        \"semantic_type\": \"\",\n        \"description\": \"\"\n      }\n    },\n    {\n      \"column\": \"Label\",\n      \"properties\": {\n        \"dtype\": \"number\",\n        \"std\": 1,\n        \"min\": 0,\n        \"max\": 4,\n        \"num_unique_values\": 5,\n        \"samples\": [\n          1,\n          4,\n          2\n        ],\n        \"semantic_type\": \"\",\n        \"description\": \"\"\n      }\n    }\n  ]\n}"
            }
          },
          "metadata": {},
          "execution_count": 3
        }
      ]
    },
    {
      "cell_type": "markdown",
      "source": [
        "## 3.Train-Test Split"
      ],
      "metadata": {
        "id": "9NuVsNIEJfZY"
      }
    },
    {
      "cell_type": "code",
      "source": [
        "X = df.drop(['Label'], axis=1)\n",
        "Y = df[['Label']]\n",
        "X_train, X_test, y_train, y_test = train_test_split(X, Y, test_size=0.20, stratify=Y, random_state=42)\n",
        "print('Train Data Shape: ', (X_train.shape, y_train.shape))\n",
        "print('Test Data Shape: ', (X_test.shape, y_test.shape))"
      ],
      "metadata": {
        "colab": {
          "base_uri": "https://localhost:8080/"
        },
        "id": "SO6QGTlIIszI",
        "outputId": "ae1afd63-3b99-4938-c977-20343e8634c5"
      },
      "execution_count": 4,
      "outputs": [
        {
          "output_type": "stream",
          "name": "stdout",
          "text": [
            "Train Data Shape:  ((1192, 1), (1192, 1))\n",
            "Test Data Shape:  ((298, 1), (298, 1))\n"
          ]
        }
      ]
    },
    {
      "cell_type": "markdown",
      "source": [
        "## 4.Utility function"
      ],
      "metadata": {
        "id": "qK7u1DevJrNT"
      }
    },
    {
      "cell_type": "code",
      "source": [
        "# This function visualizes train acc, test acc, train loss, test loss after n epochs of training\n",
        "plt.style.use('ggplot')\n",
        "\n",
        "def plot_history(history):\n",
        "    acc = history.history['accuracy']\n",
        "    val_acc = history.history['val_accuracy']\n",
        "    loss = history.history['loss']\n",
        "    val_loss = history.history['val_loss']\n",
        "    x = range(1, len(acc) + 1)\n",
        "\n",
        "    plt.figure(figsize=(12, 5))\n",
        "    plt.subplot(1, 2, 1)\n",
        "    plt.plot(x, acc, 'b', label='Training acc')\n",
        "    plt.plot(x, val_acc, 'r', label='Validation acc')\n",
        "    plt.title('Training and validation accuracy')\n",
        "    plt.legend()\n",
        "    plt.subplot(1, 2, 2)\n",
        "    plt.plot(x, loss, 'b', label='Training loss')\n",
        "    plt.plot(x, val_loss, 'r', label='Validation loss')\n",
        "    plt.title('Training and validation loss')\n",
        "    plt.legend()"
      ],
      "metadata": {
        "id": "zsH9wFcLJroz"
      },
      "execution_count": 5,
      "outputs": []
    },
    {
      "cell_type": "markdown",
      "source": [
        "## 5.MLP without pre-trained embeddings"
      ],
      "metadata": {
        "id": "OtNkM1P20D7F"
      }
    },
    {
      "cell_type": "markdown",
      "source": [
        "### 5.1 Data Preparation"
      ],
      "metadata": {
        "id": "JfSne7LL0OYT"
      }
    },
    {
      "cell_type": "code",
      "source": [
        "# Encoding each word in text with unique integer\n",
        "start = datetime.now()\n",
        "vocab_size = 1000\n",
        "encoded_train = [one_hot(X_train.iloc[i, 0], vocab_size) for i in range(len(X_train))]\n",
        "encoded_test = [one_hot(X_test.iloc[i, 0], vocab_size) for i in range(len(X_test))]\n",
        "print(\"Time taken: \", datetime.now() - start)"
      ],
      "metadata": {
        "colab": {
          "base_uri": "https://localhost:8080/"
        },
        "id": "dHjz17uNanUW",
        "outputId": "1e2b1bf0-9f83-49e6-c492-9cb47fcc3194"
      },
      "execution_count": null,
      "outputs": [
        {
          "output_type": "stream",
          "name": "stdout",
          "text": [
            "Time taken:  0:00:00.619653\n"
          ]
        }
      ]
    },
    {
      "cell_type": "code",
      "source": [
        "# No. of words in each comment\n",
        "n_words = [len(i) for i in encoded_train]\n",
        "for i in range(90, 100):\n",
        "    print(\"{}th percentile: {}\".format(i, np.percentile(n_words, i)))"
      ],
      "metadata": {
        "colab": {
          "base_uri": "https://localhost:8080/"
        },
        "id": "rjssFIDja-xw",
        "outputId": "f26ce3a1-1445-4896-8914-198a3efeec63"
      },
      "execution_count": null,
      "outputs": [
        {
          "output_type": "stream",
          "name": "stdout",
          "text": [
            "90th percentile: 355.8000000000002\n",
            "91th percentile: 362.80999999999995\n",
            "92th percentile: 372.72\n",
            "93th percentile: 382.2600000000002\n",
            "94th percentile: 392.0799999999999\n",
            "95th percentile: 408.0\n",
            "96th percentile: 423.3599999999999\n",
            "97th percentile: 445.53999999999996\n",
            "98th percentile: 477.72000000000025\n",
            "99th percentile: 567.0899999999999\n"
          ]
        }
      ]
    },
    {
      "cell_type": "markdown",
      "source": [
        "**Note: 95% of sentences have words less that 400.**"
      ],
      "metadata": {
        "id": "DnYP6T7ifQ1o"
      }
    },
    {
      "cell_type": "code",
      "source": [
        "# Padding each sequence to have same length(400)\n",
        "MAX_LENGTH = 1000\n",
        "encoded_train = pad_sequences(encoded_train, maxlen=MAX_LENGTH, padding='post')\n",
        "print(\"Train data shape: \", encoded_train.shape)\n",
        "encoded_test = pad_sequences(encoded_test, maxlen=MAX_LENGTH, padding='post')\n",
        "print(\"Test data shape: \", encoded_test.shape)"
      ],
      "metadata": {
        "colab": {
          "base_uri": "https://localhost:8080/"
        },
        "id": "KCd0yjHy0OJk",
        "outputId": "c0bc6931-98db-446b-e8e5-a1d6ebc0f301"
      },
      "execution_count": null,
      "outputs": [
        {
          "output_type": "stream",
          "name": "stdout",
          "text": [
            "Train data shape:  (1192, 1000)\n",
            "Test data shape:  (298, 1000)\n"
          ]
        }
      ]
    },
    {
      "cell_type": "markdown",
      "source": [
        "### 5.2 Model Architecture"
      ],
      "metadata": {
        "id": "j5kkZ0-40R5R"
      }
    },
    {
      "cell_type": "code",
      "source": [
        "clear_session()\n",
        "\n",
        "input_layer = layers.Input(shape=(1000,)) # input\n",
        "\n",
        "embed_layer = layers.Embedding(vocab_size, 1000, input_length=1000)(input_layer) # embedding\n",
        "maxpool1 = layers.GlobalMaxPool1D()(embed_layer) # global pooling layer\n",
        "dense1 = layers.Dense(100, activation='relu')(maxpool1) # hidden layer\n",
        "\n",
        "output_layer = layers.Dense(5, activation='sigmoid')(dense1) # output layer\n",
        "\n",
        "mlp_model = Model(input_layer, output_layer)\n",
        "mlp_model.summary()"
      ],
      "metadata": {
        "colab": {
          "base_uri": "https://localhost:8080/",
          "height": 370
        },
        "id": "InjJzpiZ0Qvj",
        "outputId": "fc2fcb54-4c98-4479-b93e-686a4d445e36"
      },
      "execution_count": null,
      "outputs": [
        {
          "output_type": "stream",
          "name": "stderr",
          "text": [
            "/usr/local/lib/python3.10/dist-packages/keras/src/layers/core/embedding.py:90: UserWarning: Argument `input_length` is deprecated. Just remove it.\n",
            "  warnings.warn(\n"
          ]
        },
        {
          "output_type": "display_data",
          "data": {
            "text/plain": [
              "\u001b[1mModel: \"functional\"\u001b[0m\n"
            ],
            "text/html": [
              "<pre style=\"white-space:pre;overflow-x:auto;line-height:normal;font-family:Menlo,'DejaVu Sans Mono',consolas,'Courier New',monospace\"><span style=\"font-weight: bold\">Model: \"functional\"</span>\n",
              "</pre>\n"
            ]
          },
          "metadata": {}
        },
        {
          "output_type": "display_data",
          "data": {
            "text/plain": [
              "┏━━━━━━━━━━━━━━━━━━━━━━━━━━━━━━━━━━━━━━┳━━━━━━━━━━━━━━━━━━━━━━━━━━━━━┳━━━━━━━━━━━━━━━━━┓\n",
              "┃\u001b[1m \u001b[0m\u001b[1mLayer (type)                        \u001b[0m\u001b[1m \u001b[0m┃\u001b[1m \u001b[0m\u001b[1mOutput Shape               \u001b[0m\u001b[1m \u001b[0m┃\u001b[1m \u001b[0m\u001b[1m        Param #\u001b[0m\u001b[1m \u001b[0m┃\n",
              "┡━━━━━━━━━━━━━━━━━━━━━━━━━━━━━━━━━━━━━━╇━━━━━━━━━━━━━━━━━━━━━━━━━━━━━╇━━━━━━━━━━━━━━━━━┩\n",
              "│ input_layer (\u001b[38;5;33mInputLayer\u001b[0m)             │ (\u001b[38;5;45mNone\u001b[0m, \u001b[38;5;34m1000\u001b[0m)                │               \u001b[38;5;34m0\u001b[0m │\n",
              "├──────────────────────────────────────┼─────────────────────────────┼─────────────────┤\n",
              "│ embedding (\u001b[38;5;33mEmbedding\u001b[0m)                │ (\u001b[38;5;45mNone\u001b[0m, \u001b[38;5;34m1000\u001b[0m, \u001b[38;5;34m1000\u001b[0m)          │       \u001b[38;5;34m1,000,000\u001b[0m │\n",
              "├──────────────────────────────────────┼─────────────────────────────┼─────────────────┤\n",
              "│ global_max_pooling1d                 │ (\u001b[38;5;45mNone\u001b[0m, \u001b[38;5;34m1000\u001b[0m)                │               \u001b[38;5;34m0\u001b[0m │\n",
              "│ (\u001b[38;5;33mGlobalMaxPooling1D\u001b[0m)                 │                             │                 │\n",
              "├──────────────────────────────────────┼─────────────────────────────┼─────────────────┤\n",
              "│ dense (\u001b[38;5;33mDense\u001b[0m)                        │ (\u001b[38;5;45mNone\u001b[0m, \u001b[38;5;34m100\u001b[0m)                 │         \u001b[38;5;34m100,100\u001b[0m │\n",
              "├──────────────────────────────────────┼─────────────────────────────┼─────────────────┤\n",
              "│ dense_1 (\u001b[38;5;33mDense\u001b[0m)                      │ (\u001b[38;5;45mNone\u001b[0m, \u001b[38;5;34m5\u001b[0m)                   │             \u001b[38;5;34m505\u001b[0m │\n",
              "└──────────────────────────────────────┴─────────────────────────────┴─────────────────┘\n"
            ],
            "text/html": [
              "<pre style=\"white-space:pre;overflow-x:auto;line-height:normal;font-family:Menlo,'DejaVu Sans Mono',consolas,'Courier New',monospace\">┏━━━━━━━━━━━━━━━━━━━━━━━━━━━━━━━━━━━━━━┳━━━━━━━━━━━━━━━━━━━━━━━━━━━━━┳━━━━━━━━━━━━━━━━━┓\n",
              "┃<span style=\"font-weight: bold\"> Layer (type)                         </span>┃<span style=\"font-weight: bold\"> Output Shape                </span>┃<span style=\"font-weight: bold\">         Param # </span>┃\n",
              "┡━━━━━━━━━━━━━━━━━━━━━━━━━━━━━━━━━━━━━━╇━━━━━━━━━━━━━━━━━━━━━━━━━━━━━╇━━━━━━━━━━━━━━━━━┩\n",
              "│ input_layer (<span style=\"color: #0087ff; text-decoration-color: #0087ff\">InputLayer</span>)             │ (<span style=\"color: #00d7ff; text-decoration-color: #00d7ff\">None</span>, <span style=\"color: #00af00; text-decoration-color: #00af00\">1000</span>)                │               <span style=\"color: #00af00; text-decoration-color: #00af00\">0</span> │\n",
              "├──────────────────────────────────────┼─────────────────────────────┼─────────────────┤\n",
              "│ embedding (<span style=\"color: #0087ff; text-decoration-color: #0087ff\">Embedding</span>)                │ (<span style=\"color: #00d7ff; text-decoration-color: #00d7ff\">None</span>, <span style=\"color: #00af00; text-decoration-color: #00af00\">1000</span>, <span style=\"color: #00af00; text-decoration-color: #00af00\">1000</span>)          │       <span style=\"color: #00af00; text-decoration-color: #00af00\">1,000,000</span> │\n",
              "├──────────────────────────────────────┼─────────────────────────────┼─────────────────┤\n",
              "│ global_max_pooling1d                 │ (<span style=\"color: #00d7ff; text-decoration-color: #00d7ff\">None</span>, <span style=\"color: #00af00; text-decoration-color: #00af00\">1000</span>)                │               <span style=\"color: #00af00; text-decoration-color: #00af00\">0</span> │\n",
              "│ (<span style=\"color: #0087ff; text-decoration-color: #0087ff\">GlobalMaxPooling1D</span>)                 │                             │                 │\n",
              "├──────────────────────────────────────┼─────────────────────────────┼─────────────────┤\n",
              "│ dense (<span style=\"color: #0087ff; text-decoration-color: #0087ff\">Dense</span>)                        │ (<span style=\"color: #00d7ff; text-decoration-color: #00d7ff\">None</span>, <span style=\"color: #00af00; text-decoration-color: #00af00\">100</span>)                 │         <span style=\"color: #00af00; text-decoration-color: #00af00\">100,100</span> │\n",
              "├──────────────────────────────────────┼─────────────────────────────┼─────────────────┤\n",
              "│ dense_1 (<span style=\"color: #0087ff; text-decoration-color: #0087ff\">Dense</span>)                      │ (<span style=\"color: #00d7ff; text-decoration-color: #00d7ff\">None</span>, <span style=\"color: #00af00; text-decoration-color: #00af00\">5</span>)                   │             <span style=\"color: #00af00; text-decoration-color: #00af00\">505</span> │\n",
              "└──────────────────────────────────────┴─────────────────────────────┴─────────────────┘\n",
              "</pre>\n"
            ]
          },
          "metadata": {}
        },
        {
          "output_type": "display_data",
          "data": {
            "text/plain": [
              "\u001b[1m Total params: \u001b[0m\u001b[38;5;34m1,100,605\u001b[0m (4.20 MB)\n"
            ],
            "text/html": [
              "<pre style=\"white-space:pre;overflow-x:auto;line-height:normal;font-family:Menlo,'DejaVu Sans Mono',consolas,'Courier New',monospace\"><span style=\"font-weight: bold\"> Total params: </span><span style=\"color: #00af00; text-decoration-color: #00af00\">1,100,605</span> (4.20 MB)\n",
              "</pre>\n"
            ]
          },
          "metadata": {}
        },
        {
          "output_type": "display_data",
          "data": {
            "text/plain": [
              "\u001b[1m Trainable params: \u001b[0m\u001b[38;5;34m1,100,605\u001b[0m (4.20 MB)\n"
            ],
            "text/html": [
              "<pre style=\"white-space:pre;overflow-x:auto;line-height:normal;font-family:Menlo,'DejaVu Sans Mono',consolas,'Courier New',monospace\"><span style=\"font-weight: bold\"> Trainable params: </span><span style=\"color: #00af00; text-decoration-color: #00af00\">1,100,605</span> (4.20 MB)\n",
              "</pre>\n"
            ]
          },
          "metadata": {}
        },
        {
          "output_type": "display_data",
          "data": {
            "text/plain": [
              "\u001b[1m Non-trainable params: \u001b[0m\u001b[38;5;34m0\u001b[0m (0.00 B)\n"
            ],
            "text/html": [
              "<pre style=\"white-space:pre;overflow-x:auto;line-height:normal;font-family:Menlo,'DejaVu Sans Mono',consolas,'Courier New',monospace\"><span style=\"font-weight: bold\"> Non-trainable params: </span><span style=\"color: #00af00; text-decoration-color: #00af00\">0</span> (0.00 B)\n",
              "</pre>\n"
            ]
          },
          "metadata": {}
        }
      ]
    },
    {
      "cell_type": "markdown",
      "source": [
        "### 5.3 Callbacks"
      ],
      "metadata": {
        "id": "EcTYxUcG0VOz"
      }
    },
    {
      "cell_type": "code",
      "source": [
        "# Callback to save model\n",
        "filepath = '/content/mlp_model/mlp_model.keras'\n",
        "checkpoint = ModelCheckpoint(filepath=filepath, monitor='val_accuracy', verbose=1, mode='max', save_best_only=True)\n"
      ],
      "metadata": {
        "id": "4S1zA4P80VAS"
      },
      "execution_count": null,
      "outputs": []
    },
    {
      "cell_type": "code",
      "source": [
        "# Reduce learning rate by 10% if val acc didn't improve for 3 epochs\n",
        "reduce_lr = ReduceLROnPlateau(monitor='val_accuracy', factor=0.1, patience=3, verbose=1)"
      ],
      "metadata": {
        "id": "YQVKet9N4m2e"
      },
      "execution_count": null,
      "outputs": []
    },
    {
      "cell_type": "code",
      "source": [
        "callback = [checkpoint, reduce_lr]"
      ],
      "metadata": {
        "id": "jkl-jJZZ47N6"
      },
      "execution_count": null,
      "outputs": []
    },
    {
      "cell_type": "markdown",
      "source": [
        "### 5.4 Model Training"
      ],
      "metadata": {
        "id": "lIjJPA520YkI"
      }
    },
    {
      "cell_type": "code",
      "source": [
        "# compiling model\n",
        "mlp_model.compile(loss='sparse_categorical_crossentropy', optimizer='adam', metrics=['accuracy'])"
      ],
      "metadata": {
        "id": "GQxDAqY60YBy"
      },
      "execution_count": null,
      "outputs": []
    },
    {
      "cell_type": "code",
      "source": [
        "# training model\n",
        "history = mlp_model.fit(encoded_train, y_train, batch_size=64, epochs=10,\n",
        "              validation_data=(encoded_test, y_test), callbacks=callback)"
      ],
      "metadata": {
        "colab": {
          "base_uri": "https://localhost:8080/"
        },
        "id": "ptPn1YGX5DUj",
        "outputId": "61a8e188-7674-41ea-af8c-be1a08f093df"
      },
      "execution_count": null,
      "outputs": [
        {
          "output_type": "stream",
          "name": "stdout",
          "text": [
            "Epoch 1/10\n",
            "\u001b[1m19/19\u001b[0m \u001b[32m━━━━━━━━━━━━━━━━━━━━\u001b[0m\u001b[37m\u001b[0m \u001b[1m0s\u001b[0m 797ms/step - accuracy: 0.2683 - loss: 1.6034\n",
            "Epoch 1: val_accuracy improved from -inf to 0.23154, saving model to /content/mlp_model/mlp_model.keras\n",
            "\u001b[1m19/19\u001b[0m \u001b[32m━━━━━━━━━━━━━━━━━━━━\u001b[0m\u001b[37m\u001b[0m \u001b[1m17s\u001b[0m 865ms/step - accuracy: 0.2700 - loss: 1.6027 - val_accuracy: 0.2315 - val_loss: 1.5580 - learning_rate: 0.0010\n",
            "Epoch 2/10\n",
            "\u001b[1m19/19\u001b[0m \u001b[32m━━━━━━━━━━━━━━━━━━━━\u001b[0m\u001b[37m\u001b[0m \u001b[1m0s\u001b[0m 770ms/step - accuracy: 0.3582 - loss: 1.5345\n",
            "Epoch 2: val_accuracy improved from 0.23154 to 0.54027, saving model to /content/mlp_model/mlp_model.keras\n",
            "\u001b[1m19/19\u001b[0m \u001b[32m━━━━━━━━━━━━━━━━━━━━\u001b[0m\u001b[37m\u001b[0m \u001b[1m20s\u001b[0m 827ms/step - accuracy: 0.3633 - loss: 1.5334 - val_accuracy: 0.5403 - val_loss: 1.4456 - learning_rate: 0.0010\n",
            "Epoch 3/10\n",
            "\u001b[1m19/19\u001b[0m \u001b[32m━━━━━━━━━━━━━━━━━━━━\u001b[0m\u001b[37m\u001b[0m \u001b[1m0s\u001b[0m 1s/step - accuracy: 0.6381 - loss: 1.3632\n",
            "Epoch 3: val_accuracy improved from 0.54027 to 0.77517, saving model to /content/mlp_model/mlp_model.keras\n",
            "\u001b[1m19/19\u001b[0m \u001b[32m━━━━━━━━━━━━━━━━━━━━\u001b[0m\u001b[37m\u001b[0m \u001b[1m29s\u001b[0m 1s/step - accuracy: 0.6424 - loss: 1.3601 - val_accuracy: 0.7752 - val_loss: 1.1675 - learning_rate: 0.0010\n",
            "Epoch 4/10\n",
            "\u001b[1m19/19\u001b[0m \u001b[32m━━━━━━━━━━━━━━━━━━━━\u001b[0m\u001b[37m\u001b[0m \u001b[1m0s\u001b[0m 811ms/step - accuracy: 0.8651 - loss: 1.0092\n",
            "Epoch 4: val_accuracy improved from 0.77517 to 0.85570, saving model to /content/mlp_model/mlp_model.keras\n",
            "\u001b[1m19/19\u001b[0m \u001b[32m━━━━━━━━━━━━━━━━━━━━\u001b[0m\u001b[37m\u001b[0m \u001b[1m36s\u001b[0m 962ms/step - accuracy: 0.8660 - loss: 1.0047 - val_accuracy: 0.8557 - val_loss: 0.7630 - learning_rate: 0.0010\n",
            "Epoch 5/10\n",
            "\u001b[1m19/19\u001b[0m \u001b[32m━━━━━━━━━━━━━━━━━━━━\u001b[0m\u001b[37m\u001b[0m \u001b[1m0s\u001b[0m 821ms/step - accuracy: 0.9356 - loss: 0.5913\n",
            "Epoch 5: val_accuracy improved from 0.85570 to 0.88255, saving model to /content/mlp_model/mlp_model.keras\n",
            "\u001b[1m19/19\u001b[0m \u001b[32m━━━━━━━━━━━━━━━━━━━━\u001b[0m\u001b[37m\u001b[0m \u001b[1m19s\u001b[0m 886ms/step - accuracy: 0.9355 - loss: 0.5876 - val_accuracy: 0.8826 - val_loss: 0.4848 - learning_rate: 0.0010\n",
            "Epoch 6/10\n",
            "\u001b[1m19/19\u001b[0m \u001b[32m━━━━━━━━━━━━━━━━━━━━\u001b[0m\u001b[37m\u001b[0m \u001b[1m0s\u001b[0m 815ms/step - accuracy: 0.9640 - loss: 0.3266\n",
            "Epoch 6: val_accuracy improved from 0.88255 to 0.89597, saving model to /content/mlp_model/mlp_model.keras\n",
            "\u001b[1m19/19\u001b[0m \u001b[32m━━━━━━━━━━━━━━━━━━━━\u001b[0m\u001b[37m\u001b[0m \u001b[1m20s\u001b[0m 881ms/step - accuracy: 0.9635 - loss: 0.3252 - val_accuracy: 0.8960 - val_loss: 0.3475 - learning_rate: 0.0010\n",
            "Epoch 7/10\n",
            "\u001b[1m19/19\u001b[0m \u001b[32m━━━━━━━━━━━━━━━━━━━━\u001b[0m\u001b[37m\u001b[0m \u001b[1m0s\u001b[0m 798ms/step - accuracy: 0.9631 - loss: 0.1915\n",
            "Epoch 7: val_accuracy improved from 0.89597 to 0.90268, saving model to /content/mlp_model/mlp_model.keras\n",
            "\u001b[1m19/19\u001b[0m \u001b[32m━━━━━━━━━━━━━━━━━━━━\u001b[0m\u001b[37m\u001b[0m \u001b[1m21s\u001b[0m 893ms/step - accuracy: 0.9630 - loss: 0.1914 - val_accuracy: 0.9027 - val_loss: 0.3078 - learning_rate: 0.0010\n",
            "Epoch 8/10\n",
            "\u001b[1m19/19\u001b[0m \u001b[32m━━━━━━━━━━━━━━━━━━━━\u001b[0m\u001b[37m\u001b[0m \u001b[1m0s\u001b[0m 819ms/step - accuracy: 0.9740 - loss: 0.1406\n",
            "Epoch 8: val_accuracy improved from 0.90268 to 0.90604, saving model to /content/mlp_model/mlp_model.keras\n",
            "\u001b[1m19/19\u001b[0m \u001b[32m━━━━━━━━━━━━━━━━━━━━\u001b[0m\u001b[37m\u001b[0m \u001b[1m20s\u001b[0m 883ms/step - accuracy: 0.9742 - loss: 0.1401 - val_accuracy: 0.9060 - val_loss: 0.2732 - learning_rate: 0.0010\n",
            "Epoch 9/10\n",
            "\u001b[1m19/19\u001b[0m \u001b[32m━━━━━━━━━━━━━━━━━━━━\u001b[0m\u001b[37m\u001b[0m \u001b[1m0s\u001b[0m 814ms/step - accuracy: 0.9905 - loss: 0.0962\n",
            "Epoch 9: val_accuracy improved from 0.90604 to 0.92282, saving model to /content/mlp_model/mlp_model.keras\n",
            "\u001b[1m19/19\u001b[0m \u001b[32m━━━━━━━━━━━━━━━━━━━━\u001b[0m\u001b[37m\u001b[0m \u001b[1m20s\u001b[0m 879ms/step - accuracy: 0.9904 - loss: 0.0960 - val_accuracy: 0.9228 - val_loss: 0.2424 - learning_rate: 0.0010\n",
            "Epoch 10/10\n",
            "\u001b[1m19/19\u001b[0m \u001b[32m━━━━━━━━━━━━━━━━━━━━\u001b[0m\u001b[37m\u001b[0m \u001b[1m0s\u001b[0m 805ms/step - accuracy: 0.9957 - loss: 0.0720\n",
            "Epoch 10: val_accuracy did not improve from 0.92282\n",
            "\u001b[1m19/19\u001b[0m \u001b[32m━━━━━━━━━━━━━━━━━━━━\u001b[0m\u001b[37m\u001b[0m \u001b[1m20s\u001b[0m 864ms/step - accuracy: 0.9958 - loss: 0.0717 - val_accuracy: 0.9228 - val_loss: 0.2362 - learning_rate: 0.0010\n"
          ]
        }
      ]
    },
    {
      "cell_type": "markdown",
      "source": [
        "### 5.5 Model Evaluation"
      ],
      "metadata": {
        "id": "tlYZUvgJ0cc1"
      }
    },
    {
      "cell_type": "code",
      "source": [
        "# Plot history\n",
        "plot_history(history)"
      ],
      "metadata": {
        "colab": {
          "base_uri": "https://localhost:8080/",
          "height": 469
        },
        "id": "VBii-QsD0b4G",
        "outputId": "7ef21417-44ed-4762-9656-032433a12356"
      },
      "execution_count": null,
      "outputs": [
        {
          "output_type": "display_data",
          "data": {
            "text/plain": [
              "<Figure size 1200x500 with 2 Axes>"
            ],
            "image/png": "[encoded data removed]"
          },
          "metadata": {}
        }
      ]
    },
    {
      "cell_type": "code",
      "source": [
        "y_pred_train = mlp_model.predict(encoded_train, batch_size=64, verbose=1)\n",
        "y_pred_bool_train = np.argmax(y_pred_train, axis=1)\n",
        "\n",
        "print(classification_report(y_train, y_pred_bool_train, zero_division=1))"
      ],
      "metadata": {
        "colab": {
          "base_uri": "https://localhost:8080/"
        },
        "id": "trh1ugtM3zac",
        "outputId": "e7ba1b31-c343-43eb-c080-aa584696e9a4"
      },
      "execution_count": null,
      "outputs": [
        {
          "output_type": "stream",
          "name": "stdout",
          "text": [
            "\u001b[1m19/19\u001b[0m \u001b[32m━━━━━━━━━━━━━━━━━━━━\u001b[0m\u001b[37m\u001b[0m \u001b[1m4s\u001b[0m 227ms/step\n",
            "              precision    recall  f1-score   support\n",
            "\n",
            "           0       1.00      1.00      1.00       269\n",
            "           1       1.00      1.00      1.00       209\n",
            "           2       1.00      1.00      1.00       219\n",
            "           3       1.00      1.00      1.00       277\n",
            "           4       1.00      0.99      1.00       218\n",
            "\n",
            "    accuracy                           1.00      1192\n",
            "   macro avg       1.00      1.00      1.00      1192\n",
            "weighted avg       1.00      1.00      1.00      1192\n",
            "\n"
          ]
        }
      ]
    },
    {
      "cell_type": "code",
      "source": [
        "y_pred_test = mlp_model.predict(encoded_test, batch_size=64, verbose=1)\n",
        "y_pred_bool_test = np.argmax(y_pred_test, axis=1)\n",
        "\n",
        "print(classification_report(y_test, y_pred_bool_test, zero_division=1))"
      ],
      "metadata": {
        "colab": {
          "base_uri": "https://localhost:8080/"
        },
        "id": "qzKSKlSq3zXP",
        "outputId": "8edcc4c2-9f4e-401d-bc13-56c51f469293"
      },
      "execution_count": null,
      "outputs": [
        {
          "output_type": "stream",
          "name": "stdout",
          "text": [
            "\u001b[1m5/5\u001b[0m \u001b[32m━━━━━━━━━━━━━━━━━━━━\u001b[0m\u001b[37m\u001b[0m \u001b[1m1s\u001b[0m 209ms/step\n",
            "              precision    recall  f1-score   support\n",
            "\n",
            "           0       0.95      0.93      0.94        67\n",
            "           1       0.90      0.85      0.87        52\n",
            "           2       0.86      0.91      0.88        55\n",
            "           3       0.97      1.00      0.99        69\n",
            "           4       0.91      0.91      0.91        55\n",
            "\n",
            "    accuracy                           0.92       298\n",
            "   macro avg       0.92      0.92      0.92       298\n",
            "weighted avg       0.92      0.92      0.92       298\n",
            "\n"
          ]
        }
      ]
    },
    {
      "cell_type": "markdown",
      "source": [
        "#### **Obeservation:**\n",
        "\n",
        "- without embeddings *92%* f1-score"
      ],
      "metadata": {
        "id": "GsbTps8a2VQv"
      }
    },
    {
      "cell_type": "markdown",
      "source": [
        "## 6.MLP with Glove Embeddings"
      ],
      "metadata": {
        "id": "2muHedEOMsD_"
      }
    },
    {
      "cell_type": "markdown",
      "source": [
        "#### 6.0.1 Downloading Embeddings"
      ],
      "metadata": {
        "id": "ljtfVEWz_FgQ"
      }
    },
    {
      "cell_type": "code",
      "source": [
        "!wget http://nlp.stanford.edu/data/glove.6B.zip"
      ],
      "metadata": {
        "colab": {
          "base_uri": "https://localhost:8080/"
        },
        "id": "PdSOIw-XMrkM",
        "outputId": "6dc1bb65-8055-43b1-a09b-533c3962daa0"
      },
      "execution_count": null,
      "outputs": [
        {
          "output_type": "stream",
          "name": "stdout",
          "text": [
            "--2025-01-01 11:18:53--  http://nlp.stanford.edu/data/glove.6B.zip\n",
            "Resolving nlp.stanford.edu (nlp.stanford.edu)... 171.64.67.140\n",
            "Connecting to nlp.stanford.edu (nlp.stanford.edu)|171.64.67.140|:80... connected.\n",
            "HTTP request sent, awaiting response... 302 Found\n",
            "Location: https://nlp.stanford.edu/data/glove.6B.zip [following]\n",
            "--2025-01-01 11:18:53--  https://nlp.stanford.edu/data/glove.6B.zip\n",
            "Connecting to nlp.stanford.edu (nlp.stanford.edu)|171.64.67.140|:443... connected.\n",
            "HTTP request sent, awaiting response... 301 Moved Permanently\n",
            "Location: https://downloads.cs.stanford.edu/nlp/data/glove.6B.zip [following]\n",
            "--2025-01-01 11:18:54--  https://downloads.cs.stanford.edu/nlp/data/glove.6B.zip\n",
            "Resolving downloads.cs.stanford.edu (downloads.cs.stanford.edu)... 171.64.64.22\n",
            "Connecting to downloads.cs.stanford.edu (downloads.cs.stanford.edu)|171.64.64.22|:443... connected.\n",
            "HTTP request sent, awaiting response... 200 OK\n",
            "Length: 862182613 (822M) [application/zip]\n",
            "Saving to: ‘glove.6B.zip’\n",
            "\n",
            "glove.6B.zip        100%[===================>] 822.24M  5.10MB/s    in 2m 38s  \n",
            "\n",
            "2025-01-01 11:21:33 (5.19 MB/s) - ‘glove.6B.zip’ saved [862182613/862182613]\n",
            "\n"
          ]
        }
      ]
    },
    {
      "cell_type": "markdown",
      "source": [
        "#### 6.0.2 Unzipping Embeddings"
      ],
      "metadata": {
        "id": "5rRv971u_L72"
      }
    },
    {
      "cell_type": "code",
      "source": [
        "!unzip /content/glove.6B.zip"
      ],
      "metadata": {
        "colab": {
          "base_uri": "https://localhost:8080/"
        },
        "id": "xsHtZlPLMrX7",
        "outputId": "68f4adcd-ced7-4687-c716-b86baedfcae8"
      },
      "execution_count": null,
      "outputs": [
        {
          "output_type": "stream",
          "name": "stdout",
          "text": [
            "Archive:  /content/glove.6B.zip\n",
            "  inflating: glove.6B.50d.txt        \n",
            "  inflating: glove.6B.100d.txt       \n",
            "  inflating: glove.6B.200d.txt       \n",
            "  inflating: glove.6B.300d.txt       \n"
          ]
        }
      ]
    },
    {
      "cell_type": "markdown",
      "source": [
        "### 6.1 Tokenization and Padding\n"
      ],
      "metadata": {
        "id": "G1q1bJlp1MoN"
      }
    },
    {
      "cell_type": "markdown",
      "source": [
        "#### 6.1.1 Tokenization\n"
      ],
      "metadata": {
        "id": "tk693P0XNCCW"
      }
    },
    {
      "cell_type": "code",
      "source": [
        "# Tokenization\n",
        "t = Tokenizer()\n",
        "t.fit_on_texts(X_train['clean_text'])\n",
        "tokens_train = t.texts_to_sequences(X_train['clean_text'])\n",
        "tokens_test = t.texts_to_sequences(X_test['clean_text'])"
      ],
      "metadata": {
        "id": "EQ1p6caNM8Jr"
      },
      "execution_count": 6,
      "outputs": []
    },
    {
      "cell_type": "code",
      "source": [
        "print(\"Original Comment: \", X_train['clean_text'].iloc[0])\n",
        "print(\"Tokenized Comment: \", tokens_train[0])"
      ],
      "metadata": {
        "colab": {
          "base_uri": "https://localhost:8080/"
        },
        "id": "En8xNca0NJap",
        "outputId": "2f59de32-f81c-4a6b-d186-46495ce58c51"
      },
      "execution_count": 7,
      "outputs": [
        {
          "output_type": "stream",
          "name": "stdout",
          "text": [
            "Original Comment:  bt program beat dialler scams bt introducing two initiatives help beat rogue dialler scams cost dial net users thousands may dial net users able download free software stop computers using numbers user pre approved list inadvertently downloaded surfers rogue diallers programs hijack modems dial premium rate number users log thousands uk dial users believed hit scam people faced phone bills bt modem protection program check numbers dialled computer block pre approved national net service provider numbers icstis uk premium rate services watchdog said looking companies take lead initiatives initiatives welcome spokesperson icstis told bbc news website pleased see putting place new measures protect consumers second initiative bt announced early warning system alert bt customers unusual activity phone bills bill rises substantially usual daily average call made suspect number text voice alert sent user landline phone part clamp rogue diallers companies must satisfy stringent conditions including clear terms conditions information delete diallers responsibility customer refunds firm running dialler without permission closed icstis watchdog brought action last october following decision license companies wanted operate legitimate premium rate dialler services legitimate companies offer services adult content sports results music downloads charging premium rate rather credit card bt said ploughed enormous amount effort protecting people problem already barred premium rate numbers tried raise public awareness scams want ensure even stronger safeguards customers would urge make use new options protect said gavin patterson group managing director consumer arm bt schemes undergoing trials ireland made available million bt customers may\n",
            "Tokenized Comment:  [777, 900, 443, 6448, 2896, 777, 4435, 13, 3592, 108, 443, 3593, 6448, 2896, 298, 2897, 114, 131, 881, 36, 2897, 114, 131, 196, 974, 265, 124, 501, 926, 252, 719, 1602, 639, 2151, 385, 5188, 1837, 3409, 3593, 5745, 850, 6449, 13574, 2897, 1788, 360, 33, 131, 5746, 881, 17, 2897, 131, 927, 155, 3594, 6, 1603, 125, 2239, 777, 7330, 998, 900, 3836, 719, 13575, 203, 1838, 639, 2151, 197, 114, 87, 2898, 719, 5189, 17, 1788, 360, 123, 1744, 1, 245, 132, 38, 259, 3592, 3592, 2240, 2756, 5189, 22, 35, 83, 346, 2241, 75, 1344, 120, 7, 1018, 1223, 435, 50, 2010, 777, 338, 176, 1062, 145, 2757, 777, 496, 3837, 1698, 125, 2239, 205, 1445, 5190, 2758, 1224, 659, 410, 24, 4099, 33, 975, 1517, 2757, 506, 1602, 8527, 125, 70, 5191, 3593, 5745, 132, 343, 5747, 10327, 1485, 137, 367, 882, 1485, 159, 8528, 5745, 1345, 3053, 13576, 51, 476, 6448, 189, 3838, 1346, 5189, 1744, 834, 158, 12, 507, 253, 163, 8529, 132, 597, 2759, 2899, 1788, 360, 6448, 123, 2899, 132, 166, 123, 4780, 357, 1446, 788, 42, 2242, 4436, 1788, 360, 423, 823, 684, 777, 1, 8530, 2648, 669, 956, 3839, 6, 368, 97, 4437, 1788, 360, 719, 1347, 708, 69, 2537, 2896, 73, 685, 81, 1789, 5192, 496, 3, 5193, 21, 60, 7, 1893, 1223, 1, 2900, 7331, 94, 2011, 101, 283, 2152, 777, 2649, 5748, 2243, 146, 24, 455, 62, 777, 496, 36]\n"
          ]
        }
      ]
    },
    {
      "cell_type": "code",
      "source": [
        "vocab_size = len(t.word_index) + 1 # adding one for reserve word, like words out of vocabulary\n",
        "print(\"Total unique words: \", vocab_size)"
      ],
      "metadata": {
        "colab": {
          "base_uri": "https://localhost:8080/"
        },
        "id": "-Ut6hY8wNNI-",
        "outputId": "0e400be9-5bd0-450e-dd6b-ca397fc27e8b"
      },
      "execution_count": 8,
      "outputs": [
        {
          "output_type": "stream",
          "name": "stdout",
          "text": [
            "Total unique words:  21533\n"
          ]
        }
      ]
    },
    {
      "cell_type": "code",
      "source": [
        "# Saving pickle file of tokenizer object\n",
        "with open(os.path.join(DATA_PATH, \"glove_embeddings\", 'tokenizer.pkl'), 'wb') as f:\n",
        "    pickle.dump(t, f)"
      ],
      "metadata": {
        "id": "RFc3HDUqNStI"
      },
      "execution_count": null,
      "outputs": []
    },
    {
      "cell_type": "markdown",
      "source": [
        "#### 6.1.2 Padding sequences"
      ],
      "metadata": {
        "id": "uEGWp-Z5OC6I"
      }
    },
    {
      "cell_type": "markdown",
      "source": [
        "Since 95% text have less than 400 words. Let's pad each sequence to have 400 words."
      ],
      "metadata": {
        "id": "tGH4LpUCOIEi"
      }
    },
    {
      "cell_type": "code",
      "source": [
        "MAX_LENGTH = 400\n",
        "padded_train = pad_sequences(tokens_train, maxlen=MAX_LENGTH, dtype='int32',\n",
        "                        padding='post', truncating='post', value=0.0)\n",
        "padded_test = pad_sequences(tokens_test, maxlen=MAX_LENGTH, dtype='int32',\n",
        "                        padding='post', truncating='post', value=0.0)"
      ],
      "metadata": {
        "id": "zKX0uS7VOCuP"
      },
      "execution_count": 9,
      "outputs": []
    },
    {
      "cell_type": "code",
      "source": [
        "padded_train.shape, padded_test.shape"
      ],
      "metadata": {
        "colab": {
          "base_uri": "https://localhost:8080/"
        },
        "id": "PQPRZ9o7OCrc",
        "outputId": "934db8c3-ea53-4bd6-ab6f-3c49bdd44690"
      },
      "execution_count": 10,
      "outputs": [
        {
          "output_type": "execute_result",
          "data": {
            "text/plain": [
              "((1192, 400), (298, 400))"
            ]
          },
          "metadata": {},
          "execution_count": 10
        }
      ]
    },
    {
      "cell_type": "markdown",
      "source": [
        "### 6.3 Embedding"
      ],
      "metadata": {
        "id": "LnVM7o2oLVyA"
      }
    },
    {
      "cell_type": "code",
      "source": [
        "def create_embedding_matrix(filepath, word_index, embedding_dim):\n",
        "    vocab_size = len(word_index) + 1  # Adding again 1 because of reserved 0 index\n",
        "    embedding_matrix = np.zeros((vocab_size, embedding_dim))\n",
        "\n",
        "    with open(filepath) as f:\n",
        "        for line in f:\n",
        "            word, *vector = line.split()\n",
        "            if word in word_index:\n",
        "                idx = word_index[word]\n",
        "                embedding_matrix[idx] = np.array(\n",
        "                    vector, dtype=np.float32)[:embedding_dim]\n",
        "\n",
        "    return embedding_matrix"
      ],
      "metadata": {
        "id": "n0Xbox3ZOmdz"
      },
      "execution_count": null,
      "outputs": []
    },
    {
      "cell_type": "code",
      "source": [
        "embedding_dim = 300"
      ],
      "metadata": {
        "id": "D9pRcMCFnk11"
      },
      "execution_count": 24,
      "outputs": []
    },
    {
      "cell_type": "code",
      "source": [
        "embedding_matrix = create_embedding_matrix('/content/glove.6B.300d.txt',\n",
        "                                           t.word_index, embedding_dim)\n",
        "embedding_matrix.shape"
      ],
      "metadata": {
        "colab": {
          "base_uri": "https://localhost:8080/"
        },
        "id": "Gr7m8NlWOphJ",
        "outputId": "cd7f0c41-2368-43a9-e4a4-feca4a62f2f5"
      },
      "execution_count": null,
      "outputs": [
        {
          "output_type": "execute_result",
          "data": {
            "text/plain": [
              "(21533, 300)"
            ]
          },
          "metadata": {},
          "execution_count": 81
        }
      ]
    },
    {
      "cell_type": "markdown",
      "source": [
        "#### 6.3.1 Saving Embeddings"
      ],
      "metadata": {
        "id": "qCSst7X9mzgI"
      }
    },
    {
      "cell_type": "code",
      "source": [
        "# Saving 300-D embeddings, this is acting a look up table\n",
        "with open(os.path.join(DATA_PATH, 'glove_embeddings', 'glove_embeddinga.npy'), 'wb') as f:\n",
        "    np.save(f, embedding_matrix)"
      ],
      "metadata": {
        "id": "XuaQBsnsOz6f"
      },
      "execution_count": null,
      "outputs": []
    },
    {
      "cell_type": "markdown",
      "source": [
        "#### 6.3.2 Loading Embeddings"
      ],
      "metadata": {
        "id": "cnvFSRw8m5zH"
      }
    },
    {
      "cell_type": "code",
      "source": [
        "# Loading 300-D embeddings, this is acting a look up table\n",
        "embedding_matrix = np.load(os.path.join(DATA_PATH, 'glove_embeddings', 'glove_embeddinga.npy'))"
      ],
      "metadata": {
        "id": "fAXO4ORumwPP"
      },
      "execution_count": null,
      "outputs": []
    },
    {
      "cell_type": "markdown",
      "source": [
        "#### 6.3.3 Proportion of non-zero embedding vectors"
      ],
      "metadata": {
        "id": "tERgfvpxnX8l"
      }
    },
    {
      "cell_type": "code",
      "source": [
        "# Proportion of non-zero embedding vectors\n",
        "nonzero_elements = np.count_nonzero(np.count_nonzero(embedding_matrix, axis=1))\n",
        "nonzero_elements / vocab_size"
      ],
      "metadata": {
        "colab": {
          "base_uri": "https://localhost:8080/"
        },
        "id": "O2Spq17cPBHC",
        "outputId": "0f15c533-f532-4af7-cadf-5295dd9df3fb"
      },
      "execution_count": null,
      "outputs": [
        {
          "output_type": "execute_result",
          "data": {
            "text/plain": [
              "0.9742720475549157"
            ]
          },
          "metadata": {},
          "execution_count": 63
        }
      ]
    },
    {
      "cell_type": "markdown",
      "source": [
        "97% words in vocabulary have been embedded with non-zero vectors using Glove pre-trained model."
      ],
      "metadata": {
        "id": "-Bw1VRl_PId5"
      }
    },
    {
      "cell_type": "markdown",
      "source": [
        "### 6.3 Callbacks"
      ],
      "metadata": {
        "id": "BqvaazpjPjd0"
      }
    },
    {
      "cell_type": "code",
      "source": [
        "# Callback to save model\n",
        "filepath = '/content/glove_model1/glove_model.keras'\n",
        "checkpoint = ModelCheckpoint(filepath=filepath, monitor='val_accuarcy', verbose=1, mode='max', save_best_only=True)"
      ],
      "metadata": {
        "id": "Tra6hHQfPpUm"
      },
      "execution_count": null,
      "outputs": []
    },
    {
      "cell_type": "code",
      "source": [
        "# Reduce learning rate by 10% if val acc didn't improve for 3 epochs\n",
        "reduce_lr = ReduceLROnPlateau(monitor='val_accuarcy', factor=0.1, patience=3, verbose=1)"
      ],
      "metadata": {
        "id": "KsZqIRjzPpRr"
      },
      "execution_count": null,
      "outputs": []
    },
    {
      "cell_type": "code",
      "source": [
        "callback = [checkpoint, reduce_lr]"
      ],
      "metadata": {
        "id": "Zva7IB1tPyIM"
      },
      "execution_count": null,
      "outputs": []
    },
    {
      "cell_type": "markdown",
      "source": [
        "### 6.4 Model Training"
      ],
      "metadata": {
        "id": "aTJFxSG8P2Jv"
      }
    },
    {
      "cell_type": "code",
      "source": [
        "clear_session()\n",
        "\n",
        "input_layer = layers.Input(shape=(400,))\n",
        "\n",
        "embed_layer = layers.Embedding(vocab_size, embedding_dim, weights=[embedding_matrix],\n",
        "                              input_length=400, trainable=False)(input_layer)\n",
        "\n",
        "maxpool1 = layers.GlobalMaxPool1D()(embed_layer)\n",
        "\n",
        "dense1 = layers.Dense(256, activation='relu')(maxpool1)\n",
        "drop1 = layers.Dropout(0.2)(dense1)\n",
        "dense2 = layers.Dense(128, activation='relu')(drop1)\n",
        "drop2 = layers.Dropout(0.2)(dense2)\n",
        "dense3 = layers.Dense(64, activation='relu')(drop2)\n",
        "output_layer = layers.Dense(5, activation='sigmoid')(dense3)\n",
        "glove_model = Model(input_layer, output_layer)\n",
        "glove_model.summary()"
      ],
      "metadata": {
        "colab": {
          "base_uri": "https://localhost:8080/",
          "height": 502
        },
        "id": "pQ0KtIHYP0Xx",
        "outputId": "1d24edc4-2d3c-4e38-d8a6-2c266bf5384a"
      },
      "execution_count": null,
      "outputs": [
        {
          "output_type": "stream",
          "name": "stderr",
          "text": [
            "/usr/local/lib/python3.10/dist-packages/keras/src/layers/core/embedding.py:90: UserWarning: Argument `input_length` is deprecated. Just remove it.\n",
            "  warnings.warn(\n"
          ]
        },
        {
          "output_type": "display_data",
          "data": {
            "text/plain": [
              "\u001b[1mModel: \"functional\"\u001b[0m\n"
            ],
            "text/html": [
              "<pre style=\"white-space:pre;overflow-x:auto;line-height:normal;font-family:Menlo,'DejaVu Sans Mono',consolas,'Courier New',monospace\"><span style=\"font-weight: bold\">Model: \"functional\"</span>\n",
              "</pre>\n"
            ]
          },
          "metadata": {}
        },
        {
          "output_type": "display_data",
          "data": {
            "text/plain": [
              "┏━━━━━━━━━━━━━━━━━━━━━━━━━━━━━━━━━━━━━━┳━━━━━━━━━━━━━━━━━━━━━━━━━━━━━┳━━━━━━━━━━━━━━━━━┓\n",
              "┃\u001b[1m \u001b[0m\u001b[1mLayer (type)                        \u001b[0m\u001b[1m \u001b[0m┃\u001b[1m \u001b[0m\u001b[1mOutput Shape               \u001b[0m\u001b[1m \u001b[0m┃\u001b[1m \u001b[0m\u001b[1m        Param #\u001b[0m\u001b[1m \u001b[0m┃\n",
              "┡━━━━━━━━━━━━━━━━━━━━━━━━━━━━━━━━━━━━━━╇━━━━━━━━━━━━━━━━━━━━━━━━━━━━━╇━━━━━━━━━━━━━━━━━┩\n",
              "│ input_layer (\u001b[38;5;33mInputLayer\u001b[0m)             │ (\u001b[38;5;45mNone\u001b[0m, \u001b[38;5;34m400\u001b[0m)                 │               \u001b[38;5;34m0\u001b[0m │\n",
              "├──────────────────────────────────────┼─────────────────────────────┼─────────────────┤\n",
              "│ embedding (\u001b[38;5;33mEmbedding\u001b[0m)                │ (\u001b[38;5;45mNone\u001b[0m, \u001b[38;5;34m400\u001b[0m, \u001b[38;5;34m300\u001b[0m)            │       \u001b[38;5;34m6,459,900\u001b[0m │\n",
              "├──────────────────────────────────────┼─────────────────────────────┼─────────────────┤\n",
              "│ global_max_pooling1d                 │ (\u001b[38;5;45mNone\u001b[0m, \u001b[38;5;34m300\u001b[0m)                 │               \u001b[38;5;34m0\u001b[0m │\n",
              "│ (\u001b[38;5;33mGlobalMaxPooling1D\u001b[0m)                 │                             │                 │\n",
              "├──────────────────────────────────────┼─────────────────────────────┼─────────────────┤\n",
              "│ dense (\u001b[38;5;33mDense\u001b[0m)                        │ (\u001b[38;5;45mNone\u001b[0m, \u001b[38;5;34m256\u001b[0m)                 │          \u001b[38;5;34m77,056\u001b[0m │\n",
              "├──────────────────────────────────────┼─────────────────────────────┼─────────────────┤\n",
              "│ dropout (\u001b[38;5;33mDropout\u001b[0m)                    │ (\u001b[38;5;45mNone\u001b[0m, \u001b[38;5;34m256\u001b[0m)                 │               \u001b[38;5;34m0\u001b[0m │\n",
              "├──────────────────────────────────────┼─────────────────────────────┼─────────────────┤\n",
              "│ dense_1 (\u001b[38;5;33mDense\u001b[0m)                      │ (\u001b[38;5;45mNone\u001b[0m, \u001b[38;5;34m128\u001b[0m)                 │          \u001b[38;5;34m32,896\u001b[0m │\n",
              "├──────────────────────────────────────┼─────────────────────────────┼─────────────────┤\n",
              "│ dropout_1 (\u001b[38;5;33mDropout\u001b[0m)                  │ (\u001b[38;5;45mNone\u001b[0m, \u001b[38;5;34m128\u001b[0m)                 │               \u001b[38;5;34m0\u001b[0m │\n",
              "├──────────────────────────────────────┼─────────────────────────────┼─────────────────┤\n",
              "│ dense_2 (\u001b[38;5;33mDense\u001b[0m)                      │ (\u001b[38;5;45mNone\u001b[0m, \u001b[38;5;34m64\u001b[0m)                  │           \u001b[38;5;34m8,256\u001b[0m │\n",
              "├──────────────────────────────────────┼─────────────────────────────┼─────────────────┤\n",
              "│ dense_3 (\u001b[38;5;33mDense\u001b[0m)                      │ (\u001b[38;5;45mNone\u001b[0m, \u001b[38;5;34m5\u001b[0m)                   │             \u001b[38;5;34m325\u001b[0m │\n",
              "└──────────────────────────────────────┴─────────────────────────────┴─────────────────┘\n"
            ],
            "text/html": [
              "<pre style=\"white-space:pre;overflow-x:auto;line-height:normal;font-family:Menlo,'DejaVu Sans Mono',consolas,'Courier New',monospace\">┏━━━━━━━━━━━━━━━━━━━━━━━━━━━━━━━━━━━━━━┳━━━━━━━━━━━━━━━━━━━━━━━━━━━━━┳━━━━━━━━━━━━━━━━━┓\n",
              "┃<span style=\"font-weight: bold\"> Layer (type)                         </span>┃<span style=\"font-weight: bold\"> Output Shape                </span>┃<span style=\"font-weight: bold\">         Param # </span>┃\n",
              "┡━━━━━━━━━━━━━━━━━━━━━━━━━━━━━━━━━━━━━━╇━━━━━━━━━━━━━━━━━━━━━━━━━━━━━╇━━━━━━━━━━━━━━━━━┩\n",
              "│ input_layer (<span style=\"color: #0087ff; text-decoration-color: #0087ff\">InputLayer</span>)             │ (<span style=\"color: #00d7ff; text-decoration-color: #00d7ff\">None</span>, <span style=\"color: #00af00; text-decoration-color: #00af00\">400</span>)                 │               <span style=\"color: #00af00; text-decoration-color: #00af00\">0</span> │\n",
              "├──────────────────────────────────────┼─────────────────────────────┼─────────────────┤\n",
              "│ embedding (<span style=\"color: #0087ff; text-decoration-color: #0087ff\">Embedding</span>)                │ (<span style=\"color: #00d7ff; text-decoration-color: #00d7ff\">None</span>, <span style=\"color: #00af00; text-decoration-color: #00af00\">400</span>, <span style=\"color: #00af00; text-decoration-color: #00af00\">300</span>)            │       <span style=\"color: #00af00; text-decoration-color: #00af00\">6,459,900</span> │\n",
              "├──────────────────────────────────────┼─────────────────────────────┼─────────────────┤\n",
              "│ global_max_pooling1d                 │ (<span style=\"color: #00d7ff; text-decoration-color: #00d7ff\">None</span>, <span style=\"color: #00af00; text-decoration-color: #00af00\">300</span>)                 │               <span style=\"color: #00af00; text-decoration-color: #00af00\">0</span> │\n",
              "│ (<span style=\"color: #0087ff; text-decoration-color: #0087ff\">GlobalMaxPooling1D</span>)                 │                             │                 │\n",
              "├──────────────────────────────────────┼─────────────────────────────┼─────────────────┤\n",
              "│ dense (<span style=\"color: #0087ff; text-decoration-color: #0087ff\">Dense</span>)                        │ (<span style=\"color: #00d7ff; text-decoration-color: #00d7ff\">None</span>, <span style=\"color: #00af00; text-decoration-color: #00af00\">256</span>)                 │          <span style=\"color: #00af00; text-decoration-color: #00af00\">77,056</span> │\n",
              "├──────────────────────────────────────┼─────────────────────────────┼─────────────────┤\n",
              "│ dropout (<span style=\"color: #0087ff; text-decoration-color: #0087ff\">Dropout</span>)                    │ (<span style=\"color: #00d7ff; text-decoration-color: #00d7ff\">None</span>, <span style=\"color: #00af00; text-decoration-color: #00af00\">256</span>)                 │               <span style=\"color: #00af00; text-decoration-color: #00af00\">0</span> │\n",
              "├──────────────────────────────────────┼─────────────────────────────┼─────────────────┤\n",
              "│ dense_1 (<span style=\"color: #0087ff; text-decoration-color: #0087ff\">Dense</span>)                      │ (<span style=\"color: #00d7ff; text-decoration-color: #00d7ff\">None</span>, <span style=\"color: #00af00; text-decoration-color: #00af00\">128</span>)                 │          <span style=\"color: #00af00; text-decoration-color: #00af00\">32,896</span> │\n",
              "├──────────────────────────────────────┼─────────────────────────────┼─────────────────┤\n",
              "│ dropout_1 (<span style=\"color: #0087ff; text-decoration-color: #0087ff\">Dropout</span>)                  │ (<span style=\"color: #00d7ff; text-decoration-color: #00d7ff\">None</span>, <span style=\"color: #00af00; text-decoration-color: #00af00\">128</span>)                 │               <span style=\"color: #00af00; text-decoration-color: #00af00\">0</span> │\n",
              "├──────────────────────────────────────┼─────────────────────────────┼─────────────────┤\n",
              "│ dense_2 (<span style=\"color: #0087ff; text-decoration-color: #0087ff\">Dense</span>)                      │ (<span style=\"color: #00d7ff; text-decoration-color: #00d7ff\">None</span>, <span style=\"color: #00af00; text-decoration-color: #00af00\">64</span>)                  │           <span style=\"color: #00af00; text-decoration-color: #00af00\">8,256</span> │\n",
              "├──────────────────────────────────────┼─────────────────────────────┼─────────────────┤\n",
              "│ dense_3 (<span style=\"color: #0087ff; text-decoration-color: #0087ff\">Dense</span>)                      │ (<span style=\"color: #00d7ff; text-decoration-color: #00d7ff\">None</span>, <span style=\"color: #00af00; text-decoration-color: #00af00\">5</span>)                   │             <span style=\"color: #00af00; text-decoration-color: #00af00\">325</span> │\n",
              "└──────────────────────────────────────┴─────────────────────────────┴─────────────────┘\n",
              "</pre>\n"
            ]
          },
          "metadata": {}
        },
        {
          "output_type": "display_data",
          "data": {
            "text/plain": [
              "\u001b[1m Total params: \u001b[0m\u001b[38;5;34m6,578,433\u001b[0m (25.09 MB)\n"
            ],
            "text/html": [
              "<pre style=\"white-space:pre;overflow-x:auto;line-height:normal;font-family:Menlo,'DejaVu Sans Mono',consolas,'Courier New',monospace\"><span style=\"font-weight: bold\"> Total params: </span><span style=\"color: #00af00; text-decoration-color: #00af00\">6,578,433</span> (25.09 MB)\n",
              "</pre>\n"
            ]
          },
          "metadata": {}
        },
        {
          "output_type": "display_data",
          "data": {
            "text/plain": [
              "\u001b[1m Trainable params: \u001b[0m\u001b[38;5;34m118,533\u001b[0m (463.02 KB)\n"
            ],
            "text/html": [
              "<pre style=\"white-space:pre;overflow-x:auto;line-height:normal;font-family:Menlo,'DejaVu Sans Mono',consolas,'Courier New',monospace\"><span style=\"font-weight: bold\"> Trainable params: </span><span style=\"color: #00af00; text-decoration-color: #00af00\">118,533</span> (463.02 KB)\n",
              "</pre>\n"
            ]
          },
          "metadata": {}
        },
        {
          "output_type": "display_data",
          "data": {
            "text/plain": [
              "\u001b[1m Non-trainable params: \u001b[0m\u001b[38;5;34m6,459,900\u001b[0m (24.64 MB)\n"
            ],
            "text/html": [
              "<pre style=\"white-space:pre;overflow-x:auto;line-height:normal;font-family:Menlo,'DejaVu Sans Mono',consolas,'Courier New',monospace\"><span style=\"font-weight: bold\"> Non-trainable params: </span><span style=\"color: #00af00; text-decoration-color: #00af00\">6,459,900</span> (24.64 MB)\n",
              "</pre>\n"
            ]
          },
          "metadata": {}
        }
      ]
    },
    {
      "cell_type": "code",
      "source": [
        "# compiling model\n",
        "glove_model.compile(loss='sparse_categorical_crossentropy', optimizer='adam', metrics=['accuracy'])"
      ],
      "metadata": {
        "id": "MjaUugYgP-st"
      },
      "execution_count": null,
      "outputs": []
    },
    {
      "cell_type": "code",
      "source": [
        "# training model\n",
        "history = glove_model.fit(padded_train, y_train, batch_size=64, epochs=15,  validation_data=(padded_test, y_test), callbacks=callback)"
      ],
      "metadata": {
        "colab": {
          "base_uri": "https://localhost:8080/"
        },
        "id": "RBHrRameQEg1",
        "outputId": "027cf541-bb4d-4f6e-aae6-39559a8135d3"
      },
      "execution_count": null,
      "outputs": [
        {
          "output_type": "stream",
          "name": "stdout",
          "text": [
            "Epoch 1/15\n",
            "\u001b[1m19/19\u001b[0m \u001b[32m━━━━━━━━━━━━━━━━━━━━\u001b[0m\u001b[37m\u001b[0m \u001b[1m3s\u001b[0m 60ms/step - accuracy: 0.2362 - loss: 1.6999 - val_accuracy: 0.3087 - val_loss: 1.5404 - learning_rate: 0.0010\n",
            "Epoch 2/15\n",
            "\u001b[1m 1/19\u001b[0m \u001b[32m━\u001b[0m\u001b[37m━━━━━━━━━━━━━━━━━━━\u001b[0m \u001b[1m2s\u001b[0m 160ms/step - accuracy: 0.1875 - loss: 1.6090"
          ]
        },
        {
          "output_type": "stream",
          "name": "stderr",
          "text": [
            "/usr/local/lib/python3.10/dist-packages/keras/src/callbacks/model_checkpoint.py:206: UserWarning: Can save best model only with val_accuarcy available, skipping.\n",
            "  self._save_model(epoch=epoch, batch=None, logs=logs)\n",
            "/usr/local/lib/python3.10/dist-packages/keras/src/callbacks/callback_list.py:96: UserWarning: Learning rate reduction is conditioned on metric `val_accuarcy` which is not available. Available metrics are: accuracy,loss,val_accuracy,val_loss,learning_rate.\n",
            "  callback.on_epoch_end(epoch, logs)\n"
          ]
        },
        {
          "output_type": "stream",
          "name": "stdout",
          "text": [
            "\u001b[1m19/19\u001b[0m \u001b[32m━━━━━━━━━━━━━━━━━━━━\u001b[0m\u001b[37m\u001b[0m \u001b[1m1s\u001b[0m 40ms/step - accuracy: 0.2384 - loss: 1.5873 - val_accuracy: 0.4698 - val_loss: 1.4444 - learning_rate: 0.0010\n",
            "Epoch 3/15\n",
            "\u001b[1m19/19\u001b[0m \u001b[32m━━━━━━━━━━━━━━━━━━━━\u001b[0m\u001b[37m\u001b[0m \u001b[1m0s\u001b[0m 26ms/step - accuracy: 0.3981 - loss: 1.4490 - val_accuracy: 0.6443 - val_loss: 1.2174 - learning_rate: 0.0010\n",
            "Epoch 4/15\n",
            "\u001b[1m19/19\u001b[0m \u001b[32m━━━━━━━━━━━━━━━━━━━━\u001b[0m\u001b[37m\u001b[0m \u001b[1m0s\u001b[0m 22ms/step - accuracy: 0.5118 - loss: 1.2643 - val_accuracy: 0.5940 - val_loss: 1.0412 - learning_rate: 0.0010\n",
            "Epoch 5/15\n",
            "\u001b[1m19/19\u001b[0m \u001b[32m━━━━━━━━━━━━━━━━━━━━\u001b[0m\u001b[37m\u001b[0m \u001b[1m1s\u001b[0m 26ms/step - accuracy: 0.6154 - loss: 1.0534 - val_accuracy: 0.7550 - val_loss: 0.8398 - learning_rate: 0.0010\n",
            "Epoch 6/15\n",
            "\u001b[1m19/19\u001b[0m \u001b[32m━━━━━━━━━━━━━━━━━━━━\u001b[0m\u001b[37m\u001b[0m \u001b[1m1s\u001b[0m 27ms/step - accuracy: 0.6994 - loss: 0.8910 - val_accuracy: 0.7047 - val_loss: 0.6902 - learning_rate: 0.0010\n",
            "Epoch 7/15\n",
            "\u001b[1m19/19\u001b[0m \u001b[32m━━━━━━━━━━━━━━━━━━━━\u001b[0m\u001b[37m\u001b[0m \u001b[1m1s\u001b[0m 28ms/step - accuracy: 0.7598 - loss: 0.6683 - val_accuracy: 0.8557 - val_loss: 0.4956 - learning_rate: 0.0010\n",
            "Epoch 8/15\n",
            "\u001b[1m19/19\u001b[0m \u001b[32m━━━━━━━━━━━━━━━━━━━━\u001b[0m\u001b[37m\u001b[0m \u001b[1m1s\u001b[0m 26ms/step - accuracy: 0.8314 - loss: 0.5196 - val_accuracy: 0.8725 - val_loss: 0.4080 - learning_rate: 0.0010\n",
            "Epoch 9/15\n",
            "\u001b[1m19/19\u001b[0m \u001b[32m━━━━━━━━━━━━━━━━━━━━\u001b[0m\u001b[37m\u001b[0m \u001b[1m0s\u001b[0m 23ms/step - accuracy: 0.8480 - loss: 0.4287 - val_accuracy: 0.8691 - val_loss: 0.3735 - learning_rate: 0.0010\n",
            "Epoch 10/15\n",
            "\u001b[1m19/19\u001b[0m \u001b[32m━━━━━━━━━━━━━━━━━━━━\u001b[0m\u001b[37m\u001b[0m \u001b[1m1s\u001b[0m 25ms/step - accuracy: 0.8431 - loss: 0.4116 - val_accuracy: 0.8960 - val_loss: 0.3117 - learning_rate: 0.0010\n",
            "Epoch 11/15\n",
            "\u001b[1m19/19\u001b[0m \u001b[32m━━━━━━━━━━━━━━━━━━━━\u001b[0m\u001b[37m\u001b[0m \u001b[1m1s\u001b[0m 22ms/step - accuracy: 0.8752 - loss: 0.3479 - val_accuracy: 0.8926 - val_loss: 0.2945 - learning_rate: 0.0010\n",
            "Epoch 12/15\n",
            "\u001b[1m19/19\u001b[0m \u001b[32m━━━━━━━━━━━━━━━━━━━━\u001b[0m\u001b[37m\u001b[0m \u001b[1m1s\u001b[0m 24ms/step - accuracy: 0.8816 - loss: 0.3384 - val_accuracy: 0.9128 - val_loss: 0.2874 - learning_rate: 0.0010\n",
            "Epoch 13/15\n",
            "\u001b[1m19/19\u001b[0m \u001b[32m━━━━━━━━━━━━━━━━━━━━\u001b[0m\u001b[37m\u001b[0m \u001b[1m1s\u001b[0m 25ms/step - accuracy: 0.8823 - loss: 0.3436 - val_accuracy: 0.9060 - val_loss: 0.2874 - learning_rate: 0.0010\n",
            "Epoch 14/15\n",
            "\u001b[1m19/19\u001b[0m \u001b[32m━━━━━━━━━━━━━━━━━━━━\u001b[0m\u001b[37m\u001b[0m \u001b[1m0s\u001b[0m 23ms/step - accuracy: 0.8905 - loss: 0.2946 - val_accuracy: 0.9228 - val_loss: 0.2748 - learning_rate: 0.0010\n",
            "Epoch 15/15\n",
            "\u001b[1m19/19\u001b[0m \u001b[32m━━━━━━━━━━━━━━━━━━━━\u001b[0m\u001b[37m\u001b[0m \u001b[1m1s\u001b[0m 23ms/step - accuracy: 0.8803 - loss: 0.3283 - val_accuracy: 0.9161 - val_loss: 0.2618 - learning_rate: 0.0010\n"
          ]
        }
      ]
    },
    {
      "cell_type": "markdown",
      "source": [
        "### 6.5 Evaluation"
      ],
      "metadata": {
        "id": "oNDBlJjPxAWB"
      }
    },
    {
      "cell_type": "code",
      "source": [
        "# Plot history\n",
        "plot_history(history)"
      ],
      "metadata": {
        "colab": {
          "base_uri": "https://localhost:8080/",
          "height": 469
        },
        "id": "RzuyBUCYL-dG",
        "outputId": "8d160119-163d-4a33-e3bf-a2373cb3b3da"
      },
      "execution_count": null,
      "outputs": [
        {
          "output_type": "display_data",
          "data": {
            "text/plain": [
              "<Figure size 1200x500 with 2 Axes>"
            ],
            "image/png": "[encoded data removed]"
          },
          "metadata": {}
        }
      ]
    },
    {
      "cell_type": "code",
      "source": [
        "y_pred_train = glove_model.predict(padded_train, batch_size=64, verbose=1)\n",
        "y_pred_bool_train = np.argmax(y_pred_train, axis=1)\n",
        "\n",
        "print(classification_report(y_train, y_pred_bool_train, zero_division=1))"
      ],
      "metadata": {
        "colab": {
          "base_uri": "https://localhost:8080/"
        },
        "id": "fOurHWppnZRZ",
        "outputId": "7ae781db-26d9-4163-e5da-c306fe5d3fb1"
      },
      "execution_count": null,
      "outputs": [
        {
          "output_type": "stream",
          "name": "stdout",
          "text": [
            "\u001b[1m19/19\u001b[0m \u001b[32m━━━━━━━━━━━━━━━━━━━━\u001b[0m\u001b[37m\u001b[0m \u001b[1m1s\u001b[0m 28ms/step\n",
            "              precision    recall  f1-score   support\n",
            "\n",
            "           0       1.00      0.00      0.00       269\n",
            "           1       0.00      0.00      0.00       209\n",
            "           2       1.00      0.00      0.00       219\n",
            "           3       0.29      0.67      0.41       277\n",
            "           4       0.14      0.34      0.19       218\n",
            "\n",
            "    accuracy                           0.22      1192\n",
            "   macro avg       0.49      0.20      0.12      1192\n",
            "weighted avg       0.50      0.22      0.13      1192\n",
            "\n"
          ]
        }
      ]
    },
    {
      "cell_type": "code",
      "source": [
        "y_pred_test = glove_model.predict(padded_test, batch_size=64, verbose=1)\n",
        "y_pred_bool_test = np.argmax(y_pred_test, axis=1)\n",
        "\n",
        "print(classification_report(y_test, y_pred_bool_test, zero_division=1))"
      ],
      "metadata": {
        "colab": {
          "base_uri": "https://localhost:8080/"
        },
        "id": "0xiFQP8ngtXt",
        "outputId": "178e94fa-3fd0-4ae4-c294-7feb3929b879"
      },
      "execution_count": null,
      "outputs": [
        {
          "output_type": "stream",
          "name": "stdout",
          "text": [
            "\u001b[1m5/5\u001b[0m \u001b[32m━━━━━━━━━━━━━━━━━━━━\u001b[0m\u001b[37m\u001b[0m \u001b[1m0s\u001b[0m 14ms/step\n",
            "              precision    recall  f1-score   support\n",
            "\n",
            "           0       1.00      0.00      0.00        67\n",
            "           1       0.33      0.04      0.07        52\n",
            "           2       0.00      0.00      0.00        55\n",
            "           3       0.30      0.62      0.41        69\n",
            "           4       0.11      0.31      0.17        55\n",
            "\n",
            "    accuracy                           0.21       298\n",
            "   macro avg       0.35      0.19      0.13       298\n",
            "weighted avg       0.37      0.21      0.14       298\n",
            "\n"
          ]
        }
      ]
    },
    {
      "cell_type": "markdown",
      "source": [
        "#### **Obeservation:**\n",
        "\n",
        "- without training GloVe embeddings **14%** f1-score, worst performance"
      ],
      "metadata": {
        "id": "KczwMlDV2UFO"
      }
    },
    {
      "cell_type": "markdown",
      "source": [
        "## 7.Training Glove Embeddings"
      ],
      "metadata": {
        "id": "AhNdlO3pxQ_G"
      }
    },
    {
      "cell_type": "markdown",
      "source": [
        "### 7.1 Callbacks"
      ],
      "metadata": {
        "id": "tvWoE9GTxcLq"
      }
    },
    {
      "cell_type": "code",
      "source": [
        "# Callback to save model\n",
        "filepath = '/content/glove_model2/glove_model2.keras'\n",
        "checkpoint = ModelCheckpoint(filepath=filepath, monitor='val_accuarcy', verbose=1, mode='max', save_best_only=True)\n",
        "\n",
        "# Reduce learning rate by 10% if val acc didn't improve for 3 epochs\n",
        "reduce_lr = ReduceLROnPlateau(monitor='val_accuarcy', factor=0.1, patience=3, verbose=1)\n",
        "\n",
        "callback = [checkpoint, reduce_lr]"
      ],
      "metadata": {
        "id": "iHSx-QzDxdW9"
      },
      "execution_count": null,
      "outputs": []
    },
    {
      "cell_type": "markdown",
      "source": [
        "### 7.2 Model Training"
      ],
      "metadata": {
        "id": "V8DqvFsm2FTP"
      }
    },
    {
      "cell_type": "code",
      "source": [
        "clear_session()\n",
        "\n",
        "input_layer = layers.Input(shape=(400,))\n",
        "\n",
        "embed_layer = layers.Embedding(vocab_size, embedding_dim, weights=[embedding_matrix],\n",
        "                              input_length=400, trainable=True)(input_layer)\n",
        "\n",
        "maxpool1 = layers.GlobalMaxPool1D()(embed_layer)\n",
        "\n",
        "dense1 = layers.Dense(256, activation='relu')(maxpool1)\n",
        "drop1 = layers.Dropout(0.2)(dense1)\n",
        "dense2 = layers.Dense(128, activation='relu')(drop1)\n",
        "drop2 = layers.Dropout(0.2)(dense2)\n",
        "dense3 = layers.Dense(64, activation='relu')(drop2)\n",
        "output_layer = layers.Dense(5, activation='sigmoid')(dense3)\n",
        "glove_model = Model(input_layer, output_layer)\n",
        "glove_model.summary()"
      ],
      "metadata": {
        "colab": {
          "base_uri": "https://localhost:8080/",
          "height": 502
        },
        "id": "Fwu-07VwnTs-",
        "outputId": "2bb5341a-aa7b-4e7a-f602-a7c5bd8bbd0b"
      },
      "execution_count": null,
      "outputs": [
        {
          "output_type": "stream",
          "name": "stderr",
          "text": [
            "/usr/local/lib/python3.10/dist-packages/keras/src/layers/core/embedding.py:90: UserWarning: Argument `input_length` is deprecated. Just remove it.\n",
            "  warnings.warn(\n"
          ]
        },
        {
          "output_type": "display_data",
          "data": {
            "text/plain": [
              "\u001b[1mModel: \"functional\"\u001b[0m\n"
            ],
            "text/html": [
              "<pre style=\"white-space:pre;overflow-x:auto;line-height:normal;font-family:Menlo,'DejaVu Sans Mono',consolas,'Courier New',monospace\"><span style=\"font-weight: bold\">Model: \"functional\"</span>\n",
              "</pre>\n"
            ]
          },
          "metadata": {}
        },
        {
          "output_type": "display_data",
          "data": {
            "text/plain": [
              "┏━━━━━━━━━━━━━━━━━━━━━━━━━━━━━━━━━━━━━━┳━━━━━━━━━━━━━━━━━━━━━━━━━━━━━┳━━━━━━━━━━━━━━━━━┓\n",
              "┃\u001b[1m \u001b[0m\u001b[1mLayer (type)                        \u001b[0m\u001b[1m \u001b[0m┃\u001b[1m \u001b[0m\u001b[1mOutput Shape               \u001b[0m\u001b[1m \u001b[0m┃\u001b[1m \u001b[0m\u001b[1m        Param #\u001b[0m\u001b[1m \u001b[0m┃\n",
              "┡━━━━━━━━━━━━━━━━━━━━━━━━━━━━━━━━━━━━━━╇━━━━━━━━━━━━━━━━━━━━━━━━━━━━━╇━━━━━━━━━━━━━━━━━┩\n",
              "│ input_layer (\u001b[38;5;33mInputLayer\u001b[0m)             │ (\u001b[38;5;45mNone\u001b[0m, \u001b[38;5;34m400\u001b[0m)                 │               \u001b[38;5;34m0\u001b[0m │\n",
              "├──────────────────────────────────────┼─────────────────────────────┼─────────────────┤\n",
              "│ embedding (\u001b[38;5;33mEmbedding\u001b[0m)                │ (\u001b[38;5;45mNone\u001b[0m, \u001b[38;5;34m400\u001b[0m, \u001b[38;5;34m300\u001b[0m)            │       \u001b[38;5;34m6,459,900\u001b[0m │\n",
              "├──────────────────────────────────────┼─────────────────────────────┼─────────────────┤\n",
              "│ global_max_pooling1d                 │ (\u001b[38;5;45mNone\u001b[0m, \u001b[38;5;34m300\u001b[0m)                 │               \u001b[38;5;34m0\u001b[0m │\n",
              "│ (\u001b[38;5;33mGlobalMaxPooling1D\u001b[0m)                 │                             │                 │\n",
              "├──────────────────────────────────────┼─────────────────────────────┼─────────────────┤\n",
              "│ dense (\u001b[38;5;33mDense\u001b[0m)                        │ (\u001b[38;5;45mNone\u001b[0m, \u001b[38;5;34m256\u001b[0m)                 │          \u001b[38;5;34m77,056\u001b[0m │\n",
              "├──────────────────────────────────────┼─────────────────────────────┼─────────────────┤\n",
              "│ dropout (\u001b[38;5;33mDropout\u001b[0m)                    │ (\u001b[38;5;45mNone\u001b[0m, \u001b[38;5;34m256\u001b[0m)                 │               \u001b[38;5;34m0\u001b[0m │\n",
              "├──────────────────────────────────────┼─────────────────────────────┼─────────────────┤\n",
              "│ dense_1 (\u001b[38;5;33mDense\u001b[0m)                      │ (\u001b[38;5;45mNone\u001b[0m, \u001b[38;5;34m128\u001b[0m)                 │          \u001b[38;5;34m32,896\u001b[0m │\n",
              "├──────────────────────────────────────┼─────────────────────────────┼─────────────────┤\n",
              "│ dropout_1 (\u001b[38;5;33mDropout\u001b[0m)                  │ (\u001b[38;5;45mNone\u001b[0m, \u001b[38;5;34m128\u001b[0m)                 │               \u001b[38;5;34m0\u001b[0m │\n",
              "├──────────────────────────────────────┼─────────────────────────────┼─────────────────┤\n",
              "│ dense_2 (\u001b[38;5;33mDense\u001b[0m)                      │ (\u001b[38;5;45mNone\u001b[0m, \u001b[38;5;34m64\u001b[0m)                  │           \u001b[38;5;34m8,256\u001b[0m │\n",
              "├──────────────────────────────────────┼─────────────────────────────┼─────────────────┤\n",
              "│ dense_3 (\u001b[38;5;33mDense\u001b[0m)                      │ (\u001b[38;5;45mNone\u001b[0m, \u001b[38;5;34m5\u001b[0m)                   │             \u001b[38;5;34m325\u001b[0m │\n",
              "└──────────────────────────────────────┴─────────────────────────────┴─────────────────┘\n"
            ],
            "text/html": [
              "<pre style=\"white-space:pre;overflow-x:auto;line-height:normal;font-family:Menlo,'DejaVu Sans Mono',consolas,'Courier New',monospace\">┏━━━━━━━━━━━━━━━━━━━━━━━━━━━━━━━━━━━━━━┳━━━━━━━━━━━━━━━━━━━━━━━━━━━━━┳━━━━━━━━━━━━━━━━━┓\n",
              "┃<span style=\"font-weight: bold\"> Layer (type)                         </span>┃<span style=\"font-weight: bold\"> Output Shape                </span>┃<span style=\"font-weight: bold\">         Param # </span>┃\n",
              "┡━━━━━━━━━━━━━━━━━━━━━━━━━━━━━━━━━━━━━━╇━━━━━━━━━━━━━━━━━━━━━━━━━━━━━╇━━━━━━━━━━━━━━━━━┩\n",
              "│ input_layer (<span style=\"color: #0087ff; text-decoration-color: #0087ff\">InputLayer</span>)             │ (<span style=\"color: #00d7ff; text-decoration-color: #00d7ff\">None</span>, <span style=\"color: #00af00; text-decoration-color: #00af00\">400</span>)                 │               <span style=\"color: #00af00; text-decoration-color: #00af00\">0</span> │\n",
              "├──────────────────────────────────────┼─────────────────────────────┼─────────────────┤\n",
              "│ embedding (<span style=\"color: #0087ff; text-decoration-color: #0087ff\">Embedding</span>)                │ (<span style=\"color: #00d7ff; text-decoration-color: #00d7ff\">None</span>, <span style=\"color: #00af00; text-decoration-color: #00af00\">400</span>, <span style=\"color: #00af00; text-decoration-color: #00af00\">300</span>)            │       <span style=\"color: #00af00; text-decoration-color: #00af00\">6,459,900</span> │\n",
              "├──────────────────────────────────────┼─────────────────────────────┼─────────────────┤\n",
              "│ global_max_pooling1d                 │ (<span style=\"color: #00d7ff; text-decoration-color: #00d7ff\">None</span>, <span style=\"color: #00af00; text-decoration-color: #00af00\">300</span>)                 │               <span style=\"color: #00af00; text-decoration-color: #00af00\">0</span> │\n",
              "│ (<span style=\"color: #0087ff; text-decoration-color: #0087ff\">GlobalMaxPooling1D</span>)                 │                             │                 │\n",
              "├──────────────────────────────────────┼─────────────────────────────┼─────────────────┤\n",
              "│ dense (<span style=\"color: #0087ff; text-decoration-color: #0087ff\">Dense</span>)                        │ (<span style=\"color: #00d7ff; text-decoration-color: #00d7ff\">None</span>, <span style=\"color: #00af00; text-decoration-color: #00af00\">256</span>)                 │          <span style=\"color: #00af00; text-decoration-color: #00af00\">77,056</span> │\n",
              "├──────────────────────────────────────┼─────────────────────────────┼─────────────────┤\n",
              "│ dropout (<span style=\"color: #0087ff; text-decoration-color: #0087ff\">Dropout</span>)                    │ (<span style=\"color: #00d7ff; text-decoration-color: #00d7ff\">None</span>, <span style=\"color: #00af00; text-decoration-color: #00af00\">256</span>)                 │               <span style=\"color: #00af00; text-decoration-color: #00af00\">0</span> │\n",
              "├──────────────────────────────────────┼─────────────────────────────┼─────────────────┤\n",
              "│ dense_1 (<span style=\"color: #0087ff; text-decoration-color: #0087ff\">Dense</span>)                      │ (<span style=\"color: #00d7ff; text-decoration-color: #00d7ff\">None</span>, <span style=\"color: #00af00; text-decoration-color: #00af00\">128</span>)                 │          <span style=\"color: #00af00; text-decoration-color: #00af00\">32,896</span> │\n",
              "├──────────────────────────────────────┼─────────────────────────────┼─────────────────┤\n",
              "│ dropout_1 (<span style=\"color: #0087ff; text-decoration-color: #0087ff\">Dropout</span>)                  │ (<span style=\"color: #00d7ff; text-decoration-color: #00d7ff\">None</span>, <span style=\"color: #00af00; text-decoration-color: #00af00\">128</span>)                 │               <span style=\"color: #00af00; text-decoration-color: #00af00\">0</span> │\n",
              "├──────────────────────────────────────┼─────────────────────────────┼─────────────────┤\n",
              "│ dense_2 (<span style=\"color: #0087ff; text-decoration-color: #0087ff\">Dense</span>)                      │ (<span style=\"color: #00d7ff; text-decoration-color: #00d7ff\">None</span>, <span style=\"color: #00af00; text-decoration-color: #00af00\">64</span>)                  │           <span style=\"color: #00af00; text-decoration-color: #00af00\">8,256</span> │\n",
              "├──────────────────────────────────────┼─────────────────────────────┼─────────────────┤\n",
              "│ dense_3 (<span style=\"color: #0087ff; text-decoration-color: #0087ff\">Dense</span>)                      │ (<span style=\"color: #00d7ff; text-decoration-color: #00d7ff\">None</span>, <span style=\"color: #00af00; text-decoration-color: #00af00\">5</span>)                   │             <span style=\"color: #00af00; text-decoration-color: #00af00\">325</span> │\n",
              "└──────────────────────────────────────┴─────────────────────────────┴─────────────────┘\n",
              "</pre>\n"
            ]
          },
          "metadata": {}
        },
        {
          "output_type": "display_data",
          "data": {
            "text/plain": [
              "\u001b[1m Total params: \u001b[0m\u001b[38;5;34m6,578,433\u001b[0m (25.09 MB)\n"
            ],
            "text/html": [
              "<pre style=\"white-space:pre;overflow-x:auto;line-height:normal;font-family:Menlo,'DejaVu Sans Mono',consolas,'Courier New',monospace\"><span style=\"font-weight: bold\"> Total params: </span><span style=\"color: #00af00; text-decoration-color: #00af00\">6,578,433</span> (25.09 MB)\n",
              "</pre>\n"
            ]
          },
          "metadata": {}
        },
        {
          "output_type": "display_data",
          "data": {
            "text/plain": [
              "\u001b[1m Trainable params: \u001b[0m\u001b[38;5;34m6,578,433\u001b[0m (25.09 MB)\n"
            ],
            "text/html": [
              "<pre style=\"white-space:pre;overflow-x:auto;line-height:normal;font-family:Menlo,'DejaVu Sans Mono',consolas,'Courier New',monospace\"><span style=\"font-weight: bold\"> Trainable params: </span><span style=\"color: #00af00; text-decoration-color: #00af00\">6,578,433</span> (25.09 MB)\n",
              "</pre>\n"
            ]
          },
          "metadata": {}
        },
        {
          "output_type": "display_data",
          "data": {
            "text/plain": [
              "\u001b[1m Non-trainable params: \u001b[0m\u001b[38;5;34m0\u001b[0m (0.00 B)\n"
            ],
            "text/html": [
              "<pre style=\"white-space:pre;overflow-x:auto;line-height:normal;font-family:Menlo,'DejaVu Sans Mono',consolas,'Courier New',monospace\"><span style=\"font-weight: bold\"> Non-trainable params: </span><span style=\"color: #00af00; text-decoration-color: #00af00\">0</span> (0.00 B)\n",
              "</pre>\n"
            ]
          },
          "metadata": {}
        }
      ]
    },
    {
      "cell_type": "code",
      "source": [
        "# compiling model\n",
        "glove_model.compile(loss='sparse_categorical_crossentropy', optimizer='adam', metrics=['accuracy'])"
      ],
      "metadata": {
        "id": "O-gPd3hE82yy"
      },
      "execution_count": null,
      "outputs": []
    },
    {
      "cell_type": "code",
      "source": [
        "# training model\n",
        "history = glove_model.fit(padded_train, y_train, batch_size=64, epochs=15,  validation_data=(padded_test, y_test), callbacks=callback)"
      ],
      "metadata": {
        "colab": {
          "base_uri": "https://localhost:8080/"
        },
        "id": "W6w7aQvE86Pr",
        "outputId": "bc68a1ec-e74d-4e9b-8c5f-7d678defe1fc"
      },
      "execution_count": null,
      "outputs": [
        {
          "output_type": "stream",
          "name": "stdout",
          "text": [
            "Epoch 1/15\n",
            "\u001b[1m19/19\u001b[0m \u001b[32m━━━━━━━━━━━━━━━━━━━━\u001b[0m\u001b[37m\u001b[0m \u001b[1m4s\u001b[0m 131ms/step - accuracy: 0.2083 - loss: 1.6925 - val_accuracy: 0.4497 - val_loss: 1.5578 - learning_rate: 0.0010\n",
            "Epoch 2/15\n",
            "\u001b[1m 1/19\u001b[0m \u001b[32m━\u001b[0m\u001b[37m━━━━━━━━━━━━━━━━━━━\u001b[0m \u001b[1m2s\u001b[0m 139ms/step - accuracy: 0.2656 - loss: 1.5361"
          ]
        },
        {
          "output_type": "stream",
          "name": "stderr",
          "text": [
            "/usr/local/lib/python3.10/dist-packages/keras/src/callbacks/model_checkpoint.py:206: UserWarning: Can save best model only with val_accuarcy available, skipping.\n",
            "  self._save_model(epoch=epoch, batch=None, logs=logs)\n",
            "/usr/local/lib/python3.10/dist-packages/keras/src/callbacks/callback_list.py:96: UserWarning: Learning rate reduction is conditioned on metric `val_accuarcy` which is not available. Available metrics are: accuracy,loss,val_accuracy,val_loss,learning_rate.\n",
            "  callback.on_epoch_end(epoch, logs)\n"
          ]
        },
        {
          "output_type": "stream",
          "name": "stdout",
          "text": [
            "\u001b[1m19/19\u001b[0m \u001b[32m━━━━━━━━━━━━━━━━━━━━\u001b[0m\u001b[37m\u001b[0m \u001b[1m2s\u001b[0m 124ms/step - accuracy: 0.2972 - loss: 1.5500 - val_accuracy: 0.6342 - val_loss: 1.3976 - learning_rate: 0.0010\n",
            "Epoch 3/15\n",
            "\u001b[1m19/19\u001b[0m \u001b[32m━━━━━━━━━━━━━━━━━━━━\u001b[0m\u001b[37m\u001b[0m \u001b[1m2s\u001b[0m 112ms/step - accuracy: 0.4360 - loss: 1.4142 - val_accuracy: 0.7282 - val_loss: 1.1595 - learning_rate: 0.0010\n",
            "Epoch 4/15\n",
            "\u001b[1m19/19\u001b[0m \u001b[32m━━━━━━━━━━━━━━━━━━━━\u001b[0m\u001b[37m\u001b[0m \u001b[1m3s\u001b[0m 152ms/step - accuracy: 0.6108 - loss: 1.1521 - val_accuracy: 0.8792 - val_loss: 0.8063 - learning_rate: 0.0010\n",
            "Epoch 5/15\n",
            "\u001b[1m19/19\u001b[0m \u001b[32m━━━━━━━━━━━━━━━━━━━━\u001b[0m\u001b[37m\u001b[0m \u001b[1m6s\u001b[0m 175ms/step - accuracy: 0.7253 - loss: 0.8281 - val_accuracy: 0.9128 - val_loss: 0.4829 - learning_rate: 0.0010\n",
            "Epoch 6/15\n",
            "\u001b[1m19/19\u001b[0m \u001b[32m━━━━━━━━━━━━━━━━━━━━\u001b[0m\u001b[37m\u001b[0m \u001b[1m5s\u001b[0m 176ms/step - accuracy: 0.8389 - loss: 0.5322 - val_accuracy: 0.9430 - val_loss: 0.3082 - learning_rate: 0.0010\n",
            "Epoch 7/15\n",
            "\u001b[1m19/19\u001b[0m \u001b[32m━━━━━━━━━━━━━━━━━━━━\u001b[0m\u001b[37m\u001b[0m \u001b[1m3s\u001b[0m 136ms/step - accuracy: 0.9157 - loss: 0.3086 - val_accuracy: 0.9128 - val_loss: 0.2679 - learning_rate: 0.0010\n",
            "Epoch 8/15\n",
            "\u001b[1m19/19\u001b[0m \u001b[32m━━━━━━━━━━━━━━━━━━━━\u001b[0m\u001b[37m\u001b[0m \u001b[1m2s\u001b[0m 116ms/step - accuracy: 0.9412 - loss: 0.2180 - val_accuracy: 0.9295 - val_loss: 0.2480 - learning_rate: 0.0010\n",
            "Epoch 9/15\n",
            "\u001b[1m19/19\u001b[0m \u001b[32m━━━━━━━━━━━━━━━━━━━━\u001b[0m\u001b[37m\u001b[0m \u001b[1m2s\u001b[0m 114ms/step - accuracy: 0.9663 - loss: 0.1467 - val_accuracy: 0.9430 - val_loss: 0.2094 - learning_rate: 0.0010\n",
            "Epoch 10/15\n",
            "\u001b[1m19/19\u001b[0m \u001b[32m━━━━━━━━━━━━━━━━━━━━\u001b[0m\u001b[37m\u001b[0m \u001b[1m2s\u001b[0m 119ms/step - accuracy: 0.9704 - loss: 0.1141 - val_accuracy: 0.9597 - val_loss: 0.1715 - learning_rate: 0.0010\n",
            "Epoch 11/15\n",
            "\u001b[1m19/19\u001b[0m \u001b[32m━━━━━━━━━━━━━━━━━━━━\u001b[0m\u001b[37m\u001b[0m \u001b[1m3s\u001b[0m 125ms/step - accuracy: 0.9788 - loss: 0.0876 - val_accuracy: 0.9530 - val_loss: 0.1807 - learning_rate: 0.0010\n",
            "Epoch 12/15\n",
            "\u001b[1m19/19\u001b[0m \u001b[32m━━━━━━━━━━━━━━━━━━━━\u001b[0m\u001b[37m\u001b[0m \u001b[1m3s\u001b[0m 155ms/step - accuracy: 0.9888 - loss: 0.0511 - val_accuracy: 0.9463 - val_loss: 0.1652 - learning_rate: 0.0010\n",
            "Epoch 13/15\n",
            "\u001b[1m19/19\u001b[0m \u001b[32m━━━━━━━━━━━━━━━━━━━━\u001b[0m\u001b[37m\u001b[0m \u001b[1m6s\u001b[0m 186ms/step - accuracy: 0.9927 - loss: 0.0327 - val_accuracy: 0.9698 - val_loss: 0.1328 - learning_rate: 0.0010\n",
            "Epoch 14/15\n",
            "\u001b[1m19/19\u001b[0m \u001b[32m━━━━━━━━━━━━━━━━━━━━\u001b[0m\u001b[37m\u001b[0m \u001b[1m5s\u001b[0m 189ms/step - accuracy: 0.9945 - loss: 0.0267 - val_accuracy: 0.9329 - val_loss: 0.2007 - learning_rate: 0.0010\n",
            "Epoch 15/15\n",
            "\u001b[1m19/19\u001b[0m \u001b[32m━━━━━━━━━━━━━━━━━━━━\u001b[0m\u001b[37m\u001b[0m \u001b[1m4s\u001b[0m 123ms/step - accuracy: 0.9936 - loss: 0.0335 - val_accuracy: 0.9530 - val_loss: 0.1865 - learning_rate: 0.0010\n"
          ]
        }
      ]
    },
    {
      "cell_type": "markdown",
      "source": [
        "### 7.3 Evaluation"
      ],
      "metadata": {
        "id": "Sc8OksAL2MG7"
      }
    },
    {
      "cell_type": "code",
      "source": [
        "# Plot history\n",
        "plot_history(history)"
      ],
      "metadata": {
        "colab": {
          "base_uri": "https://localhost:8080/",
          "height": 469
        },
        "id": "Vpim-Jrz2N9d",
        "outputId": "378fa5a4-5da0-4372-aceb-72410ecc203f"
      },
      "execution_count": null,
      "outputs": [
        {
          "output_type": "display_data",
          "data": {
            "text/plain": [
              "<Figure size 1200x500 with 2 Axes>"
            ],
            "image/png": "[encoded data removed]"
          },
          "metadata": {}
        }
      ]
    },
    {
      "cell_type": "code",
      "source": [
        "y_pred_train = glove_model.predict(padded_train, batch_size=64, verbose=1)\n",
        "y_pred_bool_train = np.argmax(y_pred_train, axis=1)\n",
        "\n",
        "print(classification_report(y_train, y_pred_bool_train, zero_division=1))"
      ],
      "metadata": {
        "colab": {
          "base_uri": "https://localhost:8080/"
        },
        "id": "dcaO37Vv8i2X",
        "outputId": "ac42a8a9-2dfe-46f8-c0d2-751d1f474f9c"
      },
      "execution_count": null,
      "outputs": [
        {
          "output_type": "stream",
          "name": "stdout",
          "text": [
            "\u001b[1m19/19\u001b[0m \u001b[32m━━━━━━━━━━━━━━━━━━━━\u001b[0m\u001b[37m\u001b[0m \u001b[1m1s\u001b[0m 30ms/step\n",
            "              precision    recall  f1-score   support\n",
            "\n",
            "           0       1.00      1.00      1.00       269\n",
            "           1       1.00      1.00      1.00       209\n",
            "           2       1.00      1.00      1.00       219\n",
            "           3       1.00      1.00      1.00       277\n",
            "           4       1.00      1.00      1.00       218\n",
            "\n",
            "    accuracy                           1.00      1192\n",
            "   macro avg       1.00      1.00      1.00      1192\n",
            "weighted avg       1.00      1.00      1.00      1192\n",
            "\n"
          ]
        }
      ]
    },
    {
      "cell_type": "code",
      "source": [
        "y_pred_test = glove_model.predict(padded_test, batch_size=64, verbose=1)\n",
        "y_pred_bool_test = np.argmax(y_pred_test, axis=1)\n",
        "\n",
        "print(classification_report(y_test, y_pred_bool_test, zero_division=1))"
      ],
      "metadata": {
        "colab": {
          "base_uri": "https://localhost:8080/"
        },
        "id": "nU9fuRuM8i0I",
        "outputId": "57cb1088-98d8-4960-a1e4-9744cc0a391d"
      },
      "execution_count": null,
      "outputs": [
        {
          "output_type": "stream",
          "name": "stdout",
          "text": [
            "\u001b[1m5/5\u001b[0m \u001b[32m━━━━━━━━━━━━━━━━━━━━\u001b[0m\u001b[37m\u001b[0m \u001b[1m0s\u001b[0m 22ms/step\n",
            "              precision    recall  f1-score   support\n",
            "\n",
            "           0       0.87      1.00      0.93        67\n",
            "           1       0.98      0.92      0.95        52\n",
            "           2       1.00      0.84      0.91        55\n",
            "           3       0.99      0.99      0.99        69\n",
            "           4       0.96      1.00      0.98        55\n",
            "\n",
            "    accuracy                           0.95       298\n",
            "   macro avg       0.96      0.95      0.95       298\n",
            "weighted avg       0.96      0.95      0.95       298\n",
            "\n"
          ]
        }
      ]
    },
    {
      "cell_type": "markdown",
      "source": [
        "#### **Obeservation:**\n",
        "\n",
        "- with training GloVe embeddings **95%** f1-score"
      ],
      "metadata": {
        "id": "ifKqCdVP2OU1"
      }
    },
    {
      "cell_type": "markdown",
      "source": [
        "## 8.MLP with FastText Embeddings"
      ],
      "metadata": {
        "id": "b4LcOxjz93ah"
      }
    },
    {
      "cell_type": "markdown",
      "source": [
        "#### 8.0.1 Downloading Embeddings"
      ],
      "metadata": {
        "id": "iOqqJs_G_RHM"
      }
    },
    {
      "cell_type": "code",
      "source": [
        "# !wget https://dl.fbaipublicfiles.com/fasttext/vectors-crawl/cc.en.300.vec.gz # used in gensim\n",
        "\n",
        "!wget https://dl.fbaipublicfiles.com/fasttext/vectors-crawl/cc.en.300.bin.gz # used in fasttext"
      ],
      "metadata": {
        "colab": {
          "base_uri": "https://localhost:8080/"
        },
        "id": "1gg5MCMc-H-S",
        "outputId": "c0c84785-7532-44ff-af3c-dd0dd813e20e"
      },
      "execution_count": null,
      "outputs": [
        {
          "output_type": "stream",
          "name": "stdout",
          "text": [
            "--2024-12-27 12:02:23--  https://dl.fbaipublicfiles.com/fasttext/vectors-crawl/cc.en.300.bin.gz\n",
            "Resolving dl.fbaipublicfiles.com (dl.fbaipublicfiles.com)... 3.163.189.51, 3.163.189.96, 3.163.189.108, ...\n",
            "Connecting to dl.fbaipublicfiles.com (dl.fbaipublicfiles.com)|3.163.189.51|:443... connected.\n",
            "HTTP request sent, awaiting response... 200 OK\n",
            "Length: 4503593528 (4.2G) [application/octet-stream]\n",
            "Saving to: ‘cc.en.300.bin.gz’\n",
            "\n",
            "cc.en.300.bin.gz    100%[===================>]   4.19G  65.6MB/s    in 28s     \n",
            "\n",
            "2024-12-27 12:02:51 (156 MB/s) - ‘cc.en.300.bin.gz’ saved [4503593528/4503593528]\n",
            "\n"
          ]
        }
      ]
    },
    {
      "cell_type": "markdown",
      "source": [
        "#### 8.0.2 Unzipping Embeddings"
      ],
      "metadata": {
        "id": "KchYyLXo_XU2"
      }
    },
    {
      "cell_type": "code",
      "source": [
        "!gunzip /content/cc.en.300.bin.gz"
      ],
      "metadata": {
        "id": "Nw_n9vka-nNN"
      },
      "execution_count": null,
      "outputs": []
    },
    {
      "cell_type": "markdown",
      "source": [
        "### 8.1 Embedding"
      ],
      "metadata": {
        "id": "GvANQRC_-D65"
      }
    },
    {
      "cell_type": "code",
      "source": [
        "!pip install -q fasttext"
      ],
      "metadata": {
        "colab": {
          "base_uri": "https://localhost:8080/"
        },
        "id": "4Bc6FqqO2Rw9",
        "outputId": "a61ebbdc-f693-4727-bfc1-514a32b62b1a"
      },
      "execution_count": null,
      "outputs": [
        {
          "output_type": "stream",
          "name": "stdout",
          "text": [
            "\u001b[?25l     \u001b[90m━━━━━━━━━━━━━━━━━━━━━━━━━━━━━━━━━━━━━━━━\u001b[0m \u001b[32m0.0/73.4 kB\u001b[0m \u001b[31m?\u001b[0m eta \u001b[36m-:--:--\u001b[0m\r\u001b[2K     \u001b[90m━━━━━━━━━━━━━━━━━━━━━━━━━━━━━━━━━━━━━━━━\u001b[0m \u001b[32m73.4/73.4 kB\u001b[0m \u001b[31m2.8 MB/s\u001b[0m eta \u001b[36m0:00:00\u001b[0m\n",
            "\u001b[?25h  Installing build dependencies ... \u001b[?25l\u001b[?25hdone\n",
            "  Getting requirements to build wheel ... \u001b[?25l\u001b[?25hdone\n",
            "  Preparing metadata (pyproject.toml) ... \u001b[?25l\u001b[?25hdone\n",
            "  Building wheel for fasttext (pyproject.toml) ... \u001b[?25l\u001b[?25hdone\n"
          ]
        }
      ]
    },
    {
      "cell_type": "code",
      "source": [
        "import fasttext\n",
        "ft = fasttext.load_model('/content/cc.en.300.bin')"
      ],
      "metadata": {
        "id": "wyrfesWE-dDh"
      },
      "execution_count": null,
      "outputs": []
    },
    {
      "cell_type": "code",
      "source": [
        "def create_embedding_matrix(word_index, embedding_dim):\n",
        "    vocab_size = len(word_index) + 1  # Adding again 1 because of reserved 0 index\n",
        "    embedding_matrix = np.zeros((vocab_size, embedding_dim))\n",
        "\n",
        "    for word in word_index:\n",
        "        idx = word_index[word]\n",
        "        embedding_matrix[idx] = ft.get_word_vector(word)[:embedding_dim]\n",
        "\n",
        "    return embedding_matrix"
      ],
      "metadata": {
        "id": "uaUr5oSQ-gHC"
      },
      "execution_count": null,
      "outputs": []
    },
    {
      "cell_type": "code",
      "source": [
        "embedding_dim = 300\n",
        "embedding_matrix = create_embedding_matrix(t.word_index, embedding_dim)\n",
        "embedding_matrix.shape"
      ],
      "metadata": {
        "colab": {
          "base_uri": "https://localhost:8080/"
        },
        "id": "96fBMMDmAAeU",
        "outputId": "a0092ed3-6e23-4f14-b5f8-38c47ba23479"
      },
      "execution_count": null,
      "outputs": [
        {
          "output_type": "execute_result",
          "data": {
            "text/plain": [
              "(21533, 300)"
            ]
          },
          "metadata": {},
          "execution_count": 223
        }
      ]
    },
    {
      "cell_type": "code",
      "source": [
        "# Saving 300-D embeddings fasttext embeddings\n",
        "with open(os.path.join(DATA_PATH, 'fasttext_embeddings', 'fasttext_embeddings.npy'), 'wb') as f:\n",
        "    np.save(f, embedding_matrix)"
      ],
      "metadata": {
        "id": "QaW-yIVOAKLg"
      },
      "execution_count": null,
      "outputs": []
    },
    {
      "cell_type": "code",
      "source": [
        "# loading embeddings\n",
        "with open(os.path.join(DATA_PATH, 'fasttext_embeddings', 'fasttext_embeddings.npy'), 'rb') as f:\n",
        "    embedding_matrix = np.load(f)\n",
        "embedding_dim = embedding_matrix.shape[1]\n",
        "embedding_matrix.shape"
      ],
      "metadata": {
        "id": "06LlSTytAS7W",
        "colab": {
          "base_uri": "https://localhost:8080/"
        },
        "outputId": "f13fa54c-b365-43e5-cfe3-35cbfcdbea2d"
      },
      "execution_count": 26,
      "outputs": [
        {
          "output_type": "execute_result",
          "data": {
            "text/plain": [
              "(21533, 300)"
            ]
          },
          "metadata": {},
          "execution_count": 26
        }
      ]
    },
    {
      "cell_type": "markdown",
      "source": [
        "### 8.2 Callbacks"
      ],
      "metadata": {
        "id": "4hA0Z3hPAnKe"
      }
    },
    {
      "cell_type": "code",
      "source": [
        "# Callback to save model\n",
        "filepath = '/content/fasttext_model1/fasttext_model1.keras'\n",
        "checkpoint = ModelCheckpoint(filepath=filepath, monitor='val_accuracy', verbose=1, mode='max', save_best_only=True)\n",
        "reduce_lr = ReduceLROnPlateau(monitor='val_accuracy', factor=0.1, patience=3, verbose=1)\n",
        "callback = [checkpoint, reduce_lr]"
      ],
      "metadata": {
        "id": "VpcJcwT8An4e"
      },
      "execution_count": null,
      "outputs": []
    },
    {
      "cell_type": "markdown",
      "source": [
        "### 8.3 Model Training"
      ],
      "metadata": {
        "id": "D5yxvG5vA6H9"
      }
    },
    {
      "cell_type": "code",
      "source": [
        "clear_session()\n",
        "input_layer = layers.Input(shape=(400,))\n",
        "embed_layer = layers.Embedding(vocab_size, embedding_dim, weights=[embedding_matrix],\n",
        "                              input_length=400, trainable=False)(input_layer)\n",
        "maxpool1 = layers.GlobalMaxPool1D()(embed_layer)\n",
        "dense1 = layers.Dense(256, activation='relu')(maxpool1)\n",
        "drop1 = layers.Dropout(0.2)(dense1)\n",
        "dense2 = layers.Dense(128, activation='relu')(drop1)\n",
        "drop2 = layers.Dropout(0.2)(dense2)\n",
        "dense3 = layers.Dense(64, activation='relu')(drop2)\n",
        "output_layer = layers.Dense(5, activation='sigmoid')(dense3)\n",
        "fasttext_model = Model(input_layer, output_layer)\n",
        "fasttext_model.summary()"
      ],
      "metadata": {
        "colab": {
          "base_uri": "https://localhost:8080/",
          "height": 502
        },
        "id": "bz1kSM5TAxeV",
        "outputId": "84104872-4e11-4369-c98a-42101e0f6964"
      },
      "execution_count": null,
      "outputs": [
        {
          "output_type": "stream",
          "name": "stderr",
          "text": [
            "/usr/local/lib/python3.10/dist-packages/keras/src/layers/core/embedding.py:90: UserWarning: Argument `input_length` is deprecated. Just remove it.\n",
            "  warnings.warn(\n"
          ]
        },
        {
          "output_type": "display_data",
          "data": {
            "text/plain": [
              "\u001b[1mModel: \"functional\"\u001b[0m\n"
            ],
            "text/html": [
              "<pre style=\"white-space:pre;overflow-x:auto;line-height:normal;font-family:Menlo,'DejaVu Sans Mono',consolas,'Courier New',monospace\"><span style=\"font-weight: bold\">Model: \"functional\"</span>\n",
              "</pre>\n"
            ]
          },
          "metadata": {}
        },
        {
          "output_type": "display_data",
          "data": {
            "text/plain": [
              "┏━━━━━━━━━━━━━━━━━━━━━━━━━━━━━━━━━━━━━━┳━━━━━━━━━━━━━━━━━━━━━━━━━━━━━┳━━━━━━━━━━━━━━━━━┓\n",
              "┃\u001b[1m \u001b[0m\u001b[1mLayer (type)                        \u001b[0m\u001b[1m \u001b[0m┃\u001b[1m \u001b[0m\u001b[1mOutput Shape               \u001b[0m\u001b[1m \u001b[0m┃\u001b[1m \u001b[0m\u001b[1m        Param #\u001b[0m\u001b[1m \u001b[0m┃\n",
              "┡━━━━━━━━━━━━━━━━━━━━━━━━━━━━━━━━━━━━━━╇━━━━━━━━━━━━━━━━━━━━━━━━━━━━━╇━━━━━━━━━━━━━━━━━┩\n",
              "│ input_layer (\u001b[38;5;33mInputLayer\u001b[0m)             │ (\u001b[38;5;45mNone\u001b[0m, \u001b[38;5;34m400\u001b[0m)                 │               \u001b[38;5;34m0\u001b[0m │\n",
              "├──────────────────────────────────────┼─────────────────────────────┼─────────────────┤\n",
              "│ embedding (\u001b[38;5;33mEmbedding\u001b[0m)                │ (\u001b[38;5;45mNone\u001b[0m, \u001b[38;5;34m400\u001b[0m, \u001b[38;5;34m300\u001b[0m)            │       \u001b[38;5;34m6,459,900\u001b[0m │\n",
              "├──────────────────────────────────────┼─────────────────────────────┼─────────────────┤\n",
              "│ global_max_pooling1d                 │ (\u001b[38;5;45mNone\u001b[0m, \u001b[38;5;34m300\u001b[0m)                 │               \u001b[38;5;34m0\u001b[0m │\n",
              "│ (\u001b[38;5;33mGlobalMaxPooling1D\u001b[0m)                 │                             │                 │\n",
              "├──────────────────────────────────────┼─────────────────────────────┼─────────────────┤\n",
              "│ dense (\u001b[38;5;33mDense\u001b[0m)                        │ (\u001b[38;5;45mNone\u001b[0m, \u001b[38;5;34m256\u001b[0m)                 │          \u001b[38;5;34m77,056\u001b[0m │\n",
              "├──────────────────────────────────────┼─────────────────────────────┼─────────────────┤\n",
              "│ dropout (\u001b[38;5;33mDropout\u001b[0m)                    │ (\u001b[38;5;45mNone\u001b[0m, \u001b[38;5;34m256\u001b[0m)                 │               \u001b[38;5;34m0\u001b[0m │\n",
              "├──────────────────────────────────────┼─────────────────────────────┼─────────────────┤\n",
              "│ dense_1 (\u001b[38;5;33mDense\u001b[0m)                      │ (\u001b[38;5;45mNone\u001b[0m, \u001b[38;5;34m128\u001b[0m)                 │          \u001b[38;5;34m32,896\u001b[0m │\n",
              "├──────────────────────────────────────┼─────────────────────────────┼─────────────────┤\n",
              "│ dropout_1 (\u001b[38;5;33mDropout\u001b[0m)                  │ (\u001b[38;5;45mNone\u001b[0m, \u001b[38;5;34m128\u001b[0m)                 │               \u001b[38;5;34m0\u001b[0m │\n",
              "├──────────────────────────────────────┼─────────────────────────────┼─────────────────┤\n",
              "│ dense_2 (\u001b[38;5;33mDense\u001b[0m)                      │ (\u001b[38;5;45mNone\u001b[0m, \u001b[38;5;34m64\u001b[0m)                  │           \u001b[38;5;34m8,256\u001b[0m │\n",
              "├──────────────────────────────────────┼─────────────────────────────┼─────────────────┤\n",
              "│ dense_3 (\u001b[38;5;33mDense\u001b[0m)                      │ (\u001b[38;5;45mNone\u001b[0m, \u001b[38;5;34m5\u001b[0m)                   │             \u001b[38;5;34m325\u001b[0m │\n",
              "└──────────────────────────────────────┴─────────────────────────────┴─────────────────┘\n"
            ],
            "text/html": [
              "<pre style=\"white-space:pre;overflow-x:auto;line-height:normal;font-family:Menlo,'DejaVu Sans Mono',consolas,'Courier New',monospace\">┏━━━━━━━━━━━━━━━━━━━━━━━━━━━━━━━━━━━━━━┳━━━━━━━━━━━━━━━━━━━━━━━━━━━━━┳━━━━━━━━━━━━━━━━━┓\n",
              "┃<span style=\"font-weight: bold\"> Layer (type)                         </span>┃<span style=\"font-weight: bold\"> Output Shape                </span>┃<span style=\"font-weight: bold\">         Param # </span>┃\n",
              "┡━━━━━━━━━━━━━━━━━━━━━━━━━━━━━━━━━━━━━━╇━━━━━━━━━━━━━━━━━━━━━━━━━━━━━╇━━━━━━━━━━━━━━━━━┩\n",
              "│ input_layer (<span style=\"color: #0087ff; text-decoration-color: #0087ff\">InputLayer</span>)             │ (<span style=\"color: #00d7ff; text-decoration-color: #00d7ff\">None</span>, <span style=\"color: #00af00; text-decoration-color: #00af00\">400</span>)                 │               <span style=\"color: #00af00; text-decoration-color: #00af00\">0</span> │\n",
              "├──────────────────────────────────────┼─────────────────────────────┼─────────────────┤\n",
              "│ embedding (<span style=\"color: #0087ff; text-decoration-color: #0087ff\">Embedding</span>)                │ (<span style=\"color: #00d7ff; text-decoration-color: #00d7ff\">None</span>, <span style=\"color: #00af00; text-decoration-color: #00af00\">400</span>, <span style=\"color: #00af00; text-decoration-color: #00af00\">300</span>)            │       <span style=\"color: #00af00; text-decoration-color: #00af00\">6,459,900</span> │\n",
              "├──────────────────────────────────────┼─────────────────────────────┼─────────────────┤\n",
              "│ global_max_pooling1d                 │ (<span style=\"color: #00d7ff; text-decoration-color: #00d7ff\">None</span>, <span style=\"color: #00af00; text-decoration-color: #00af00\">300</span>)                 │               <span style=\"color: #00af00; text-decoration-color: #00af00\">0</span> │\n",
              "│ (<span style=\"color: #0087ff; text-decoration-color: #0087ff\">GlobalMaxPooling1D</span>)                 │                             │                 │\n",
              "├──────────────────────────────────────┼─────────────────────────────┼─────────────────┤\n",
              "│ dense (<span style=\"color: #0087ff; text-decoration-color: #0087ff\">Dense</span>)                        │ (<span style=\"color: #00d7ff; text-decoration-color: #00d7ff\">None</span>, <span style=\"color: #00af00; text-decoration-color: #00af00\">256</span>)                 │          <span style=\"color: #00af00; text-decoration-color: #00af00\">77,056</span> │\n",
              "├──────────────────────────────────────┼─────────────────────────────┼─────────────────┤\n",
              "│ dropout (<span style=\"color: #0087ff; text-decoration-color: #0087ff\">Dropout</span>)                    │ (<span style=\"color: #00d7ff; text-decoration-color: #00d7ff\">None</span>, <span style=\"color: #00af00; text-decoration-color: #00af00\">256</span>)                 │               <span style=\"color: #00af00; text-decoration-color: #00af00\">0</span> │\n",
              "├──────────────────────────────────────┼─────────────────────────────┼─────────────────┤\n",
              "│ dense_1 (<span style=\"color: #0087ff; text-decoration-color: #0087ff\">Dense</span>)                      │ (<span style=\"color: #00d7ff; text-decoration-color: #00d7ff\">None</span>, <span style=\"color: #00af00; text-decoration-color: #00af00\">128</span>)                 │          <span style=\"color: #00af00; text-decoration-color: #00af00\">32,896</span> │\n",
              "├──────────────────────────────────────┼─────────────────────────────┼─────────────────┤\n",
              "│ dropout_1 (<span style=\"color: #0087ff; text-decoration-color: #0087ff\">Dropout</span>)                  │ (<span style=\"color: #00d7ff; text-decoration-color: #00d7ff\">None</span>, <span style=\"color: #00af00; text-decoration-color: #00af00\">128</span>)                 │               <span style=\"color: #00af00; text-decoration-color: #00af00\">0</span> │\n",
              "├──────────────────────────────────────┼─────────────────────────────┼─────────────────┤\n",
              "│ dense_2 (<span style=\"color: #0087ff; text-decoration-color: #0087ff\">Dense</span>)                      │ (<span style=\"color: #00d7ff; text-decoration-color: #00d7ff\">None</span>, <span style=\"color: #00af00; text-decoration-color: #00af00\">64</span>)                  │           <span style=\"color: #00af00; text-decoration-color: #00af00\">8,256</span> │\n",
              "├──────────────────────────────────────┼─────────────────────────────┼─────────────────┤\n",
              "│ dense_3 (<span style=\"color: #0087ff; text-decoration-color: #0087ff\">Dense</span>)                      │ (<span style=\"color: #00d7ff; text-decoration-color: #00d7ff\">None</span>, <span style=\"color: #00af00; text-decoration-color: #00af00\">5</span>)                   │             <span style=\"color: #00af00; text-decoration-color: #00af00\">325</span> │\n",
              "└──────────────────────────────────────┴─────────────────────────────┴─────────────────┘\n",
              "</pre>\n"
            ]
          },
          "metadata": {}
        },
        {
          "output_type": "display_data",
          "data": {
            "text/plain": [
              "\u001b[1m Total params: \u001b[0m\u001b[38;5;34m6,578,433\u001b[0m (25.09 MB)\n"
            ],
            "text/html": [
              "<pre style=\"white-space:pre;overflow-x:auto;line-height:normal;font-family:Menlo,'DejaVu Sans Mono',consolas,'Courier New',monospace\"><span style=\"font-weight: bold\"> Total params: </span><span style=\"color: #00af00; text-decoration-color: #00af00\">6,578,433</span> (25.09 MB)\n",
              "</pre>\n"
            ]
          },
          "metadata": {}
        },
        {
          "output_type": "display_data",
          "data": {
            "text/plain": [
              "\u001b[1m Trainable params: \u001b[0m\u001b[38;5;34m118,533\u001b[0m (463.02 KB)\n"
            ],
            "text/html": [
              "<pre style=\"white-space:pre;overflow-x:auto;line-height:normal;font-family:Menlo,'DejaVu Sans Mono',consolas,'Courier New',monospace\"><span style=\"font-weight: bold\"> Trainable params: </span><span style=\"color: #00af00; text-decoration-color: #00af00\">118,533</span> (463.02 KB)\n",
              "</pre>\n"
            ]
          },
          "metadata": {}
        },
        {
          "output_type": "display_data",
          "data": {
            "text/plain": [
              "\u001b[1m Non-trainable params: \u001b[0m\u001b[38;5;34m6,459,900\u001b[0m (24.64 MB)\n"
            ],
            "text/html": [
              "<pre style=\"white-space:pre;overflow-x:auto;line-height:normal;font-family:Menlo,'DejaVu Sans Mono',consolas,'Courier New',monospace\"><span style=\"font-weight: bold\"> Non-trainable params: </span><span style=\"color: #00af00; text-decoration-color: #00af00\">6,459,900</span> (24.64 MB)\n",
              "</pre>\n"
            ]
          },
          "metadata": {}
        }
      ]
    },
    {
      "cell_type": "code",
      "source": [
        "# compiling model\n",
        "fasttext_model.compile(loss='sparse_categorical_crossentropy', optimizer='adam', metrics=['accuracy'])"
      ],
      "metadata": {
        "id": "bu0fG8kLBIjp"
      },
      "execution_count": null,
      "outputs": []
    },
    {
      "cell_type": "code",
      "source": [
        "# training model\n",
        "history = fasttext_model.fit(padded_train, y_train, batch_size=64, epochs=15,\n",
        "                          validation_data=(padded_test, y_test), callbacks=callback)"
      ],
      "metadata": {
        "colab": {
          "base_uri": "https://localhost:8080/"
        },
        "id": "vTP1gpR7BQl_",
        "outputId": "d208f64b-58e5-498e-a5d5-021ac4c80d00"
      },
      "execution_count": null,
      "outputs": [
        {
          "output_type": "stream",
          "name": "stdout",
          "text": [
            "Epoch 1/15\n",
            "\u001b[1m19/19\u001b[0m \u001b[32m━━━━━━━━━━━━━━━━━━━━\u001b[0m\u001b[37m\u001b[0m \u001b[1m0s\u001b[0m 19ms/step - accuracy: 0.2351 - loss: 1.6822\n",
            "Epoch 1: val_accuracy improved from -inf to 0.22148, saving model to /content/fasttext_model1/fasttext_model1.keras\n",
            "\u001b[1m19/19\u001b[0m \u001b[32m━━━━━━━━━━━━━━━━━━━━\u001b[0m\u001b[37m\u001b[0m \u001b[1m3s\u001b[0m 57ms/step - accuracy: 0.2365 - loss: 1.6793 - val_accuracy: 0.2215 - val_loss: 1.5557 - learning_rate: 0.0010\n",
            "Epoch 2/15\n",
            "\u001b[1m17/19\u001b[0m \u001b[32m━━━━━━━━━━━━━━━━━\u001b[0m\u001b[37m━━━\u001b[0m \u001b[1m0s\u001b[0m 29ms/step - accuracy: 0.2550 - loss: 1.5737\n",
            "Epoch 2: val_accuracy improved from 0.22148 to 0.52685, saving model to /content/fasttext_model1/fasttext_model1.keras\n",
            "\u001b[1m19/19\u001b[0m \u001b[32m━━━━━━━━━━━━━━━━━━━━\u001b[0m\u001b[37m\u001b[0m \u001b[1m1s\u001b[0m 46ms/step - accuracy: 0.2627 - loss: 1.5687 - val_accuracy: 0.5268 - val_loss: 1.4063 - learning_rate: 0.0010\n",
            "Epoch 3/15\n",
            "\u001b[1m17/19\u001b[0m \u001b[32m━━━━━━━━━━━━━━━━━\u001b[0m\u001b[37m━━━\u001b[0m \u001b[1m0s\u001b[0m 27ms/step - accuracy: 0.4275 - loss: 1.4351\n",
            "Epoch 3: val_accuracy improved from 0.52685 to 0.59732, saving model to /content/fasttext_model1/fasttext_model1.keras\n",
            "\u001b[1m19/19\u001b[0m \u001b[32m━━━━━━━━━━━━━━━━━━━━\u001b[0m\u001b[37m\u001b[0m \u001b[1m1s\u001b[0m 46ms/step - accuracy: 0.4275 - loss: 1.4305 - val_accuracy: 0.5973 - val_loss: 1.1632 - learning_rate: 0.0010\n",
            "Epoch 4/15\n",
            "\u001b[1m17/19\u001b[0m \u001b[32m━━━━━━━━━━━━━━━━━\u001b[0m\u001b[37m━━━\u001b[0m \u001b[1m0s\u001b[0m 29ms/step - accuracy: 0.4970 - loss: 1.2256\n",
            "Epoch 4: val_accuracy improved from 0.59732 to 0.72819, saving model to /content/fasttext_model1/fasttext_model1.keras\n",
            "\u001b[1m19/19\u001b[0m \u001b[32m━━━━━━━━━━━━━━━━━━━━\u001b[0m\u001b[37m\u001b[0m \u001b[1m1s\u001b[0m 44ms/step - accuracy: 0.5012 - loss: 1.2207 - val_accuracy: 0.7282 - val_loss: 0.9307 - learning_rate: 0.0010\n",
            "Epoch 5/15\n",
            "\u001b[1m16/19\u001b[0m \u001b[32m━━━━━━━━━━━━━━━━\u001b[0m\u001b[37m━━━━\u001b[0m \u001b[1m0s\u001b[0m 19ms/step - accuracy: 0.5707 - loss: 1.0991\n",
            "Epoch 5: val_accuracy did not improve from 0.72819\n",
            "\u001b[1m19/19\u001b[0m \u001b[32m━━━━━━━━━━━━━━━━━━━━\u001b[0m\u001b[37m\u001b[0m \u001b[1m0s\u001b[0m 24ms/step - accuracy: 0.5762 - loss: 1.0875 - val_accuracy: 0.7282 - val_loss: 0.8230 - learning_rate: 0.0010\n",
            "Epoch 6/15\n",
            "\u001b[1m16/19\u001b[0m \u001b[32m━━━━━━━━━━━━━━━━\u001b[0m\u001b[37m━━━━\u001b[0m \u001b[1m0s\u001b[0m 18ms/step - accuracy: 0.7048 - loss: 0.8538\n",
            "Epoch 6: val_accuracy did not improve from 0.72819\n",
            "\u001b[1m19/19\u001b[0m \u001b[32m━━━━━━━━━━━━━━━━━━━━\u001b[0m\u001b[37m\u001b[0m \u001b[1m0s\u001b[0m 22ms/step - accuracy: 0.7049 - loss: 0.8491 - val_accuracy: 0.7148 - val_loss: 0.6681 - learning_rate: 0.0010\n",
            "Epoch 7/15\n",
            "\u001b[1m16/19\u001b[0m \u001b[32m━━━━━━━━━━━━━━━━\u001b[0m\u001b[37m━━━━\u001b[0m \u001b[1m0s\u001b[0m 19ms/step - accuracy: 0.7819 - loss: 0.6578\n",
            "Epoch 7: val_accuracy improved from 0.72819 to 0.87919, saving model to /content/fasttext_model1/fasttext_model1.keras\n",
            "\u001b[1m19/19\u001b[0m \u001b[32m━━━━━━━━━━━━━━━━━━━━\u001b[0m\u001b[37m\u001b[0m \u001b[1m1s\u001b[0m 31ms/step - accuracy: 0.7834 - loss: 0.6523 - val_accuracy: 0.8792 - val_loss: 0.4655 - learning_rate: 0.0010\n",
            "Epoch 8/15\n",
            "\u001b[1m16/19\u001b[0m \u001b[32m━━━━━━━━━━━━━━━━\u001b[0m\u001b[37m━━━━\u001b[0m \u001b[1m0s\u001b[0m 18ms/step - accuracy: 0.7860 - loss: 0.6080\n",
            "Epoch 8: val_accuracy did not improve from 0.87919\n",
            "\u001b[1m19/19\u001b[0m \u001b[32m━━━━━━━━━━━━━━━━━━━━\u001b[0m\u001b[37m\u001b[0m \u001b[1m0s\u001b[0m 23ms/step - accuracy: 0.7938 - loss: 0.5941 - val_accuracy: 0.8758 - val_loss: 0.3842 - learning_rate: 0.0010\n",
            "Epoch 9/15\n",
            "\u001b[1m16/19\u001b[0m \u001b[32m━━━━━━━━━━━━━━━━\u001b[0m\u001b[37m━━━━\u001b[0m \u001b[1m0s\u001b[0m 18ms/step - accuracy: 0.8350 - loss: 0.4860\n",
            "Epoch 9: val_accuracy did not improve from 0.87919\n",
            "\u001b[1m19/19\u001b[0m \u001b[32m━━━━━━━━━━━━━━━━━━━━\u001b[0m\u001b[37m\u001b[0m \u001b[1m1s\u001b[0m 23ms/step - accuracy: 0.8355 - loss: 0.4814 - val_accuracy: 0.8725 - val_loss: 0.3587 - learning_rate: 0.0010\n",
            "Epoch 10/15\n",
            "\u001b[1m16/19\u001b[0m \u001b[32m━━━━━━━━━━━━━━━━\u001b[0m\u001b[37m━━━━\u001b[0m \u001b[1m0s\u001b[0m 17ms/step - accuracy: 0.8633 - loss: 0.4169\n",
            "Epoch 10: val_accuracy improved from 0.87919 to 0.89597, saving model to /content/fasttext_model1/fasttext_model1.keras\n",
            "\u001b[1m19/19\u001b[0m \u001b[32m━━━━━━━━━━━━━━━━━━━━\u001b[0m\u001b[37m\u001b[0m \u001b[1m1s\u001b[0m 31ms/step - accuracy: 0.8622 - loss: 0.4165 - val_accuracy: 0.8960 - val_loss: 0.3378 - learning_rate: 0.0010\n",
            "Epoch 11/15\n",
            "\u001b[1m16/19\u001b[0m \u001b[32m━━━━━━━━━━━━━━━━\u001b[0m\u001b[37m━━━━\u001b[0m \u001b[1m0s\u001b[0m 18ms/step - accuracy: 0.8483 - loss: 0.4084\n",
            "Epoch 11: val_accuracy did not improve from 0.89597\n",
            "\u001b[1m19/19\u001b[0m \u001b[32m━━━━━━━━━━━━━━━━━━━━\u001b[0m\u001b[37m\u001b[0m \u001b[1m0s\u001b[0m 23ms/step - accuracy: 0.8529 - loss: 0.4012 - val_accuracy: 0.8826 - val_loss: 0.3067 - learning_rate: 0.0010\n",
            "Epoch 12/15\n",
            "\u001b[1m16/19\u001b[0m \u001b[32m━━━━━━━━━━━━━━━━\u001b[0m\u001b[37m━━━━\u001b[0m \u001b[1m0s\u001b[0m 18ms/step - accuracy: 0.8660 - loss: 0.4031\n",
            "Epoch 12: val_accuracy improved from 0.89597 to 0.91275, saving model to /content/fasttext_model1/fasttext_model1.keras\n",
            "\u001b[1m19/19\u001b[0m \u001b[32m━━━━━━━━━━━━━━━━━━━━\u001b[0m\u001b[37m\u001b[0m \u001b[1m1s\u001b[0m 32ms/step - accuracy: 0.8668 - loss: 0.3944 - val_accuracy: 0.9128 - val_loss: 0.2885 - learning_rate: 0.0010\n",
            "Epoch 13/15\n",
            "\u001b[1m18/19\u001b[0m \u001b[32m━━━━━━━━━━━━━━━━━━\u001b[0m\u001b[37m━━\u001b[0m \u001b[1m0s\u001b[0m 18ms/step - accuracy: 0.8914 - loss: 0.2797\n",
            "Epoch 13: val_accuracy did not improve from 0.91275\n",
            "\u001b[1m19/19\u001b[0m \u001b[32m━━━━━━━━━━━━━━━━━━━━\u001b[0m\u001b[37m\u001b[0m \u001b[1m1s\u001b[0m 23ms/step - accuracy: 0.8910 - loss: 0.2807 - val_accuracy: 0.8893 - val_loss: 0.3043 - learning_rate: 0.0010\n",
            "Epoch 14/15\n",
            "\u001b[1m16/19\u001b[0m \u001b[32m━━━━━━━━━━━━━━━━\u001b[0m\u001b[37m━━━━\u001b[0m \u001b[1m0s\u001b[0m 18ms/step - accuracy: 0.8531 - loss: 0.3821\n",
            "Epoch 14: val_accuracy did not improve from 0.91275\n",
            "\u001b[1m19/19\u001b[0m \u001b[32m━━━━━━━━━━━━━━━━━━━━\u001b[0m\u001b[37m\u001b[0m \u001b[1m0s\u001b[0m 23ms/step - accuracy: 0.8552 - loss: 0.3805 - val_accuracy: 0.8490 - val_loss: 0.4069 - learning_rate: 0.0010\n",
            "Epoch 15/15\n",
            "\u001b[1m18/19\u001b[0m \u001b[32m━━━━━━━━━━━━━━━━━━\u001b[0m\u001b[37m━━\u001b[0m \u001b[1m0s\u001b[0m 22ms/step - accuracy: 0.8663 - loss: 0.3844\n",
            "Epoch 15: val_accuracy improved from 0.91275 to 0.92282, saving model to /content/fasttext_model1/fasttext_model1.keras\n",
            "\u001b[1m19/19\u001b[0m \u001b[32m━━━━━━━━━━━━━━━━━━━━\u001b[0m\u001b[37m\u001b[0m \u001b[1m1s\u001b[0m 36ms/step - accuracy: 0.8673 - loss: 0.3805 - val_accuracy: 0.9228 - val_loss: 0.2621 - learning_rate: 0.0010\n"
          ]
        }
      ]
    },
    {
      "cell_type": "markdown",
      "source": [
        "### 8.4 Evaluation"
      ],
      "metadata": {
        "id": "EkGVDtF0i51X"
      }
    },
    {
      "cell_type": "code",
      "source": [
        "# Plot history\n",
        "plot_history(history)"
      ],
      "metadata": {
        "id": "__0fbrJfBSGP",
        "colab": {
          "base_uri": "https://localhost:8080/",
          "height": 469
        },
        "outputId": "4a175e42-2894-44c2-8b3b-0edbdda58126"
      },
      "execution_count": null,
      "outputs": [
        {
          "output_type": "display_data",
          "data": {
            "text/plain": [
              "<Figure size 1200x500 with 2 Axes>"
            ],
            "image/png": "[encoded data removed]"
          },
          "metadata": {}
        }
      ]
    },
    {
      "cell_type": "code",
      "source": [
        "y_pred_train = fasttext_model.predict(padded_train, batch_size=64, verbose=1)\n",
        "y_pred_bool_train = np.argmax(y_pred_train, axis=1)\n",
        "\n",
        "print(classification_report(y_train, y_pred_bool_train, zero_division=1))"
      ],
      "metadata": {
        "colab": {
          "base_uri": "https://localhost:8080/"
        },
        "id": "MXNvUHFp7TjF",
        "outputId": "0812e871-563a-4928-eac1-26a8bbb43063"
      },
      "execution_count": null,
      "outputs": [
        {
          "output_type": "stream",
          "name": "stdout",
          "text": [
            "\u001b[1m19/19\u001b[0m \u001b[32m━━━━━━━━━━━━━━━━━━━━\u001b[0m\u001b[37m\u001b[0m \u001b[1m0s\u001b[0m 18ms/step\n",
            "              precision    recall  f1-score   support\n",
            "\n",
            "           0       0.95      0.92      0.94       269\n",
            "           1       0.89      0.96      0.92       209\n",
            "           2       0.96      0.85      0.91       219\n",
            "           3       0.97      0.99      0.98       277\n",
            "           4       0.89      0.94      0.91       218\n",
            "\n",
            "    accuracy                           0.93      1192\n",
            "   macro avg       0.93      0.93      0.93      1192\n",
            "weighted avg       0.94      0.93      0.93      1192\n",
            "\n"
          ]
        }
      ]
    },
    {
      "cell_type": "code",
      "source": [
        "y_pred_test = fasttext_model.predict(padded_test, batch_size=64, verbose=1)\n",
        "y_pred_bool_test = np.argmax(y_pred_test, axis=1)\n",
        "\n",
        "print(classification_report(y_test, y_pred_bool_test, zero_division=1))"
      ],
      "metadata": {
        "colab": {
          "base_uri": "https://localhost:8080/"
        },
        "id": "GWrQ8qyT7TZI",
        "outputId": "5a86adb3-6ae4-430d-91a7-6aa22e8e6f8f"
      },
      "execution_count": null,
      "outputs": [
        {
          "output_type": "stream",
          "name": "stdout",
          "text": [
            "\u001b[1m5/5\u001b[0m \u001b[32m━━━━━━━━━━━━━━━━━━━━\u001b[0m\u001b[37m\u001b[0m \u001b[1m0s\u001b[0m 14ms/step\n",
            "              precision    recall  f1-score   support\n",
            "\n",
            "           0       0.89      0.93      0.91        67\n",
            "           1       0.89      0.92      0.91        52\n",
            "           2       0.98      0.80      0.88        55\n",
            "           3       0.97      0.99      0.98        69\n",
            "           4       0.90      0.96      0.93        55\n",
            "\n",
            "    accuracy                           0.92       298\n",
            "   macro avg       0.92      0.92      0.92       298\n",
            "weighted avg       0.93      0.92      0.92       298\n",
            "\n"
          ]
        }
      ]
    },
    {
      "cell_type": "markdown",
      "source": [
        "#### Observation:\n",
        "\n",
        "- with training FastText embeddings **92%** f1-score"
      ],
      "metadata": {
        "id": "oU7CVE3hjBR6"
      }
    },
    {
      "cell_type": "markdown",
      "source": [
        "## 9.Training FastText Embeddings"
      ],
      "metadata": {
        "id": "4jIw1lYljLH4"
      }
    },
    {
      "cell_type": "markdown",
      "source": [
        "### 9.1 Callbacks"
      ],
      "metadata": {
        "id": "Q2i-lurL7p_c"
      }
    },
    {
      "cell_type": "code",
      "source": [
        "# Callback to save model\n",
        "filepath = '/content/fasttext_model2/fasttext_model2.keras'\n",
        "checkpoint = ModelCheckpoint(filepath=filepath, monitor='val_accuracy', verbose=1, mode='max', save_best_only=True)\n",
        "reduce_lr = ReduceLROnPlateau(monitor='val_accuracy', factor=0.1, patience=3, verbose=1)\n",
        "callback = [checkpoint, reduce_lr]"
      ],
      "metadata": {
        "id": "JfTMXRtC73_q"
      },
      "execution_count": 22,
      "outputs": []
    },
    {
      "cell_type": "markdown",
      "source": [
        "### 9.2 Model Training"
      ],
      "metadata": {
        "id": "fzYppam17p_e"
      }
    },
    {
      "cell_type": "code",
      "source": [
        "clear_session()\n",
        "input_layer = layers.Input(shape=(400,))\n",
        "embed_layer = layers.Embedding(vocab_size, embedding_dim, weights=[embedding_matrix],\n",
        "                              input_length=400, trainable=True)(input_layer)\n",
        "maxpool1 = layers.GlobalMaxPool1D()(embed_layer)\n",
        "dense1 = layers.Dense(256, activation='relu')(maxpool1)\n",
        "drop1 = layers.Dropout(0.2)(dense1)\n",
        "dense2 = layers.Dense(128, activation='relu')(drop1)\n",
        "drop2 = layers.Dropout(0.2)(dense2)\n",
        "dense3 = layers.Dense(64, activation='relu')(drop2)\n",
        "output_layer = layers.Dense(5, activation='sigmoid')(dense3)\n",
        "fasttext_model = Model(input_layer, output_layer)\n",
        "fasttext_model.summary()"
      ],
      "metadata": {
        "colab": {
          "base_uri": "https://localhost:8080/",
          "height": 502
        },
        "outputId": "4a107379-d52c-4cfe-fbf7-8b1a5f067f7b",
        "id": "bVznBaGJ7p_e"
      },
      "execution_count": 27,
      "outputs": [
        {
          "output_type": "stream",
          "name": "stderr",
          "text": [
            "/usr/local/lib/python3.10/dist-packages/keras/src/layers/core/embedding.py:90: UserWarning: Argument `input_length` is deprecated. Just remove it.\n",
            "  warnings.warn(\n"
          ]
        },
        {
          "output_type": "display_data",
          "data": {
            "text/plain": [
              "\u001b[1mModel: \"functional\"\u001b[0m\n"
            ],
            "text/html": [
              "<pre style=\"white-space:pre;overflow-x:auto;line-height:normal;font-family:Menlo,'DejaVu Sans Mono',consolas,'Courier New',monospace\"><span style=\"font-weight: bold\">Model: \"functional\"</span>\n",
              "</pre>\n"
            ]
          },
          "metadata": {}
        },
        {
          "output_type": "display_data",
          "data": {
            "text/plain": [
              "┏━━━━━━━━━━━━━━━━━━━━━━━━━━━━━━━━━━━━━━┳━━━━━━━━━━━━━━━━━━━━━━━━━━━━━┳━━━━━━━━━━━━━━━━━┓\n",
              "┃\u001b[1m \u001b[0m\u001b[1mLayer (type)                        \u001b[0m\u001b[1m \u001b[0m┃\u001b[1m \u001b[0m\u001b[1mOutput Shape               \u001b[0m\u001b[1m \u001b[0m┃\u001b[1m \u001b[0m\u001b[1m        Param #\u001b[0m\u001b[1m \u001b[0m┃\n",
              "┡━━━━━━━━━━━━━━━━━━━━━━━━━━━━━━━━━━━━━━╇━━━━━━━━━━━━━━━━━━━━━━━━━━━━━╇━━━━━━━━━━━━━━━━━┩\n",
              "│ input_layer (\u001b[38;5;33mInputLayer\u001b[0m)             │ (\u001b[38;5;45mNone\u001b[0m, \u001b[38;5;34m400\u001b[0m)                 │               \u001b[38;5;34m0\u001b[0m │\n",
              "├──────────────────────────────────────┼─────────────────────────────┼─────────────────┤\n",
              "│ embedding (\u001b[38;5;33mEmbedding\u001b[0m)                │ (\u001b[38;5;45mNone\u001b[0m, \u001b[38;5;34m400\u001b[0m, \u001b[38;5;34m300\u001b[0m)            │       \u001b[38;5;34m6,459,900\u001b[0m │\n",
              "├──────────────────────────────────────┼─────────────────────────────┼─────────────────┤\n",
              "│ global_max_pooling1d                 │ (\u001b[38;5;45mNone\u001b[0m, \u001b[38;5;34m300\u001b[0m)                 │               \u001b[38;5;34m0\u001b[0m │\n",
              "│ (\u001b[38;5;33mGlobalMaxPooling1D\u001b[0m)                 │                             │                 │\n",
              "├──────────────────────────────────────┼─────────────────────────────┼─────────────────┤\n",
              "│ dense (\u001b[38;5;33mDense\u001b[0m)                        │ (\u001b[38;5;45mNone\u001b[0m, \u001b[38;5;34m256\u001b[0m)                 │          \u001b[38;5;34m77,056\u001b[0m │\n",
              "├──────────────────────────────────────┼─────────────────────────────┼─────────────────┤\n",
              "│ dropout (\u001b[38;5;33mDropout\u001b[0m)                    │ (\u001b[38;5;45mNone\u001b[0m, \u001b[38;5;34m256\u001b[0m)                 │               \u001b[38;5;34m0\u001b[0m │\n",
              "├──────────────────────────────────────┼─────────────────────────────┼─────────────────┤\n",
              "│ dense_1 (\u001b[38;5;33mDense\u001b[0m)                      │ (\u001b[38;5;45mNone\u001b[0m, \u001b[38;5;34m128\u001b[0m)                 │          \u001b[38;5;34m32,896\u001b[0m │\n",
              "├──────────────────────────────────────┼─────────────────────────────┼─────────────────┤\n",
              "│ dropout_1 (\u001b[38;5;33mDropout\u001b[0m)                  │ (\u001b[38;5;45mNone\u001b[0m, \u001b[38;5;34m128\u001b[0m)                 │               \u001b[38;5;34m0\u001b[0m │\n",
              "├──────────────────────────────────────┼─────────────────────────────┼─────────────────┤\n",
              "│ dense_2 (\u001b[38;5;33mDense\u001b[0m)                      │ (\u001b[38;5;45mNone\u001b[0m, \u001b[38;5;34m64\u001b[0m)                  │           \u001b[38;5;34m8,256\u001b[0m │\n",
              "├──────────────────────────────────────┼─────────────────────────────┼─────────────────┤\n",
              "│ dense_3 (\u001b[38;5;33mDense\u001b[0m)                      │ (\u001b[38;5;45mNone\u001b[0m, \u001b[38;5;34m5\u001b[0m)                   │             \u001b[38;5;34m325\u001b[0m │\n",
              "└──────────────────────────────────────┴─────────────────────────────┴─────────────────┘\n"
            ],
            "text/html": [
              "<pre style=\"white-space:pre;overflow-x:auto;line-height:normal;font-family:Menlo,'DejaVu Sans Mono',consolas,'Courier New',monospace\">┏━━━━━━━━━━━━━━━━━━━━━━━━━━━━━━━━━━━━━━┳━━━━━━━━━━━━━━━━━━━━━━━━━━━━━┳━━━━━━━━━━━━━━━━━┓\n",
              "┃<span style=\"font-weight: bold\"> Layer (type)                         </span>┃<span style=\"font-weight: bold\"> Output Shape                </span>┃<span style=\"font-weight: bold\">         Param # </span>┃\n",
              "┡━━━━━━━━━━━━━━━━━━━━━━━━━━━━━━━━━━━━━━╇━━━━━━━━━━━━━━━━━━━━━━━━━━━━━╇━━━━━━━━━━━━━━━━━┩\n",
              "│ input_layer (<span style=\"color: #0087ff; text-decoration-color: #0087ff\">InputLayer</span>)             │ (<span style=\"color: #00d7ff; text-decoration-color: #00d7ff\">None</span>, <span style=\"color: #00af00; text-decoration-color: #00af00\">400</span>)                 │               <span style=\"color: #00af00; text-decoration-color: #00af00\">0</span> │\n",
              "├──────────────────────────────────────┼─────────────────────────────┼─────────────────┤\n",
              "│ embedding (<span style=\"color: #0087ff; text-decoration-color: #0087ff\">Embedding</span>)                │ (<span style=\"color: #00d7ff; text-decoration-color: #00d7ff\">None</span>, <span style=\"color: #00af00; text-decoration-color: #00af00\">400</span>, <span style=\"color: #00af00; text-decoration-color: #00af00\">300</span>)            │       <span style=\"color: #00af00; text-decoration-color: #00af00\">6,459,900</span> │\n",
              "├──────────────────────────────────────┼─────────────────────────────┼─────────────────┤\n",
              "│ global_max_pooling1d                 │ (<span style=\"color: #00d7ff; text-decoration-color: #00d7ff\">None</span>, <span style=\"color: #00af00; text-decoration-color: #00af00\">300</span>)                 │               <span style=\"color: #00af00; text-decoration-color: #00af00\">0</span> │\n",
              "│ (<span style=\"color: #0087ff; text-decoration-color: #0087ff\">GlobalMaxPooling1D</span>)                 │                             │                 │\n",
              "├──────────────────────────────────────┼─────────────────────────────┼─────────────────┤\n",
              "│ dense (<span style=\"color: #0087ff; text-decoration-color: #0087ff\">Dense</span>)                        │ (<span style=\"color: #00d7ff; text-decoration-color: #00d7ff\">None</span>, <span style=\"color: #00af00; text-decoration-color: #00af00\">256</span>)                 │          <span style=\"color: #00af00; text-decoration-color: #00af00\">77,056</span> │\n",
              "├──────────────────────────────────────┼─────────────────────────────┼─────────────────┤\n",
              "│ dropout (<span style=\"color: #0087ff; text-decoration-color: #0087ff\">Dropout</span>)                    │ (<span style=\"color: #00d7ff; text-decoration-color: #00d7ff\">None</span>, <span style=\"color: #00af00; text-decoration-color: #00af00\">256</span>)                 │               <span style=\"color: #00af00; text-decoration-color: #00af00\">0</span> │\n",
              "├──────────────────────────────────────┼─────────────────────────────┼─────────────────┤\n",
              "│ dense_1 (<span style=\"color: #0087ff; text-decoration-color: #0087ff\">Dense</span>)                      │ (<span style=\"color: #00d7ff; text-decoration-color: #00d7ff\">None</span>, <span style=\"color: #00af00; text-decoration-color: #00af00\">128</span>)                 │          <span style=\"color: #00af00; text-decoration-color: #00af00\">32,896</span> │\n",
              "├──────────────────────────────────────┼─────────────────────────────┼─────────────────┤\n",
              "│ dropout_1 (<span style=\"color: #0087ff; text-decoration-color: #0087ff\">Dropout</span>)                  │ (<span style=\"color: #00d7ff; text-decoration-color: #00d7ff\">None</span>, <span style=\"color: #00af00; text-decoration-color: #00af00\">128</span>)                 │               <span style=\"color: #00af00; text-decoration-color: #00af00\">0</span> │\n",
              "├──────────────────────────────────────┼─────────────────────────────┼─────────────────┤\n",
              "│ dense_2 (<span style=\"color: #0087ff; text-decoration-color: #0087ff\">Dense</span>)                      │ (<span style=\"color: #00d7ff; text-decoration-color: #00d7ff\">None</span>, <span style=\"color: #00af00; text-decoration-color: #00af00\">64</span>)                  │           <span style=\"color: #00af00; text-decoration-color: #00af00\">8,256</span> │\n",
              "├──────────────────────────────────────┼─────────────────────────────┼─────────────────┤\n",
              "│ dense_3 (<span style=\"color: #0087ff; text-decoration-color: #0087ff\">Dense</span>)                      │ (<span style=\"color: #00d7ff; text-decoration-color: #00d7ff\">None</span>, <span style=\"color: #00af00; text-decoration-color: #00af00\">5</span>)                   │             <span style=\"color: #00af00; text-decoration-color: #00af00\">325</span> │\n",
              "└──────────────────────────────────────┴─────────────────────────────┴─────────────────┘\n",
              "</pre>\n"
            ]
          },
          "metadata": {}
        },
        {
          "output_type": "display_data",
          "data": {
            "text/plain": [
              "\u001b[1m Total params: \u001b[0m\u001b[38;5;34m6,578,433\u001b[0m (25.09 MB)\n"
            ],
            "text/html": [
              "<pre style=\"white-space:pre;overflow-x:auto;line-height:normal;font-family:Menlo,'DejaVu Sans Mono',consolas,'Courier New',monospace\"><span style=\"font-weight: bold\"> Total params: </span><span style=\"color: #00af00; text-decoration-color: #00af00\">6,578,433</span> (25.09 MB)\n",
              "</pre>\n"
            ]
          },
          "metadata": {}
        },
        {
          "output_type": "display_data",
          "data": {
            "text/plain": [
              "\u001b[1m Trainable params: \u001b[0m\u001b[38;5;34m6,578,433\u001b[0m (25.09 MB)\n"
            ],
            "text/html": [
              "<pre style=\"white-space:pre;overflow-x:auto;line-height:normal;font-family:Menlo,'DejaVu Sans Mono',consolas,'Courier New',monospace\"><span style=\"font-weight: bold\"> Trainable params: </span><span style=\"color: #00af00; text-decoration-color: #00af00\">6,578,433</span> (25.09 MB)\n",
              "</pre>\n"
            ]
          },
          "metadata": {}
        },
        {
          "output_type": "display_data",
          "data": {
            "text/plain": [
              "\u001b[1m Non-trainable params: \u001b[0m\u001b[38;5;34m0\u001b[0m (0.00 B)\n"
            ],
            "text/html": [
              "<pre style=\"white-space:pre;overflow-x:auto;line-height:normal;font-family:Menlo,'DejaVu Sans Mono',consolas,'Courier New',monospace\"><span style=\"font-weight: bold\"> Non-trainable params: </span><span style=\"color: #00af00; text-decoration-color: #00af00\">0</span> (0.00 B)\n",
              "</pre>\n"
            ]
          },
          "metadata": {}
        }
      ]
    },
    {
      "cell_type": "code",
      "source": [
        "# compiling model\n",
        "fasttext_model.compile(loss='sparse_categorical_crossentropy', optimizer='adam', metrics=['accuracy'])"
      ],
      "metadata": {
        "id": "LBbvYpX57p_e"
      },
      "execution_count": 28,
      "outputs": []
    },
    {
      "cell_type": "code",
      "source": [
        "# training model\n",
        "history = fasttext_model.fit(padded_train, y_train, batch_size=64, epochs=15,\n",
        "                          validation_data=(padded_test, y_test), callbacks=callback)"
      ],
      "metadata": {
        "colab": {
          "base_uri": "https://localhost:8080/"
        },
        "outputId": "11a2c02f-2e12-4a08-fe1d-b5b35040ca58",
        "id": "rH9m0gLR7p_e"
      },
      "execution_count": 29,
      "outputs": [
        {
          "output_type": "stream",
          "name": "stdout",
          "text": [
            "Epoch 1/15\n",
            "\u001b[1m19/19\u001b[0m \u001b[32m━━━━━━━━━━━━━━━━━━━━\u001b[0m\u001b[37m\u001b[0m \u001b[1m0s\u001b[0m 155ms/step - accuracy: 0.2176 - loss: 1.7139\n",
            "Epoch 1: val_accuracy improved from -inf to 0.18456, saving model to /content/fasttext_model2/fasttext_model2.keras\n",
            "\u001b[1m19/19\u001b[0m \u001b[32m━━━━━━━━━━━━━━━━━━━━\u001b[0m\u001b[37m\u001b[0m \u001b[1m6s\u001b[0m 190ms/step - accuracy: 0.2186 - loss: 1.7106 - val_accuracy: 0.1846 - val_loss: 1.5890 - learning_rate: 0.0010\n",
            "Epoch 2/15\n",
            "\u001b[1m19/19\u001b[0m \u001b[32m━━━━━━━━━━━━━━━━━━━━\u001b[0m\u001b[37m\u001b[0m \u001b[1m0s\u001b[0m 112ms/step - accuracy: 0.2631 - loss: 1.5764\n",
            "Epoch 2: val_accuracy improved from 0.18456 to 0.44631, saving model to /content/fasttext_model2/fasttext_model2.keras\n",
            "\u001b[1m19/19\u001b[0m \u001b[32m━━━━━━━━━━━━━━━━━━━━\u001b[0m\u001b[37m\u001b[0m \u001b[1m3s\u001b[0m 140ms/step - accuracy: 0.2643 - loss: 1.5758 - val_accuracy: 0.4463 - val_loss: 1.4845 - learning_rate: 0.0010\n",
            "Epoch 3/15\n",
            "\u001b[1m19/19\u001b[0m \u001b[32m━━━━━━━━━━━━━━━━━━━━\u001b[0m\u001b[37m\u001b[0m \u001b[1m0s\u001b[0m 115ms/step - accuracy: 0.3626 - loss: 1.4932\n",
            "Epoch 3: val_accuracy improved from 0.44631 to 0.46980, saving model to /content/fasttext_model2/fasttext_model2.keras\n",
            "\u001b[1m19/19\u001b[0m \u001b[32m━━━━━━━━━━━━━━━━━━━━\u001b[0m\u001b[37m\u001b[0m \u001b[1m3s\u001b[0m 143ms/step - accuracy: 0.3636 - loss: 1.4917 - val_accuracy: 0.4698 - val_loss: 1.3596 - learning_rate: 0.0010\n",
            "Epoch 4/15\n",
            "\u001b[1m19/19\u001b[0m \u001b[32m━━━━━━━━━━━━━━━━━━━━\u001b[0m\u001b[37m\u001b[0m \u001b[1m0s\u001b[0m 144ms/step - accuracy: 0.4907 - loss: 1.3080\n",
            "Epoch 4: val_accuracy improved from 0.46980 to 0.82215, saving model to /content/fasttext_model2/fasttext_model2.keras\n",
            "\u001b[1m19/19\u001b[0m \u001b[32m━━━━━━━━━━━━━━━━━━━━\u001b[0m\u001b[37m\u001b[0m \u001b[1m6s\u001b[0m 182ms/step - accuracy: 0.4920 - loss: 1.3051 - val_accuracy: 0.8221 - val_loss: 1.0021 - learning_rate: 0.0010\n",
            "Epoch 5/15\n",
            "\u001b[1m19/19\u001b[0m \u001b[32m━━━━━━━━━━━━━━━━━━━━\u001b[0m\u001b[37m\u001b[0m \u001b[1m0s\u001b[0m 178ms/step - accuracy: 0.6239 - loss: 1.0198\n",
            "Epoch 5: val_accuracy improved from 0.82215 to 0.84228, saving model to /content/fasttext_model2/fasttext_model2.keras\n",
            "\u001b[1m19/19\u001b[0m \u001b[32m━━━━━━━━━━━━━━━━━━━━\u001b[0m\u001b[37m\u001b[0m \u001b[1m4s\u001b[0m 205ms/step - accuracy: 0.6252 - loss: 1.0164 - val_accuracy: 0.8423 - val_loss: 0.6907 - learning_rate: 0.0010\n",
            "Epoch 6/15\n",
            "\u001b[1m19/19\u001b[0m \u001b[32m━━━━━━━━━━━━━━━━━━━━\u001b[0m\u001b[37m\u001b[0m \u001b[1m0s\u001b[0m 118ms/step - accuracy: 0.7904 - loss: 0.6816\n",
            "Epoch 6: val_accuracy improved from 0.84228 to 0.90268, saving model to /content/fasttext_model2/fasttext_model2.keras\n",
            "\u001b[1m19/19\u001b[0m \u001b[32m━━━━━━━━━━━━━━━━━━━━\u001b[0m\u001b[37m\u001b[0m \u001b[1m4s\u001b[0m 147ms/step - accuracy: 0.7916 - loss: 0.6788 - val_accuracy: 0.9027 - val_loss: 0.4239 - learning_rate: 0.0010\n",
            "Epoch 7/15\n",
            "\u001b[1m19/19\u001b[0m \u001b[32m━━━━━━━━━━━━━━━━━━━━\u001b[0m\u001b[37m\u001b[0m \u001b[1m0s\u001b[0m 117ms/step - accuracy: 0.8965 - loss: 0.3724\n",
            "Epoch 7: val_accuracy improved from 0.90268 to 0.91611, saving model to /content/fasttext_model2/fasttext_model2.keras\n",
            "\u001b[1m19/19\u001b[0m \u001b[32m━━━━━━━━━━━━━━━━━━━━\u001b[0m\u001b[37m\u001b[0m \u001b[1m3s\u001b[0m 143ms/step - accuracy: 0.8959 - loss: 0.3722 - val_accuracy: 0.9161 - val_loss: 0.3099 - learning_rate: 0.0010\n",
            "Epoch 8/15\n",
            "\u001b[1m19/19\u001b[0m \u001b[32m━━━━━━━━━━━━━━━━━━━━\u001b[0m\u001b[37m\u001b[0m \u001b[1m0s\u001b[0m 161ms/step - accuracy: 0.9321 - loss: 0.2521\n",
            "Epoch 8: val_accuracy improved from 0.91611 to 0.92617, saving model to /content/fasttext_model2/fasttext_model2.keras\n",
            "\u001b[1m19/19\u001b[0m \u001b[32m━━━━━━━━━━━━━━━━━━━━\u001b[0m\u001b[37m\u001b[0m \u001b[1m6s\u001b[0m 195ms/step - accuracy: 0.9319 - loss: 0.2520 - val_accuracy: 0.9262 - val_loss: 0.2947 - learning_rate: 0.0010\n",
            "Epoch 9/15\n",
            "\u001b[1m19/19\u001b[0m \u001b[32m━━━━━━━━━━━━━━━━━━━━\u001b[0m\u001b[37m\u001b[0m \u001b[1m0s\u001b[0m 118ms/step - accuracy: 0.9636 - loss: 0.1436\n",
            "Epoch 9: val_accuracy improved from 0.92617 to 0.93960, saving model to /content/fasttext_model2/fasttext_model2.keras\n",
            "\u001b[1m19/19\u001b[0m \u001b[32m━━━━━━━━━━━━━━━━━━━━\u001b[0m\u001b[37m\u001b[0m \u001b[1m4s\u001b[0m 143ms/step - accuracy: 0.9636 - loss: 0.1435 - val_accuracy: 0.9396 - val_loss: 0.2531 - learning_rate: 0.0010\n",
            "Epoch 10/15\n",
            "\u001b[1m19/19\u001b[0m \u001b[32m━━━━━━━━━━━━━━━━━━━━\u001b[0m\u001b[37m\u001b[0m \u001b[1m0s\u001b[0m 116ms/step - accuracy: 0.9701 - loss: 0.1136\n",
            "Epoch 10: val_accuracy did not improve from 0.93960\n",
            "\u001b[1m19/19\u001b[0m \u001b[32m━━━━━━━━━━━━━━━━━━━━\u001b[0m\u001b[37m\u001b[0m \u001b[1m5s\u001b[0m 124ms/step - accuracy: 0.9704 - loss: 0.1128 - val_accuracy: 0.9262 - val_loss: 0.2448 - learning_rate: 0.0010\n",
            "Epoch 11/15\n",
            "\u001b[1m19/19\u001b[0m \u001b[32m━━━━━━━━━━━━━━━━━━━━\u001b[0m\u001b[37m\u001b[0m \u001b[1m0s\u001b[0m 121ms/step - accuracy: 0.9801 - loss: 0.0755\n",
            "Epoch 11: val_accuracy did not improve from 0.93960\n",
            "\u001b[1m19/19\u001b[0m \u001b[32m━━━━━━━━━━━━━━━━━━━━\u001b[0m\u001b[37m\u001b[0m \u001b[1m3s\u001b[0m 131ms/step - accuracy: 0.9802 - loss: 0.0752 - val_accuracy: 0.9396 - val_loss: 0.2098 - learning_rate: 0.0010\n",
            "Epoch 12/15\n",
            "\u001b[1m19/19\u001b[0m \u001b[32m━━━━━━━━━━━━━━━━━━━━\u001b[0m\u001b[37m\u001b[0m \u001b[1m0s\u001b[0m 167ms/step - accuracy: 0.9797 - loss: 0.0699\n",
            "Epoch 12: val_accuracy did not improve from 0.93960\n",
            "\n",
            "Epoch 12: ReduceLROnPlateau reducing learning rate to 0.00010000000474974513.\n",
            "\u001b[1m19/19\u001b[0m \u001b[32m━━━━━━━━━━━━━━━━━━━━\u001b[0m\u001b[37m\u001b[0m \u001b[1m3s\u001b[0m 177ms/step - accuracy: 0.9797 - loss: 0.0700 - val_accuracy: 0.9262 - val_loss: 0.2605 - learning_rate: 0.0010\n",
            "Epoch 13/15\n",
            "\u001b[1m19/19\u001b[0m \u001b[32m━━━━━━━━━━━━━━━━━━━━\u001b[0m\u001b[37m\u001b[0m \u001b[1m0s\u001b[0m 117ms/step - accuracy: 0.9885 - loss: 0.0557\n",
            "Epoch 13: val_accuracy improved from 0.93960 to 0.94966, saving model to /content/fasttext_model2/fasttext_model2.keras\n",
            "\u001b[1m19/19\u001b[0m \u001b[32m━━━━━━━━━━━━━━━━━━━━\u001b[0m\u001b[37m\u001b[0m \u001b[1m5s\u001b[0m 156ms/step - accuracy: 0.9887 - loss: 0.0549 - val_accuracy: 0.9497 - val_loss: 0.1914 - learning_rate: 1.0000e-04\n",
            "Epoch 14/15\n",
            "\u001b[1m19/19\u001b[0m \u001b[32m━━━━━━━━━━━━━━━━━━━━\u001b[0m\u001b[37m\u001b[0m \u001b[1m0s\u001b[0m 118ms/step - accuracy: 0.9911 - loss: 0.0375\n",
            "Epoch 14: val_accuracy did not improve from 0.94966\n",
            "\u001b[1m19/19\u001b[0m \u001b[32m━━━━━━━━━━━━━━━━━━━━\u001b[0m\u001b[37m\u001b[0m \u001b[1m5s\u001b[0m 125ms/step - accuracy: 0.9913 - loss: 0.0373 - val_accuracy: 0.9497 - val_loss: 0.1759 - learning_rate: 1.0000e-04\n",
            "Epoch 15/15\n",
            "\u001b[1m19/19\u001b[0m \u001b[32m━━━━━━━━━━━━━━━━━━━━\u001b[0m\u001b[37m\u001b[0m \u001b[1m0s\u001b[0m 138ms/step - accuracy: 0.9937 - loss: 0.0247\n",
            "Epoch 15: val_accuracy improved from 0.94966 to 0.95638, saving model to /content/fasttext_model2/fasttext_model2.keras\n",
            "\u001b[1m19/19\u001b[0m \u001b[32m━━━━━━━━━━━━━━━━━━━━\u001b[0m\u001b[37m\u001b[0m \u001b[1m3s\u001b[0m 178ms/step - accuracy: 0.9936 - loss: 0.0248 - val_accuracy: 0.9564 - val_loss: 0.1761 - learning_rate: 1.0000e-04\n"
          ]
        }
      ]
    },
    {
      "cell_type": "markdown",
      "source": [
        "### 9.3 Evaluation"
      ],
      "metadata": {
        "id": "qZSm6Zg67p_e"
      }
    },
    {
      "cell_type": "code",
      "source": [
        "# Plot history\n",
        "plot_history(history)"
      ],
      "metadata": {
        "colab": {
          "base_uri": "https://localhost:8080/",
          "height": 469
        },
        "outputId": "faaada8a-ef0e-416a-a62b-c241809f952a",
        "id": "NSi6Ztq17p_f"
      },
      "execution_count": 30,
      "outputs": [
        {
          "output_type": "display_data",
          "data": {
            "text/plain": [
              "<Figure size 1200x500 with 2 Axes>"
            ],
            "image/png": "[encoded data removed]"
          },
          "metadata": {}
        }
      ]
    },
    {
      "cell_type": "code",
      "source": [
        "y_pred_train = fasttext_model.predict(padded_train, batch_size=64, verbose=1)\n",
        "y_pred_bool_train = np.argmax(y_pred_train, axis=1)\n",
        "\n",
        "print(classification_report(y_train, y_pred_bool_train, zero_division=1))"
      ],
      "metadata": {
        "colab": {
          "base_uri": "https://localhost:8080/"
        },
        "outputId": "a31dc1c3-512d-41d1-e4a7-f09397bd3723",
        "id": "KC2OOdgJ7p_f"
      },
      "execution_count": 32,
      "outputs": [
        {
          "output_type": "stream",
          "name": "stdout",
          "text": [
            "\u001b[1m19/19\u001b[0m \u001b[32m━━━━━━━━━━━━━━━━━━━━\u001b[0m\u001b[37m\u001b[0m \u001b[1m0s\u001b[0m 21ms/step\n",
            "              precision    recall  f1-score   support\n",
            "\n",
            "           0       1.00      1.00      1.00       269\n",
            "           1       1.00      1.00      1.00       209\n",
            "           2       1.00      1.00      1.00       219\n",
            "           3       1.00      1.00      1.00       277\n",
            "           4       1.00      1.00      1.00       218\n",
            "\n",
            "    accuracy                           1.00      1192\n",
            "   macro avg       1.00      1.00      1.00      1192\n",
            "weighted avg       1.00      1.00      1.00      1192\n",
            "\n"
          ]
        }
      ]
    },
    {
      "cell_type": "code",
      "source": [
        "y_pred_test = fasttext_model.predict(padded_test, batch_size=64, verbose=1)\n",
        "y_pred_bool_test = np.argmax(y_pred_test, axis=1)\n",
        "\n",
        "print(classification_report(y_test, y_pred_bool_test, zero_division=1))"
      ],
      "metadata": {
        "colab": {
          "base_uri": "https://localhost:8080/"
        },
        "outputId": "9f7de5f9-037e-4eaa-8194-88c5dff0e5f9",
        "id": "JID6S8Do7p_f"
      },
      "execution_count": 31,
      "outputs": [
        {
          "output_type": "stream",
          "name": "stdout",
          "text": [
            "\u001b[1m5/5\u001b[0m \u001b[32m━━━━━━━━━━━━━━━━━━━━\u001b[0m\u001b[37m\u001b[0m \u001b[1m0s\u001b[0m 35ms/step\n",
            "              precision    recall  f1-score   support\n",
            "\n",
            "           0       0.93      0.96      0.94        67\n",
            "           1       0.96      0.96      0.96        52\n",
            "           2       0.94      0.91      0.93        55\n",
            "           3       0.97      0.99      0.98        69\n",
            "           4       0.98      0.96      0.97        55\n",
            "\n",
            "    accuracy                           0.96       298\n",
            "   macro avg       0.96      0.95      0.96       298\n",
            "weighted avg       0.96      0.96      0.96       298\n",
            "\n"
          ]
        }
      ]
    },
    {
      "cell_type": "markdown",
      "source": [
        "#### **Obeservation:**\n",
        "\n",
        "- with training FastText embeddings **96%** f1-score"
      ],
      "metadata": {
        "id": "KiEKzjeR7p_f"
      }
    },
    {
      "cell_type": "markdown",
      "source": [
        "## 10.LSTM"
      ],
      "metadata": {
        "id": "aHkNVnrHBusz"
      }
    },
    {
      "cell_type": "markdown",
      "source": [
        "### 10.1 LSTM with 2 dense layers"
      ],
      "metadata": {
        "id": "l4dx_0zXB1K2"
      }
    },
    {
      "cell_type": "markdown",
      "source": [
        "### 10.1.1 Callbacks"
      ],
      "metadata": {
        "id": "wW6JDOhXClxL"
      }
    },
    {
      "cell_type": "code",
      "source": [
        "# Callback to save model\n",
        "filepath = '/content/drive/MyDrive/Case_Study_2/lstm_model.keras'\n",
        "checkpoint = ModelCheckpoint(filepath=filepath, monitor='val_accuracy', verbose=1, mode='max', save_best_only=True)\n",
        "\n",
        "callback = [checkpoint]"
      ],
      "metadata": {
        "id": "dVz4YK9c8ohn"
      },
      "execution_count": null,
      "outputs": []
    },
    {
      "cell_type": "markdown",
      "source": [
        "### 10.1.2 Model Training"
      ],
      "metadata": {
        "id": "fk7wV5EuColR"
      }
    },
    {
      "cell_type": "code",
      "source": [
        "clear_session()\n",
        "input_layer = layers.Input(shape=(400,))\n",
        "embed_layer = layers.Embedding(vocab_size, embedding_dim, weights=[embedding_matrix],\n",
        "                              input_length=400, trainable=False)(input_layer)\n",
        "lstm1 = layers.LSTM(128)(embed_layer)\n",
        "drop1 = layers.Dropout(0.20)(lstm1)\n",
        "dense1 = layers.Dense(128, activation='relu')(drop1)\n",
        "drop2 = layers.Dropout(0.20)(dense1)\n",
        "dense2 = layers.Dense(64, activation='relu')(drop2)\n",
        "output_layer = layers.Dense(5, activation='sigmoid')(dense2)\n",
        "lstm_model = Model(input_layer, output_layer)\n",
        "lstm_model.summary()"
      ],
      "metadata": {
        "colab": {
          "base_uri": "https://localhost:8080/",
          "height": 397
        },
        "id": "lW7A38gGB9VB",
        "outputId": "174675b0-7d7e-4b7f-889c-bc0c84f718a4"
      },
      "execution_count": null,
      "outputs": [
        {
          "output_type": "display_data",
          "data": {
            "text/plain": [
              "\u001b[1mModel: \"functional\"\u001b[0m\n"
            ],
            "text/html": [
              "<pre style=\"white-space:pre;overflow-x:auto;line-height:normal;font-family:Menlo,'DejaVu Sans Mono',consolas,'Courier New',monospace\"><span style=\"font-weight: bold\">Model: \"functional\"</span>\n",
              "</pre>\n"
            ]
          },
          "metadata": {}
        },
        {
          "output_type": "display_data",
          "data": {
            "text/plain": [
              "┏━━━━━━━━━━━━━━━━━━━━━━━━━━━━━━━━━━━━━━┳━━━━━━━━━━━━━━━━━━━━━━━━━━━━━┳━━━━━━━━━━━━━━━━━┓\n",
              "┃\u001b[1m \u001b[0m\u001b[1mLayer (type)                        \u001b[0m\u001b[1m \u001b[0m┃\u001b[1m \u001b[0m\u001b[1mOutput Shape               \u001b[0m\u001b[1m \u001b[0m┃\u001b[1m \u001b[0m\u001b[1m        Param #\u001b[0m\u001b[1m \u001b[0m┃\n",
              "┡━━━━━━━━━━━━━━━━━━━━━━━━━━━━━━━━━━━━━━╇━━━━━━━━━━━━━━━━━━━━━━━━━━━━━╇━━━━━━━━━━━━━━━━━┩\n",
              "│ input_layer (\u001b[38;5;33mInputLayer\u001b[0m)             │ (\u001b[38;5;45mNone\u001b[0m, \u001b[38;5;34m400\u001b[0m)                 │               \u001b[38;5;34m0\u001b[0m │\n",
              "├──────────────────────────────────────┼─────────────────────────────┼─────────────────┤\n",
              "│ embedding (\u001b[38;5;33mEmbedding\u001b[0m)                │ (\u001b[38;5;45mNone\u001b[0m, \u001b[38;5;34m400\u001b[0m, \u001b[38;5;34m300\u001b[0m)            │       \u001b[38;5;34m6,459,900\u001b[0m │\n",
              "├──────────────────────────────────────┼─────────────────────────────┼─────────────────┤\n",
              "│ lstm (\u001b[38;5;33mLSTM\u001b[0m)                          │ (\u001b[38;5;45mNone\u001b[0m, \u001b[38;5;34m128\u001b[0m)                 │         \u001b[38;5;34m219,648\u001b[0m │\n",
              "├──────────────────────────────────────┼─────────────────────────────┼─────────────────┤\n",
              "│ dropout (\u001b[38;5;33mDropout\u001b[0m)                    │ (\u001b[38;5;45mNone\u001b[0m, \u001b[38;5;34m128\u001b[0m)                 │               \u001b[38;5;34m0\u001b[0m │\n",
              "├──────────────────────────────────────┼─────────────────────────────┼─────────────────┤\n",
              "│ dense (\u001b[38;5;33mDense\u001b[0m)                        │ (\u001b[38;5;45mNone\u001b[0m, \u001b[38;5;34m128\u001b[0m)                 │          \u001b[38;5;34m16,512\u001b[0m │\n",
              "├──────────────────────────────────────┼─────────────────────────────┼─────────────────┤\n",
              "│ dropout_1 (\u001b[38;5;33mDropout\u001b[0m)                  │ (\u001b[38;5;45mNone\u001b[0m, \u001b[38;5;34m128\u001b[0m)                 │               \u001b[38;5;34m0\u001b[0m │\n",
              "├──────────────────────────────────────┼─────────────────────────────┼─────────────────┤\n",
              "│ dense_1 (\u001b[38;5;33mDense\u001b[0m)                      │ (\u001b[38;5;45mNone\u001b[0m, \u001b[38;5;34m64\u001b[0m)                  │           \u001b[38;5;34m8,256\u001b[0m │\n",
              "├──────────────────────────────────────┼─────────────────────────────┼─────────────────┤\n",
              "│ dense_2 (\u001b[38;5;33mDense\u001b[0m)                      │ (\u001b[38;5;45mNone\u001b[0m, \u001b[38;5;34m5\u001b[0m)                   │             \u001b[38;5;34m325\u001b[0m │\n",
              "└──────────────────────────────────────┴─────────────────────────────┴─────────────────┘\n"
            ],
            "text/html": [
              "<pre style=\"white-space:pre;overflow-x:auto;line-height:normal;font-family:Menlo,'DejaVu Sans Mono',consolas,'Courier New',monospace\">┏━━━━━━━━━━━━━━━━━━━━━━━━━━━━━━━━━━━━━━┳━━━━━━━━━━━━━━━━━━━━━━━━━━━━━┳━━━━━━━━━━━━━━━━━┓\n",
              "┃<span style=\"font-weight: bold\"> Layer (type)                         </span>┃<span style=\"font-weight: bold\"> Output Shape                </span>┃<span style=\"font-weight: bold\">         Param # </span>┃\n",
              "┡━━━━━━━━━━━━━━━━━━━━━━━━━━━━━━━━━━━━━━╇━━━━━━━━━━━━━━━━━━━━━━━━━━━━━╇━━━━━━━━━━━━━━━━━┩\n",
              "│ input_layer (<span style=\"color: #0087ff; text-decoration-color: #0087ff\">InputLayer</span>)             │ (<span style=\"color: #00d7ff; text-decoration-color: #00d7ff\">None</span>, <span style=\"color: #00af00; text-decoration-color: #00af00\">400</span>)                 │               <span style=\"color: #00af00; text-decoration-color: #00af00\">0</span> │\n",
              "├──────────────────────────────────────┼─────────────────────────────┼─────────────────┤\n",
              "│ embedding (<span style=\"color: #0087ff; text-decoration-color: #0087ff\">Embedding</span>)                │ (<span style=\"color: #00d7ff; text-decoration-color: #00d7ff\">None</span>, <span style=\"color: #00af00; text-decoration-color: #00af00\">400</span>, <span style=\"color: #00af00; text-decoration-color: #00af00\">300</span>)            │       <span style=\"color: #00af00; text-decoration-color: #00af00\">6,459,900</span> │\n",
              "├──────────────────────────────────────┼─────────────────────────────┼─────────────────┤\n",
              "│ lstm (<span style=\"color: #0087ff; text-decoration-color: #0087ff\">LSTM</span>)                          │ (<span style=\"color: #00d7ff; text-decoration-color: #00d7ff\">None</span>, <span style=\"color: #00af00; text-decoration-color: #00af00\">128</span>)                 │         <span style=\"color: #00af00; text-decoration-color: #00af00\">219,648</span> │\n",
              "├──────────────────────────────────────┼─────────────────────────────┼─────────────────┤\n",
              "│ dropout (<span style=\"color: #0087ff; text-decoration-color: #0087ff\">Dropout</span>)                    │ (<span style=\"color: #00d7ff; text-decoration-color: #00d7ff\">None</span>, <span style=\"color: #00af00; text-decoration-color: #00af00\">128</span>)                 │               <span style=\"color: #00af00; text-decoration-color: #00af00\">0</span> │\n",
              "├──────────────────────────────────────┼─────────────────────────────┼─────────────────┤\n",
              "│ dense (<span style=\"color: #0087ff; text-decoration-color: #0087ff\">Dense</span>)                        │ (<span style=\"color: #00d7ff; text-decoration-color: #00d7ff\">None</span>, <span style=\"color: #00af00; text-decoration-color: #00af00\">128</span>)                 │          <span style=\"color: #00af00; text-decoration-color: #00af00\">16,512</span> │\n",
              "├──────────────────────────────────────┼─────────────────────────────┼─────────────────┤\n",
              "│ dropout_1 (<span style=\"color: #0087ff; text-decoration-color: #0087ff\">Dropout</span>)                  │ (<span style=\"color: #00d7ff; text-decoration-color: #00d7ff\">None</span>, <span style=\"color: #00af00; text-decoration-color: #00af00\">128</span>)                 │               <span style=\"color: #00af00; text-decoration-color: #00af00\">0</span> │\n",
              "├──────────────────────────────────────┼─────────────────────────────┼─────────────────┤\n",
              "│ dense_1 (<span style=\"color: #0087ff; text-decoration-color: #0087ff\">Dense</span>)                      │ (<span style=\"color: #00d7ff; text-decoration-color: #00d7ff\">None</span>, <span style=\"color: #00af00; text-decoration-color: #00af00\">64</span>)                  │           <span style=\"color: #00af00; text-decoration-color: #00af00\">8,256</span> │\n",
              "├──────────────────────────────────────┼─────────────────────────────┼─────────────────┤\n",
              "│ dense_2 (<span style=\"color: #0087ff; text-decoration-color: #0087ff\">Dense</span>)                      │ (<span style=\"color: #00d7ff; text-decoration-color: #00d7ff\">None</span>, <span style=\"color: #00af00; text-decoration-color: #00af00\">5</span>)                   │             <span style=\"color: #00af00; text-decoration-color: #00af00\">325</span> │\n",
              "└──────────────────────────────────────┴─────────────────────────────┴─────────────────┘\n",
              "</pre>\n"
            ]
          },
          "metadata": {}
        },
        {
          "output_type": "display_data",
          "data": {
            "text/plain": [
              "\u001b[1m Total params: \u001b[0m\u001b[38;5;34m6,704,641\u001b[0m (25.58 MB)\n"
            ],
            "text/html": [
              "<pre style=\"white-space:pre;overflow-x:auto;line-height:normal;font-family:Menlo,'DejaVu Sans Mono',consolas,'Courier New',monospace\"><span style=\"font-weight: bold\"> Total params: </span><span style=\"color: #00af00; text-decoration-color: #00af00\">6,704,641</span> (25.58 MB)\n",
              "</pre>\n"
            ]
          },
          "metadata": {}
        },
        {
          "output_type": "display_data",
          "data": {
            "text/plain": [
              "\u001b[1m Trainable params: \u001b[0m\u001b[38;5;34m244,741\u001b[0m (956.02 KB)\n"
            ],
            "text/html": [
              "<pre style=\"white-space:pre;overflow-x:auto;line-height:normal;font-family:Menlo,'DejaVu Sans Mono',consolas,'Courier New',monospace\"><span style=\"font-weight: bold\"> Trainable params: </span><span style=\"color: #00af00; text-decoration-color: #00af00\">244,741</span> (956.02 KB)\n",
              "</pre>\n"
            ]
          },
          "metadata": {}
        },
        {
          "output_type": "display_data",
          "data": {
            "text/plain": [
              "\u001b[1m Non-trainable params: \u001b[0m\u001b[38;5;34m6,459,900\u001b[0m (24.64 MB)\n"
            ],
            "text/html": [
              "<pre style=\"white-space:pre;overflow-x:auto;line-height:normal;font-family:Menlo,'DejaVu Sans Mono',consolas,'Courier New',monospace\"><span style=\"font-weight: bold\"> Non-trainable params: </span><span style=\"color: #00af00; text-decoration-color: #00af00\">6,459,900</span> (24.64 MB)\n",
              "</pre>\n"
            ]
          },
          "metadata": {}
        }
      ]
    },
    {
      "cell_type": "code",
      "source": [
        "# compiling model\n",
        "lstm_model.compile(loss='sparse_categorical_crossentropy', optimizer='adam', metrics=['accuracy'])"
      ],
      "metadata": {
        "id": "9ENj2N-2CAsU"
      },
      "execution_count": null,
      "outputs": []
    },
    {
      "cell_type": "code",
      "source": [
        "# training model\n",
        "history = lstm_model.fit(padded_train, y_train, batch_size=64, epochs=10,\n",
        "                        validation_data=(padded_test, y_test), callbacks=callback)"
      ],
      "metadata": {
        "colab": {
          "base_uri": "https://localhost:8080/"
        },
        "id": "n-rXIQvJCI8t",
        "outputId": "149a1df4-63f5-44b6-9035-f791d65288ec"
      },
      "execution_count": null,
      "outputs": [
        {
          "output_type": "stream",
          "name": "stdout",
          "text": [
            "Epoch 1/10\n",
            "\u001b[1m19/19\u001b[0m \u001b[32m━━━━━━━━━━━━━━━━━━━━\u001b[0m\u001b[37m\u001b[0m \u001b[1m0s\u001b[0m 870ms/step - accuracy: 0.2338 - loss: 1.5951\n",
            "Epoch 1: val_accuracy improved from -inf to 0.25503, saving model to /content/drive/MyDrive/Case_Study_2/lstm_model.keras\n",
            "\u001b[1m19/19\u001b[0m \u001b[32m━━━━━━━━━━━━━━━━━━━━\u001b[0m\u001b[37m\u001b[0m \u001b[1m23s\u001b[0m 1s/step - accuracy: 0.2343 - loss: 1.5950 - val_accuracy: 0.2550 - val_loss: 1.5809\n",
            "Epoch 2/10\n",
            "\u001b[1m19/19\u001b[0m \u001b[32m━━━━━━━━━━━━━━━━━━━━\u001b[0m\u001b[37m\u001b[0m \u001b[1m0s\u001b[0m 899ms/step - accuracy: 0.2641 - loss: 1.5554\n",
            "Epoch 2: val_accuracy improved from 0.25503 to 0.26174, saving model to /content/drive/MyDrive/Case_Study_2/lstm_model.keras\n",
            "\u001b[1m19/19\u001b[0m \u001b[32m━━━━━━━━━━━━━━━━━━━━\u001b[0m\u001b[37m\u001b[0m \u001b[1m20s\u001b[0m 988ms/step - accuracy: 0.2646 - loss: 1.5561 - val_accuracy: 0.2617 - val_loss: 1.5788\n",
            "Epoch 3/10\n",
            "\u001b[1m19/19\u001b[0m \u001b[32m━━━━━━━━━━━━━━━━━━━━\u001b[0m\u001b[37m\u001b[0m \u001b[1m0s\u001b[0m 895ms/step - accuracy: 0.2643 - loss: 1.5545\n",
            "Epoch 3: val_accuracy did not improve from 0.26174\n",
            "\u001b[1m19/19\u001b[0m \u001b[32m━━━━━━━━━━━━━━━━━━━━\u001b[0m\u001b[37m\u001b[0m \u001b[1m21s\u001b[0m 1s/step - accuracy: 0.2642 - loss: 1.5545 - val_accuracy: 0.2517 - val_loss: 1.5687\n",
            "Epoch 4/10\n",
            "\u001b[1m19/19\u001b[0m \u001b[32m━━━━━━━━━━━━━━━━━━━━\u001b[0m\u001b[37m\u001b[0m \u001b[1m0s\u001b[0m 962ms/step - accuracy: 0.3041 - loss: 1.5247\n",
            "Epoch 4: val_accuracy improved from 0.26174 to 0.37248, saving model to /content/drive/MyDrive/Case_Study_2/lstm_model.keras\n",
            "\u001b[1m19/19\u001b[0m \u001b[32m━━━━━━━━━━━━━━━━━━━━\u001b[0m\u001b[37m\u001b[0m \u001b[1m24s\u001b[0m 1s/step - accuracy: 0.3057 - loss: 1.5227 - val_accuracy: 0.3725 - val_loss: 1.4398\n",
            "Epoch 5/10\n",
            "\u001b[1m19/19\u001b[0m \u001b[32m━━━━━━━━━━━━━━━━━━━━\u001b[0m\u001b[37m\u001b[0m \u001b[1m0s\u001b[0m 1s/step - accuracy: 0.3347 - loss: 1.3762\n",
            "Epoch 5: val_accuracy improved from 0.37248 to 0.38591, saving model to /content/drive/MyDrive/Case_Study_2/lstm_model.keras\n",
            "\u001b[1m19/19\u001b[0m \u001b[32m━━━━━━━━━━━━━━━━━━━━\u001b[0m\u001b[37m\u001b[0m \u001b[1m25s\u001b[0m 1s/step - accuracy: 0.3356 - loss: 1.3743 - val_accuracy: 0.3859 - val_loss: 1.3444\n",
            "Epoch 6/10\n",
            "\u001b[1m19/19\u001b[0m \u001b[32m━━━━━━━━━━━━━━━━━━━━\u001b[0m\u001b[37m\u001b[0m \u001b[1m0s\u001b[0m 978ms/step - accuracy: 0.3849 - loss: 1.2913\n",
            "Epoch 6: val_accuracy did not improve from 0.38591\n",
            "\u001b[1m19/19\u001b[0m \u001b[32m━━━━━━━━━━━━━━━━━━━━\u001b[0m\u001b[37m\u001b[0m \u001b[1m37s\u001b[0m 1s/step - accuracy: 0.3850 - loss: 1.2915 - val_accuracy: 0.3792 - val_loss: 1.3457\n",
            "Epoch 7/10\n",
            "\u001b[1m19/19\u001b[0m \u001b[32m━━━━━━━━━━━━━━━━━━━━\u001b[0m\u001b[37m\u001b[0m \u001b[1m0s\u001b[0m 875ms/step - accuracy: 0.4049 - loss: 1.2685\n",
            "Epoch 7: val_accuracy did not improve from 0.38591\n",
            "\u001b[1m19/19\u001b[0m \u001b[32m━━━━━━━━━━━━━━━━━━━━\u001b[0m\u001b[37m\u001b[0m \u001b[1m39s\u001b[0m 1s/step - accuracy: 0.4046 - loss: 1.2684 - val_accuracy: 0.3758 - val_loss: 1.3047\n",
            "Epoch 8/10\n",
            "\u001b[1m19/19\u001b[0m \u001b[32m━━━━━━━━━━━━━━━━━━━━\u001b[0m\u001b[37m\u001b[0m \u001b[1m0s\u001b[0m 1s/step - accuracy: 0.3880 - loss: 1.2469\n",
            "Epoch 8: val_accuracy did not improve from 0.38591\n",
            "\u001b[1m19/19\u001b[0m \u001b[32m━━━━━━━━━━━━━━━━━━━━\u001b[0m\u001b[37m\u001b[0m \u001b[1m27s\u001b[0m 1s/step - accuracy: 0.3875 - loss: 1.2477 - val_accuracy: 0.3792 - val_loss: 1.3092\n",
            "Epoch 9/10\n",
            "\u001b[1m19/19\u001b[0m \u001b[32m━━━━━━━━━━━━━━━━━━━━\u001b[0m\u001b[37m\u001b[0m \u001b[1m0s\u001b[0m 1s/step - accuracy: 0.4102 - loss: 1.2564\n",
            "Epoch 9: val_accuracy improved from 0.38591 to 0.40268, saving model to /content/drive/MyDrive/Case_Study_2/lstm_model.keras\n",
            "\u001b[1m19/19\u001b[0m \u001b[32m━━━━━━━━━━━━━━━━━━━━\u001b[0m\u001b[37m\u001b[0m \u001b[1m31s\u001b[0m 2s/step - accuracy: 0.4092 - loss: 1.2566 - val_accuracy: 0.4027 - val_loss: 1.2512\n",
            "Epoch 10/10\n",
            "\u001b[1m19/19\u001b[0m \u001b[32m━━━━━━━━━━━━━━━━━━━━\u001b[0m\u001b[37m\u001b[0m \u001b[1m0s\u001b[0m 875ms/step - accuracy: 0.4037 - loss: 1.2759\n",
            "Epoch 10: val_accuracy did not improve from 0.40268\n",
            "\u001b[1m19/19\u001b[0m \u001b[32m━━━━━━━━━━━━━━━━━━━━\u001b[0m\u001b[37m\u001b[0m \u001b[1m18s\u001b[0m 952ms/step - accuracy: 0.4059 - loss: 1.2754 - val_accuracy: 0.2819 - val_loss: 1.7815\n"
          ]
        }
      ]
    },
    {
      "cell_type": "markdown",
      "source": [
        "### 10.1.3 Evaluation"
      ],
      "metadata": {
        "id": "wLHSuyVgCiRo"
      }
    },
    {
      "cell_type": "code",
      "source": [
        "plot_history(history)"
      ],
      "metadata": {
        "colab": {
          "base_uri": "https://localhost:8080/",
          "height": 469
        },
        "id": "t_WBROWoCO4N",
        "outputId": "ccbb8036-bd64-46b3-9898-6042e2598714"
      },
      "execution_count": null,
      "outputs": [
        {
          "output_type": "display_data",
          "data": {
            "text/plain": [
              "<Figure size 1200x500 with 2 Axes>"
            ],
            "image/png": "[encoded data removed]"
          },
          "metadata": {}
        }
      ]
    },
    {
      "cell_type": "code",
      "source": [
        "y_pred_train = lstm_model.predict(padded_train, batch_size=64, verbose=1)\n",
        "y_pred_bool_train = np.argmax(y_pred_train, axis=1)\n",
        "\n",
        "print(classification_report(y_train, y_pred_bool_train, zero_division=1))"
      ],
      "metadata": {
        "colab": {
          "base_uri": "https://localhost:8080/"
        },
        "id": "woQf8bdLC8Xw",
        "outputId": "310c3a96-7e55-424b-e1c7-067dabdf3625"
      },
      "execution_count": null,
      "outputs": [
        {
          "output_type": "stream",
          "name": "stdout",
          "text": [
            "\u001b[1m19/19\u001b[0m \u001b[32m━━━━━━━━━━━━━━━━━━━━\u001b[0m\u001b[37m\u001b[0m \u001b[1m7s\u001b[0m 386ms/step\n",
            "              precision    recall  f1-score   support\n",
            "\n",
            "           0       0.25      0.99      0.41       269\n",
            "           1       0.98      0.41      0.57       209\n",
            "           2       0.86      0.03      0.05       219\n",
            "           3       0.93      0.05      0.10       277\n",
            "           4       0.23      0.04      0.06       218\n",
            "\n",
            "    accuracy                           0.32      1192\n",
            "   macro avg       0.65      0.30      0.24      1192\n",
            "weighted avg       0.64      0.32      0.24      1192\n",
            "\n"
          ]
        }
      ]
    },
    {
      "cell_type": "code",
      "source": [
        "y_pred_test = lstm_model.predict(padded_test, batch_size=64, verbose=1)\n",
        "y_pred_bool_test = np.argmax(y_pred_test, axis=1)\n",
        "\n",
        "print(classification_report(y_test, y_pred_bool_test, zero_division=1))"
      ],
      "metadata": {
        "colab": {
          "base_uri": "https://localhost:8080/"
        },
        "id": "yB5GMmtjC-L8",
        "outputId": "874db515-b816-498f-a16c-b8e82eae4450"
      },
      "execution_count": null,
      "outputs": [
        {
          "output_type": "stream",
          "name": "stdout",
          "text": [
            "\u001b[1m5/5\u001b[0m \u001b[32m━━━━━━━━━━━━━━━━━━━━\u001b[0m\u001b[37m\u001b[0m \u001b[1m1s\u001b[0m 281ms/step\n",
            "              precision    recall  f1-score   support\n",
            "\n",
            "           0       0.24      0.97      0.38        67\n",
            "           1       0.94      0.33      0.49        52\n",
            "           2       0.00      0.00      0.00        55\n",
            "           3       1.00      0.03      0.06        69\n",
            "           4       0.00      0.00      0.00        55\n",
            "\n",
            "    accuracy                           0.28       298\n",
            "   macro avg       0.44      0.27      0.18       298\n",
            "weighted avg       0.45      0.28      0.18       298\n",
            "\n"
          ]
        }
      ]
    },
    {
      "cell_type": "markdown",
      "source": [
        "#### **Obeservation:**\n",
        "\n",
        "- training LSTM with 2 layers **18%** f1-score"
      ],
      "metadata": {
        "id": "UNGzlKbiDAY7"
      }
    },
    {
      "cell_type": "markdown",
      "source": [
        "### 10.2 LSTM with no dense hidden layers"
      ],
      "metadata": {
        "id": "xKRqW2h3DeH7"
      }
    },
    {
      "cell_type": "markdown",
      "source": [
        "### 10.2.1 Callbacks"
      ],
      "metadata": {
        "id": "84FaMt6_FTX_"
      }
    },
    {
      "cell_type": "code",
      "source": [
        "filepath = '/content/Case_Study_2/lstm_model2.keras'\n",
        "checkpoint = ModelCheckpoint(filepath=filepath, monitor='val_accuracy', verbose=1, mode='max', save_best_only=True)\n",
        "callback = [checkpoint]"
      ],
      "metadata": {
        "id": "41GUbZLDDdvT"
      },
      "execution_count": null,
      "outputs": []
    },
    {
      "cell_type": "markdown",
      "source": [
        "### 10.2.2 Model Training"
      ],
      "metadata": {
        "id": "oQKfbgyXFWcZ"
      }
    },
    {
      "cell_type": "code",
      "source": [
        "clear_session()\n",
        "input_layer = layers.Input(shape=(400,))\n",
        "embed_layer = layers.Embedding(vocab_size, embedding_dim, weights=[embedding_matrix],\n",
        "                              input_length=400, trainable=False)(input_layer)\n",
        "lstm1 = layers.LSTM(128)(embed_layer)\n",
        "drop1 = layers.Dropout(0.20)(lstm1)\n",
        "output_layer = layers.Dense(5, activation='sigmoid')(drop1)\n",
        "lstm_model = Model(input_layer, output_layer)\n",
        "lstm_model.summary()"
      ],
      "metadata": {
        "colab": {
          "base_uri": "https://localhost:8080/",
          "height": 353
        },
        "id": "AfvlLZ82D4qg",
        "outputId": "847a2112-55de-46ce-9180-c9fcedf27665"
      },
      "execution_count": null,
      "outputs": [
        {
          "output_type": "stream",
          "name": "stderr",
          "text": [
            "/usr/local/lib/python3.10/dist-packages/keras/src/layers/core/embedding.py:90: UserWarning: Argument `input_length` is deprecated. Just remove it.\n",
            "  warnings.warn(\n"
          ]
        },
        {
          "output_type": "display_data",
          "data": {
            "text/plain": [
              "\u001b[1mModel: \"functional\"\u001b[0m\n"
            ],
            "text/html": [
              "<pre style=\"white-space:pre;overflow-x:auto;line-height:normal;font-family:Menlo,'DejaVu Sans Mono',consolas,'Courier New',monospace\"><span style=\"font-weight: bold\">Model: \"functional\"</span>\n",
              "</pre>\n"
            ]
          },
          "metadata": {}
        },
        {
          "output_type": "display_data",
          "data": {
            "text/plain": [
              "┏━━━━━━━━━━━━━━━━━━━━━━━━━━━━━━━━━━━━━━┳━━━━━━━━━━━━━━━━━━━━━━━━━━━━━┳━━━━━━━━━━━━━━━━━┓\n",
              "┃\u001b[1m \u001b[0m\u001b[1mLayer (type)                        \u001b[0m\u001b[1m \u001b[0m┃\u001b[1m \u001b[0m\u001b[1mOutput Shape               \u001b[0m\u001b[1m \u001b[0m┃\u001b[1m \u001b[0m\u001b[1m        Param #\u001b[0m\u001b[1m \u001b[0m┃\n",
              "┡━━━━━━━━━━━━━━━━━━━━━━━━━━━━━━━━━━━━━━╇━━━━━━━━━━━━━━━━━━━━━━━━━━━━━╇━━━━━━━━━━━━━━━━━┩\n",
              "│ input_layer (\u001b[38;5;33mInputLayer\u001b[0m)             │ (\u001b[38;5;45mNone\u001b[0m, \u001b[38;5;34m400\u001b[0m)                 │               \u001b[38;5;34m0\u001b[0m │\n",
              "├──────────────────────────────────────┼─────────────────────────────┼─────────────────┤\n",
              "│ embedding (\u001b[38;5;33mEmbedding\u001b[0m)                │ (\u001b[38;5;45mNone\u001b[0m, \u001b[38;5;34m400\u001b[0m, \u001b[38;5;34m300\u001b[0m)            │       \u001b[38;5;34m6,459,900\u001b[0m │\n",
              "├──────────────────────────────────────┼─────────────────────────────┼─────────────────┤\n",
              "│ lstm (\u001b[38;5;33mLSTM\u001b[0m)                          │ (\u001b[38;5;45mNone\u001b[0m, \u001b[38;5;34m128\u001b[0m)                 │         \u001b[38;5;34m219,648\u001b[0m │\n",
              "├──────────────────────────────────────┼─────────────────────────────┼─────────────────┤\n",
              "│ dropout (\u001b[38;5;33mDropout\u001b[0m)                    │ (\u001b[38;5;45mNone\u001b[0m, \u001b[38;5;34m128\u001b[0m)                 │               \u001b[38;5;34m0\u001b[0m │\n",
              "├──────────────────────────────────────┼─────────────────────────────┼─────────────────┤\n",
              "│ dense (\u001b[38;5;33mDense\u001b[0m)                        │ (\u001b[38;5;45mNone\u001b[0m, \u001b[38;5;34m5\u001b[0m)                   │             \u001b[38;5;34m645\u001b[0m │\n",
              "└──────────────────────────────────────┴─────────────────────────────┴─────────────────┘\n"
            ],
            "text/html": [
              "<pre style=\"white-space:pre;overflow-x:auto;line-height:normal;font-family:Menlo,'DejaVu Sans Mono',consolas,'Courier New',monospace\">┏━━━━━━━━━━━━━━━━━━━━━━━━━━━━━━━━━━━━━━┳━━━━━━━━━━━━━━━━━━━━━━━━━━━━━┳━━━━━━━━━━━━━━━━━┓\n",
              "┃<span style=\"font-weight: bold\"> Layer (type)                         </span>┃<span style=\"font-weight: bold\"> Output Shape                </span>┃<span style=\"font-weight: bold\">         Param # </span>┃\n",
              "┡━━━━━━━━━━━━━━━━━━━━━━━━━━━━━━━━━━━━━━╇━━━━━━━━━━━━━━━━━━━━━━━━━━━━━╇━━━━━━━━━━━━━━━━━┩\n",
              "│ input_layer (<span style=\"color: #0087ff; text-decoration-color: #0087ff\">InputLayer</span>)             │ (<span style=\"color: #00d7ff; text-decoration-color: #00d7ff\">None</span>, <span style=\"color: #00af00; text-decoration-color: #00af00\">400</span>)                 │               <span style=\"color: #00af00; text-decoration-color: #00af00\">0</span> │\n",
              "├──────────────────────────────────────┼─────────────────────────────┼─────────────────┤\n",
              "│ embedding (<span style=\"color: #0087ff; text-decoration-color: #0087ff\">Embedding</span>)                │ (<span style=\"color: #00d7ff; text-decoration-color: #00d7ff\">None</span>, <span style=\"color: #00af00; text-decoration-color: #00af00\">400</span>, <span style=\"color: #00af00; text-decoration-color: #00af00\">300</span>)            │       <span style=\"color: #00af00; text-decoration-color: #00af00\">6,459,900</span> │\n",
              "├──────────────────────────────────────┼─────────────────────────────┼─────────────────┤\n",
              "│ lstm (<span style=\"color: #0087ff; text-decoration-color: #0087ff\">LSTM</span>)                          │ (<span style=\"color: #00d7ff; text-decoration-color: #00d7ff\">None</span>, <span style=\"color: #00af00; text-decoration-color: #00af00\">128</span>)                 │         <span style=\"color: #00af00; text-decoration-color: #00af00\">219,648</span> │\n",
              "├──────────────────────────────────────┼─────────────────────────────┼─────────────────┤\n",
              "│ dropout (<span style=\"color: #0087ff; text-decoration-color: #0087ff\">Dropout</span>)                    │ (<span style=\"color: #00d7ff; text-decoration-color: #00d7ff\">None</span>, <span style=\"color: #00af00; text-decoration-color: #00af00\">128</span>)                 │               <span style=\"color: #00af00; text-decoration-color: #00af00\">0</span> │\n",
              "├──────────────────────────────────────┼─────────────────────────────┼─────────────────┤\n",
              "│ dense (<span style=\"color: #0087ff; text-decoration-color: #0087ff\">Dense</span>)                        │ (<span style=\"color: #00d7ff; text-decoration-color: #00d7ff\">None</span>, <span style=\"color: #00af00; text-decoration-color: #00af00\">5</span>)                   │             <span style=\"color: #00af00; text-decoration-color: #00af00\">645</span> │\n",
              "└──────────────────────────────────────┴─────────────────────────────┴─────────────────┘\n",
              "</pre>\n"
            ]
          },
          "metadata": {}
        },
        {
          "output_type": "display_data",
          "data": {
            "text/plain": [
              "\u001b[1m Total params: \u001b[0m\u001b[38;5;34m6,680,193\u001b[0m (25.48 MB)\n"
            ],
            "text/html": [
              "<pre style=\"white-space:pre;overflow-x:auto;line-height:normal;font-family:Menlo,'DejaVu Sans Mono',consolas,'Courier New',monospace\"><span style=\"font-weight: bold\"> Total params: </span><span style=\"color: #00af00; text-decoration-color: #00af00\">6,680,193</span> (25.48 MB)\n",
              "</pre>\n"
            ]
          },
          "metadata": {}
        },
        {
          "output_type": "display_data",
          "data": {
            "text/plain": [
              "\u001b[1m Trainable params: \u001b[0m\u001b[38;5;34m220,293\u001b[0m (860.52 KB)\n"
            ],
            "text/html": [
              "<pre style=\"white-space:pre;overflow-x:auto;line-height:normal;font-family:Menlo,'DejaVu Sans Mono',consolas,'Courier New',monospace\"><span style=\"font-weight: bold\"> Trainable params: </span><span style=\"color: #00af00; text-decoration-color: #00af00\">220,293</span> (860.52 KB)\n",
              "</pre>\n"
            ]
          },
          "metadata": {}
        },
        {
          "output_type": "display_data",
          "data": {
            "text/plain": [
              "\u001b[1m Non-trainable params: \u001b[0m\u001b[38;5;34m6,459,900\u001b[0m (24.64 MB)\n"
            ],
            "text/html": [
              "<pre style=\"white-space:pre;overflow-x:auto;line-height:normal;font-family:Menlo,'DejaVu Sans Mono',consolas,'Courier New',monospace\"><span style=\"font-weight: bold\"> Non-trainable params: </span><span style=\"color: #00af00; text-decoration-color: #00af00\">6,459,900</span> (24.64 MB)\n",
              "</pre>\n"
            ]
          },
          "metadata": {}
        }
      ]
    },
    {
      "cell_type": "code",
      "source": [
        "# compiling model\n",
        "lstm_model.compile(loss='sparse_categorical_crossentropy', optimizer='adam', metrics=['accuracy'])"
      ],
      "metadata": {
        "id": "vWvUE5bZEHq_"
      },
      "execution_count": null,
      "outputs": []
    },
    {
      "cell_type": "code",
      "source": [
        "# training model\n",
        "history = lstm_model.fit(padded_train, y_train, batch_size=64, epochs=5,\n",
        "                        validation_data=(padded_test, y_test), callbacks=callback)"
      ],
      "metadata": {
        "colab": {
          "base_uri": "https://localhost:8080/"
        },
        "id": "MADEh-yhEMdC",
        "outputId": "4ec2f017-ea94-42bc-81bc-eff9a9881c38"
      },
      "execution_count": null,
      "outputs": [
        {
          "output_type": "stream",
          "name": "stdout",
          "text": [
            "Epoch 1/5\n",
            "\u001b[1m19/19\u001b[0m \u001b[32m━━━━━━━━━━━━━━━━━━━━\u001b[0m\u001b[37m\u001b[0m \u001b[1m0s\u001b[0m 902ms/step - accuracy: 0.2298 - loss: 1.5957\n",
            "Epoch 1: val_accuracy improved from -inf to 0.26174, saving model to /content/Case_Study_2/lstm_model2.keras\n",
            "\u001b[1m19/19\u001b[0m \u001b[32m━━━━━━━━━━━━━━━━━━━━\u001b[0m\u001b[37m\u001b[0m \u001b[1m25s\u001b[0m 1s/step - accuracy: 0.2305 - loss: 1.5953 - val_accuracy: 0.2617 - val_loss: 1.5704\n",
            "Epoch 2/5\n",
            "\u001b[1m19/19\u001b[0m \u001b[32m━━━━━━━━━━━━━━━━━━━━\u001b[0m\u001b[37m\u001b[0m \u001b[1m0s\u001b[0m 1s/step - accuracy: 0.3315 - loss: 1.4410\n",
            "Epoch 2: val_accuracy improved from 0.26174 to 0.43289, saving model to /content/Case_Study_2/lstm_model2.keras\n",
            "\u001b[1m19/19\u001b[0m \u001b[32m━━━━━━━━━━━━━━━━━━━━\u001b[0m\u001b[37m\u001b[0m \u001b[1m23s\u001b[0m 1s/step - accuracy: 0.3342 - loss: 1.4357 - val_accuracy: 0.4329 - val_loss: 1.2509\n",
            "Epoch 3/5\n",
            "\u001b[1m19/19\u001b[0m \u001b[32m━━━━━━━━━━━━━━━━━━━━\u001b[0m\u001b[37m\u001b[0m \u001b[1m0s\u001b[0m 1s/step - accuracy: 0.4125 - loss: 1.3958\n",
            "Epoch 3: val_accuracy did not improve from 0.43289\n",
            "\u001b[1m19/19\u001b[0m \u001b[32m━━━━━━━━━━━━━━━━━━━━\u001b[0m\u001b[37m\u001b[0m \u001b[1m40s\u001b[0m 1s/step - accuracy: 0.4108 - loss: 1.3971 - val_accuracy: 0.2517 - val_loss: 2.4543\n",
            "Epoch 4/5\n",
            "\u001b[1m19/19\u001b[0m \u001b[32m━━━━━━━━━━━━━━━━━━━━\u001b[0m\u001b[37m\u001b[0m \u001b[1m0s\u001b[0m 1s/step - accuracy: 0.2536 - loss: 1.7735\n",
            "Epoch 4: val_accuracy did not improve from 0.43289\n",
            "\u001b[1m19/19\u001b[0m \u001b[32m━━━━━━━━━━━━━━━━━━━━\u001b[0m\u001b[37m\u001b[0m \u001b[1m41s\u001b[0m 1s/step - accuracy: 0.2542 - loss: 1.7658 - val_accuracy: 0.2450 - val_loss: 1.5805\n",
            "Epoch 5/5\n",
            "\u001b[1m19/19\u001b[0m \u001b[32m━━━━━━━━━━━━━━━━━━━━\u001b[0m\u001b[37m\u001b[0m \u001b[1m0s\u001b[0m 1s/step - accuracy: 0.2719 - loss: 1.5388\n",
            "Epoch 5: val_accuracy did not improve from 0.43289\n",
            "\u001b[1m19/19\u001b[0m \u001b[32m━━━━━━━━━━━━━━━━━━━━\u001b[0m\u001b[37m\u001b[0m \u001b[1m42s\u001b[0m 1s/step - accuracy: 0.2717 - loss: 1.5386 - val_accuracy: 0.2416 - val_loss: 1.5772\n"
          ]
        }
      ]
    },
    {
      "cell_type": "markdown",
      "source": [
        "### 10.2.3 Evaluation"
      ],
      "metadata": {
        "id": "gMbQDhYHFaG-"
      }
    },
    {
      "cell_type": "code",
      "source": [
        "plot_history(history)"
      ],
      "metadata": {
        "id": "6PYWlIblFNeH"
      },
      "execution_count": null,
      "outputs": []
    },
    {
      "cell_type": "code",
      "source": [
        "y_pred_train = lstm_model.predict(padded_train, batch_size=64, verbose=1)\n",
        "y_pred_bool_train = np.argmax(y_pred_train, axis=1)\n",
        "\n",
        "print(classification_report(y_train, y_pred_bool_train, zero_division=1))"
      ],
      "metadata": {
        "colab": {
          "base_uri": "https://localhost:8080/"
        },
        "id": "-6QjHyhQFNZt",
        "outputId": "3f7c77dc-7b0b-4cad-d4b6-d0220888b547"
      },
      "execution_count": null,
      "outputs": [
        {
          "output_type": "stream",
          "name": "stdout",
          "text": [
            "\u001b[1m19/19\u001b[0m \u001b[32m━━━━━━━━━━━━━━━━━━━━\u001b[0m\u001b[37m\u001b[0m \u001b[1m8s\u001b[0m 424ms/step\n",
            "              precision    recall  f1-score   support\n",
            "\n",
            "           0       0.24      1.00      0.39       269\n",
            "           1       0.86      0.18      0.30       209\n",
            "           2       1.00      0.04      0.07       219\n",
            "           3       0.58      0.05      0.10       277\n",
            "           4       1.00      0.03      0.05       218\n",
            "\n",
            "    accuracy                           0.28      1192\n",
            "   macro avg       0.74      0.26      0.18      1192\n",
            "weighted avg       0.71      0.28      0.19      1192\n",
            "\n"
          ]
        }
      ]
    },
    {
      "cell_type": "code",
      "source": [
        "y_pred_test = lstm_model.predict(padded_test, batch_size=64, verbose=1)\n",
        "y_pred_bool_test = np.argmax(y_pred_test, axis=1)\n",
        "\n",
        "print(classification_report(y_test, y_pred_bool_test, zero_division=1))"
      ],
      "metadata": {
        "colab": {
          "base_uri": "https://localhost:8080/"
        },
        "id": "zdiVY2dQFNLd",
        "outputId": "1dc9b842-7d1d-4ef5-ae5d-a364df51daad"
      },
      "execution_count": null,
      "outputs": [
        {
          "output_type": "stream",
          "name": "stdout",
          "text": [
            "\u001b[1m5/5\u001b[0m \u001b[32m━━━━━━━━━━━━━━━━━━━━\u001b[0m\u001b[37m\u001b[0m \u001b[1m1s\u001b[0m 292ms/step\n",
            "              precision    recall  f1-score   support\n",
            "\n",
            "           0       0.22      0.94      0.36        67\n",
            "           1       0.70      0.13      0.23        52\n",
            "           2       1.00      0.00      0.00        55\n",
            "           3       0.40      0.03      0.05        69\n",
            "           4       1.00      0.00      0.00        55\n",
            "\n",
            "    accuracy                           0.24       298\n",
            "   macro avg       0.66      0.22      0.13       298\n",
            "weighted avg       0.63      0.24      0.13       298\n",
            "\n"
          ]
        }
      ]
    },
    {
      "cell_type": "markdown",
      "source": [
        "#### **Obeservation:**\n",
        "\n",
        "- training LSTM with 0 layers **13%** f1-score"
      ],
      "metadata": {
        "id": "v_FBf7ROHeWa"
      }
    },
    {
      "cell_type": "markdown",
      "source": [
        "## 11.Bidirectional LSTM"
      ],
      "metadata": {
        "id": "Z9ETKTDhETJm"
      }
    },
    {
      "cell_type": "markdown",
      "source": [
        "### 11.1 Callbacks"
      ],
      "metadata": {
        "id": "3m_ScNwvF6zu"
      }
    },
    {
      "cell_type": "code",
      "source": [
        "filepath = '/content/Case_Study_2/bi_lstm_model1.keras'\n",
        "checkpoint = ModelCheckpoint(filepath=filepath, monitor='val_accuracy', verbose=1, mode='max', save_best_only=True)\n",
        "callback = [checkpoint]"
      ],
      "metadata": {
        "id": "cvPyTi7YEOeX"
      },
      "execution_count": null,
      "outputs": []
    },
    {
      "cell_type": "markdown",
      "source": [
        "### 11.2 Model Training"
      ],
      "metadata": {
        "id": "Mp1wk9bwF_vM"
      }
    },
    {
      "cell_type": "code",
      "source": [
        "clear_session()\n",
        "input_layer = layers.Input(shape=(400,))\n",
        "embed_layer = layers.Embedding(vocab_size, embedding_dim, weights=[embedding_matrix],\n",
        "                              input_length=400, trainable=False)(input_layer)\n",
        "lstm1 = layers.Bidirectional(layers.LSTM(128))(embed_layer)\n",
        "drop1 = layers.Dropout(0.20)(lstm1)\n",
        "output_layer = layers.Dense(5, activation='sigmoid')(drop1)\n",
        "bilstm_model = Model(input_layer, output_layer)\n",
        "bilstm_model.summary()"
      ],
      "metadata": {
        "colab": {
          "base_uri": "https://localhost:8080/",
          "height": 353
        },
        "id": "h5x0x4qoEe-v",
        "outputId": "c94bd9b6-28be-40c3-f2a1-0395b61e634d"
      },
      "execution_count": null,
      "outputs": [
        {
          "output_type": "stream",
          "name": "stderr",
          "text": [
            "/usr/local/lib/python3.10/dist-packages/keras/src/layers/core/embedding.py:90: UserWarning: Argument `input_length` is deprecated. Just remove it.\n",
            "  warnings.warn(\n"
          ]
        },
        {
          "output_type": "display_data",
          "data": {
            "text/plain": [
              "\u001b[1mModel: \"functional\"\u001b[0m\n"
            ],
            "text/html": [
              "<pre style=\"white-space:pre;overflow-x:auto;line-height:normal;font-family:Menlo,'DejaVu Sans Mono',consolas,'Courier New',monospace\"><span style=\"font-weight: bold\">Model: \"functional\"</span>\n",
              "</pre>\n"
            ]
          },
          "metadata": {}
        },
        {
          "output_type": "display_data",
          "data": {
            "text/plain": [
              "┏━━━━━━━━━━━━━━━━━━━━━━━━━━━━━━━━━━━━━━┳━━━━━━━━━━━━━━━━━━━━━━━━━━━━━┳━━━━━━━━━━━━━━━━━┓\n",
              "┃\u001b[1m \u001b[0m\u001b[1mLayer (type)                        \u001b[0m\u001b[1m \u001b[0m┃\u001b[1m \u001b[0m\u001b[1mOutput Shape               \u001b[0m\u001b[1m \u001b[0m┃\u001b[1m \u001b[0m\u001b[1m        Param #\u001b[0m\u001b[1m \u001b[0m┃\n",
              "┡━━━━━━━━━━━━━━━━━━━━━━━━━━━━━━━━━━━━━━╇━━━━━━━━━━━━━━━━━━━━━━━━━━━━━╇━━━━━━━━━━━━━━━━━┩\n",
              "│ input_layer (\u001b[38;5;33mInputLayer\u001b[0m)             │ (\u001b[38;5;45mNone\u001b[0m, \u001b[38;5;34m400\u001b[0m)                 │               \u001b[38;5;34m0\u001b[0m │\n",
              "├──────────────────────────────────────┼─────────────────────────────┼─────────────────┤\n",
              "│ embedding (\u001b[38;5;33mEmbedding\u001b[0m)                │ (\u001b[38;5;45mNone\u001b[0m, \u001b[38;5;34m400\u001b[0m, \u001b[38;5;34m300\u001b[0m)            │       \u001b[38;5;34m6,459,900\u001b[0m │\n",
              "├──────────────────────────────────────┼─────────────────────────────┼─────────────────┤\n",
              "│ bidirectional (\u001b[38;5;33mBidirectional\u001b[0m)        │ (\u001b[38;5;45mNone\u001b[0m, \u001b[38;5;34m256\u001b[0m)                 │         \u001b[38;5;34m439,296\u001b[0m │\n",
              "├──────────────────────────────────────┼─────────────────────────────┼─────────────────┤\n",
              "│ dropout (\u001b[38;5;33mDropout\u001b[0m)                    │ (\u001b[38;5;45mNone\u001b[0m, \u001b[38;5;34m256\u001b[0m)                 │               \u001b[38;5;34m0\u001b[0m │\n",
              "├──────────────────────────────────────┼─────────────────────────────┼─────────────────┤\n",
              "│ dense (\u001b[38;5;33mDense\u001b[0m)                        │ (\u001b[38;5;45mNone\u001b[0m, \u001b[38;5;34m5\u001b[0m)                   │           \u001b[38;5;34m1,285\u001b[0m │\n",
              "└──────────────────────────────────────┴─────────────────────────────┴─────────────────┘\n"
            ],
            "text/html": [
              "<pre style=\"white-space:pre;overflow-x:auto;line-height:normal;font-family:Menlo,'DejaVu Sans Mono',consolas,'Courier New',monospace\">┏━━━━━━━━━━━━━━━━━━━━━━━━━━━━━━━━━━━━━━┳━━━━━━━━━━━━━━━━━━━━━━━━━━━━━┳━━━━━━━━━━━━━━━━━┓\n",
              "┃<span style=\"font-weight: bold\"> Layer (type)                         </span>┃<span style=\"font-weight: bold\"> Output Shape                </span>┃<span style=\"font-weight: bold\">         Param # </span>┃\n",
              "┡━━━━━━━━━━━━━━━━━━━━━━━━━━━━━━━━━━━━━━╇━━━━━━━━━━━━━━━━━━━━━━━━━━━━━╇━━━━━━━━━━━━━━━━━┩\n",
              "│ input_layer (<span style=\"color: #0087ff; text-decoration-color: #0087ff\">InputLayer</span>)             │ (<span style=\"color: #00d7ff; text-decoration-color: #00d7ff\">None</span>, <span style=\"color: #00af00; text-decoration-color: #00af00\">400</span>)                 │               <span style=\"color: #00af00; text-decoration-color: #00af00\">0</span> │\n",
              "├──────────────────────────────────────┼─────────────────────────────┼─────────────────┤\n",
              "│ embedding (<span style=\"color: #0087ff; text-decoration-color: #0087ff\">Embedding</span>)                │ (<span style=\"color: #00d7ff; text-decoration-color: #00d7ff\">None</span>, <span style=\"color: #00af00; text-decoration-color: #00af00\">400</span>, <span style=\"color: #00af00; text-decoration-color: #00af00\">300</span>)            │       <span style=\"color: #00af00; text-decoration-color: #00af00\">6,459,900</span> │\n",
              "├──────────────────────────────────────┼─────────────────────────────┼─────────────────┤\n",
              "│ bidirectional (<span style=\"color: #0087ff; text-decoration-color: #0087ff\">Bidirectional</span>)        │ (<span style=\"color: #00d7ff; text-decoration-color: #00d7ff\">None</span>, <span style=\"color: #00af00; text-decoration-color: #00af00\">256</span>)                 │         <span style=\"color: #00af00; text-decoration-color: #00af00\">439,296</span> │\n",
              "├──────────────────────────────────────┼─────────────────────────────┼─────────────────┤\n",
              "│ dropout (<span style=\"color: #0087ff; text-decoration-color: #0087ff\">Dropout</span>)                    │ (<span style=\"color: #00d7ff; text-decoration-color: #00d7ff\">None</span>, <span style=\"color: #00af00; text-decoration-color: #00af00\">256</span>)                 │               <span style=\"color: #00af00; text-decoration-color: #00af00\">0</span> │\n",
              "├──────────────────────────────────────┼─────────────────────────────┼─────────────────┤\n",
              "│ dense (<span style=\"color: #0087ff; text-decoration-color: #0087ff\">Dense</span>)                        │ (<span style=\"color: #00d7ff; text-decoration-color: #00d7ff\">None</span>, <span style=\"color: #00af00; text-decoration-color: #00af00\">5</span>)                   │           <span style=\"color: #00af00; text-decoration-color: #00af00\">1,285</span> │\n",
              "└──────────────────────────────────────┴─────────────────────────────┴─────────────────┘\n",
              "</pre>\n"
            ]
          },
          "metadata": {}
        },
        {
          "output_type": "display_data",
          "data": {
            "text/plain": [
              "\u001b[1m Total params: \u001b[0m\u001b[38;5;34m6,900,481\u001b[0m (26.32 MB)\n"
            ],
            "text/html": [
              "<pre style=\"white-space:pre;overflow-x:auto;line-height:normal;font-family:Menlo,'DejaVu Sans Mono',consolas,'Courier New',monospace\"><span style=\"font-weight: bold\"> Total params: </span><span style=\"color: #00af00; text-decoration-color: #00af00\">6,900,481</span> (26.32 MB)\n",
              "</pre>\n"
            ]
          },
          "metadata": {}
        },
        {
          "output_type": "display_data",
          "data": {
            "text/plain": [
              "\u001b[1m Trainable params: \u001b[0m\u001b[38;5;34m440,581\u001b[0m (1.68 MB)\n"
            ],
            "text/html": [
              "<pre style=\"white-space:pre;overflow-x:auto;line-height:normal;font-family:Menlo,'DejaVu Sans Mono',consolas,'Courier New',monospace\"><span style=\"font-weight: bold\"> Trainable params: </span><span style=\"color: #00af00; text-decoration-color: #00af00\">440,581</span> (1.68 MB)\n",
              "</pre>\n"
            ]
          },
          "metadata": {}
        },
        {
          "output_type": "display_data",
          "data": {
            "text/plain": [
              "\u001b[1m Non-trainable params: \u001b[0m\u001b[38;5;34m6,459,900\u001b[0m (24.64 MB)\n"
            ],
            "text/html": [
              "<pre style=\"white-space:pre;overflow-x:auto;line-height:normal;font-family:Menlo,'DejaVu Sans Mono',consolas,'Courier New',monospace\"><span style=\"font-weight: bold\"> Non-trainable params: </span><span style=\"color: #00af00; text-decoration-color: #00af00\">6,459,900</span> (24.64 MB)\n",
              "</pre>\n"
            ]
          },
          "metadata": {}
        }
      ]
    },
    {
      "cell_type": "code",
      "source": [
        "# compiling model\n",
        "bilstm_model.compile(loss='sparse_categorical_crossentropy', optimizer='adam', metrics=['accuracy'])"
      ],
      "metadata": {
        "id": "qr5GCdEeEqfu"
      },
      "execution_count": null,
      "outputs": []
    },
    {
      "cell_type": "code",
      "source": [
        "# training model\n",
        "history = bilstm_model.fit(padded_train, y_train, batch_size=64, epochs=10,\n",
        "                        validation_data=(padded_test, y_test), callbacks=callback)"
      ],
      "metadata": {
        "colab": {
          "base_uri": "https://localhost:8080/"
        },
        "id": "3T1byqwFE0d4",
        "outputId": "52bb0aec-1656-4bae-8fda-bb0bc4a11d6b"
      },
      "execution_count": null,
      "outputs": [
        {
          "output_type": "stream",
          "name": "stdout",
          "text": [
            "Epoch 1/10\n",
            "\u001b[1m19/19\u001b[0m \u001b[32m━━━━━━━━━━━━━━━━━━━━\u001b[0m\u001b[37m\u001b[0m \u001b[1m0s\u001b[0m 2s/step - accuracy: 0.5373 - loss: 1.3132\n",
            "Epoch 1: val_accuracy improved from -inf to 0.89933, saving model to /content/Case_Study_2/bi_lstm_model1.keras\n",
            "\u001b[1m19/19\u001b[0m \u001b[32m━━━━━━━━━━━━━━━━━━━━\u001b[0m\u001b[37m\u001b[0m \u001b[1m58s\u001b[0m 3s/step - accuracy: 0.5456 - loss: 1.2971 - val_accuracy: 0.8993 - val_loss: 0.3789\n",
            "Epoch 2/10\n",
            "\u001b[1m19/19\u001b[0m \u001b[32m━━━━━━━━━━━━━━━━━━━━\u001b[0m\u001b[37m\u001b[0m \u001b[1m0s\u001b[0m 2s/step - accuracy: 0.9105 - loss: 0.3153\n",
            "Epoch 2: val_accuracy improved from 0.89933 to 0.91946, saving model to /content/Case_Study_2/bi_lstm_model1.keras\n",
            "\u001b[1m19/19\u001b[0m \u001b[32m━━━━━━━━━━━━━━━━━━━━\u001b[0m\u001b[37m\u001b[0m \u001b[1m69s\u001b[0m 2s/step - accuracy: 0.9102 - loss: 0.3154 - val_accuracy: 0.9195 - val_loss: 0.2677\n",
            "Epoch 3/10\n",
            "\u001b[1m19/19\u001b[0m \u001b[32m━━━━━━━━━━━━━━━━━━━━\u001b[0m\u001b[37m\u001b[0m \u001b[1m0s\u001b[0m 2s/step - accuracy: 0.9421 - loss: 0.1864\n",
            "Epoch 3: val_accuracy improved from 0.91946 to 0.94295, saving model to /content/Case_Study_2/bi_lstm_model1.keras\n",
            "\u001b[1m19/19\u001b[0m \u001b[32m━━━━━━━━━━━━━━━━━━━━\u001b[0m\u001b[37m\u001b[0m \u001b[1m49s\u001b[0m 2s/step - accuracy: 0.9426 - loss: 0.1856 - val_accuracy: 0.9430 - val_loss: 0.1932\n",
            "Epoch 4/10\n",
            "\u001b[1m19/19\u001b[0m \u001b[32m━━━━━━━━━━━━━━━━━━━━\u001b[0m\u001b[37m\u001b[0m \u001b[1m0s\u001b[0m 2s/step - accuracy: 0.9388 - loss: 0.2103\n",
            "Epoch 4: val_accuracy did not improve from 0.94295\n",
            "\u001b[1m19/19\u001b[0m \u001b[32m━━━━━━━━━━━━━━━━━━━━\u001b[0m\u001b[37m\u001b[0m \u001b[1m86s\u001b[0m 3s/step - accuracy: 0.9386 - loss: 0.2106 - val_accuracy: 0.9228 - val_loss: 0.2077\n",
            "Epoch 5/10\n",
            "\u001b[1m19/19\u001b[0m \u001b[32m━━━━━━━━━━━━━━━━━━━━\u001b[0m\u001b[37m\u001b[0m \u001b[1m0s\u001b[0m 3s/step - accuracy: 0.9726 - loss: 0.1110\n",
            "Epoch 5: val_accuracy did not improve from 0.94295\n",
            "\u001b[1m19/19\u001b[0m \u001b[32m━━━━━━━━━━━━━━━━━━━━\u001b[0m\u001b[37m\u001b[0m \u001b[1m59s\u001b[0m 3s/step - accuracy: 0.9726 - loss: 0.1110 - val_accuracy: 0.9396 - val_loss: 0.1822\n",
            "Epoch 6/10\n",
            "\u001b[1m19/19\u001b[0m \u001b[32m━━━━━━━━━━━━━━━━━━━━\u001b[0m\u001b[37m\u001b[0m \u001b[1m0s\u001b[0m 2s/step - accuracy: 0.9802 - loss: 0.0721\n",
            "Epoch 6: val_accuracy improved from 0.94295 to 0.95638, saving model to /content/Case_Study_2/bi_lstm_model1.keras\n",
            "\u001b[1m19/19\u001b[0m \u001b[32m━━━━━━━━━━━━━━━━━━━━\u001b[0m\u001b[37m\u001b[0m \u001b[1m36s\u001b[0m 2s/step - accuracy: 0.9803 - loss: 0.0718 - val_accuracy: 0.9564 - val_loss: 0.2010\n",
            "Epoch 7/10\n",
            "\u001b[1m19/19\u001b[0m \u001b[32m━━━━━━━━━━━━━━━━━━━━\u001b[0m\u001b[37m\u001b[0m \u001b[1m0s\u001b[0m 2s/step - accuracy: 0.9879 - loss: 0.0514\n",
            "Epoch 7: val_accuracy improved from 0.95638 to 0.96980, saving model to /content/Case_Study_2/bi_lstm_model1.keras\n",
            "\u001b[1m19/19\u001b[0m \u001b[32m━━━━━━━━━━━━━━━━━━━━\u001b[0m\u001b[37m\u001b[0m \u001b[1m41s\u001b[0m 2s/step - accuracy: 0.9877 - loss: 0.0515 - val_accuracy: 0.9698 - val_loss: 0.1436\n",
            "Epoch 8/10\n",
            "\u001b[1m19/19\u001b[0m \u001b[32m━━━━━━━━━━━━━━━━━━━━\u001b[0m\u001b[37m\u001b[0m \u001b[1m0s\u001b[0m 2s/step - accuracy: 0.9848 - loss: 0.0506\n",
            "Epoch 8: val_accuracy did not improve from 0.96980\n",
            "\u001b[1m19/19\u001b[0m \u001b[32m━━━━━━━━━━━━━━━━━━━━\u001b[0m\u001b[37m\u001b[0m \u001b[1m41s\u001b[0m 2s/step - accuracy: 0.9845 - loss: 0.0515 - val_accuracy: 0.9128 - val_loss: 0.3375\n",
            "Epoch 9/10\n",
            "\u001b[1m19/19\u001b[0m \u001b[32m━━━━━━━━━━━━━━━━━━━━\u001b[0m\u001b[37m\u001b[0m \u001b[1m0s\u001b[0m 2s/step - accuracy: 0.9793 - loss: 0.0954\n",
            "Epoch 9: val_accuracy did not improve from 0.96980\n",
            "\u001b[1m19/19\u001b[0m \u001b[32m━━━━━━━━━━━━━━━━━━━━\u001b[0m\u001b[37m\u001b[0m \u001b[1m36s\u001b[0m 2s/step - accuracy: 0.9797 - loss: 0.0939 - val_accuracy: 0.9497 - val_loss: 0.2183\n",
            "Epoch 10/10\n",
            "\u001b[1m19/19\u001b[0m \u001b[32m━━━━━━━━━━━━━━━━━━━━\u001b[0m\u001b[37m\u001b[0m \u001b[1m0s\u001b[0m 2s/step - accuracy: 0.9917 - loss: 0.0336\n",
            "Epoch 10: val_accuracy did not improve from 0.96980\n",
            "\u001b[1m19/19\u001b[0m \u001b[32m━━━━━━━━━━━━━━━━━━━━\u001b[0m\u001b[37m\u001b[0m \u001b[1m41s\u001b[0m 2s/step - accuracy: 0.9918 - loss: 0.0335 - val_accuracy: 0.9497 - val_loss: 0.1828\n"
          ]
        }
      ]
    },
    {
      "cell_type": "markdown",
      "source": [
        "### 11.3 Evaluation"
      ],
      "metadata": {
        "id": "0IYlXaPnGEFc"
      }
    },
    {
      "cell_type": "code",
      "source": [
        "plot_history(history)"
      ],
      "metadata": {
        "colab": {
          "base_uri": "https://localhost:8080/",
          "height": 469
        },
        "id": "pF6RHX2NFFoT",
        "outputId": "39f6ff95-97f4-4ae2-ab82-bf14124245ee"
      },
      "execution_count": null,
      "outputs": [
        {
          "output_type": "display_data",
          "data": {
            "text/plain": [
              "<Figure size 1200x500 with 2 Axes>"
            ],
            "image/png": "[encoded data removed]"
          },
          "metadata": {}
        }
      ]
    },
    {
      "cell_type": "code",
      "source": [
        "y_pred_train = bilstm_model.predict(padded_train, batch_size=64, verbose=1)\n",
        "y_pred_bool_train = np.argmax(y_pred_train, axis=1)\n",
        "\n",
        "print(classification_report(y_train, y_pred_bool_train, zero_division=1))"
      ],
      "metadata": {
        "colab": {
          "base_uri": "https://localhost:8080/"
        },
        "id": "m1CjV6jQGIq2",
        "outputId": "93e65d26-e17d-4bf4-edae-842dba80b705"
      },
      "execution_count": null,
      "outputs": [
        {
          "output_type": "stream",
          "name": "stdout",
          "text": [
            "\u001b[1m19/19\u001b[0m \u001b[32m━━━━━━━━━━━━━━━━━━━━\u001b[0m\u001b[37m\u001b[0m \u001b[1m16s\u001b[0m 773ms/step\n",
            "              precision    recall  f1-score   support\n",
            "\n",
            "           0       1.00      1.00      1.00       269\n",
            "           1       1.00      0.99      1.00       209\n",
            "           2       0.99      1.00      1.00       219\n",
            "           3       1.00      1.00      1.00       277\n",
            "           4       1.00      1.00      1.00       218\n",
            "\n",
            "    accuracy                           1.00      1192\n",
            "   macro avg       1.00      1.00      1.00      1192\n",
            "weighted avg       1.00      1.00      1.00      1192\n",
            "\n"
          ]
        }
      ]
    },
    {
      "cell_type": "code",
      "source": [
        "y_pred_test = bilstm_model.predict(padded_test, batch_size=64, verbose=1)\n",
        "y_pred_bool_test = np.argmax(y_pred_test, axis=1)\n",
        "\n",
        "print(classification_report(y_test, y_pred_bool_test, zero_division=1))"
      ],
      "metadata": {
        "colab": {
          "base_uri": "https://localhost:8080/"
        },
        "id": "iGWBvBzBGIoP",
        "outputId": "477ac7de-8a13-418b-d55f-9c0dbbde03f2"
      },
      "execution_count": null,
      "outputs": [
        {
          "output_type": "stream",
          "name": "stdout",
          "text": [
            "\u001b[1m5/5\u001b[0m \u001b[32m━━━━━━━━━━━━━━━━━━━━\u001b[0m\u001b[37m\u001b[0m \u001b[1m5s\u001b[0m 923ms/step\n",
            "              precision    recall  f1-score   support\n",
            "\n",
            "           0       0.93      0.96      0.94        67\n",
            "           1       0.96      0.87      0.91        52\n",
            "           2       0.96      0.93      0.94        55\n",
            "           3       0.96      1.00      0.98        69\n",
            "           4       0.95      0.98      0.96        55\n",
            "\n",
            "    accuracy                           0.95       298\n",
            "   macro avg       0.95      0.95      0.95       298\n",
            "weighted avg       0.95      0.95      0.95       298\n",
            "\n"
          ]
        }
      ]
    },
    {
      "cell_type": "markdown",
      "source": [
        "#### **Obeservation:**\n",
        "\n",
        "- training BiLSTM with 1 layers **95%** f1-score"
      ],
      "metadata": {
        "id": "Dv2XpWT4HicM"
      }
    },
    {
      "cell_type": "markdown",
      "source": [
        "## 12.Best Model Evaluation"
      ],
      "metadata": {
        "id": "jYbhbSWQH7je"
      }
    },
    {
      "cell_type": "code",
      "source": [
        "model = load_model('/content/fasttext_model2/fasttext_model2.keras')"
      ],
      "metadata": {
        "id": "G6g4znltHMys"
      },
      "execution_count": 33,
      "outputs": []
    },
    {
      "cell_type": "code",
      "source": [
        "# prediction on train dataset\n",
        "y_pred_train = model.predict(padded_train)\n",
        "\n",
        "# prediction on test dataset\n",
        "y_pred_test = model.predict(padded_test)"
      ],
      "metadata": {
        "colab": {
          "base_uri": "https://localhost:8080/"
        },
        "id": "a7XcNI35Ipba",
        "outputId": "8154e414-bf00-48cd-f0d5-b27b35fc3fd5"
      },
      "execution_count": 39,
      "outputs": [
        {
          "output_type": "stream",
          "name": "stdout",
          "text": [
            "\u001b[1m38/38\u001b[0m \u001b[32m━━━━━━━━━━━━━━━━━━━━\u001b[0m\u001b[37m\u001b[0m \u001b[1m0s\u001b[0m 12ms/step\n",
            "\u001b[1m10/10\u001b[0m \u001b[32m━━━━━━━━━━━━━━━━━━━━\u001b[0m\u001b[37m\u001b[0m \u001b[1m0s\u001b[0m 11ms/step\n"
          ]
        }
      ]
    },
    {
      "cell_type": "code",
      "source": [
        "y_pred_bool_train = np.argmax(y_pred_train, axis=1)\n",
        "y_pred_bool_test = np.argmax(y_pred_test, axis=1)"
      ],
      "metadata": {
        "id": "smVHtw6tsuBf"
      },
      "execution_count": 43,
      "outputs": []
    },
    {
      "cell_type": "code",
      "source": [
        "# Train Data Evaluation\n",
        "print(\"Train Data Evaluation\")\n",
        "print()\n",
        "print(classification_report(y_train, y_pred_bool_train))\n",
        "\n",
        "# Train Data Evaluation\n",
        "print()\n",
        "print(\"Test Data Evaluation\")\n",
        "print()\n",
        "print(classification_report(y_test,y_pred_bool_test))"
      ],
      "metadata": {
        "colab": {
          "base_uri": "https://localhost:8080/"
        },
        "id": "bnIFpynWJF6h",
        "outputId": "e1920140-7ef9-4c97-e059-997cf8ae3850"
      },
      "execution_count": 45,
      "outputs": [
        {
          "output_type": "stream",
          "name": "stdout",
          "text": [
            "Train Data Evaluation\n",
            "\n",
            "              precision    recall  f1-score   support\n",
            "\n",
            "           0       1.00      1.00      1.00       269\n",
            "           1       1.00      1.00      1.00       209\n",
            "           2       1.00      1.00      1.00       219\n",
            "           3       1.00      1.00      1.00       277\n",
            "           4       1.00      1.00      1.00       218\n",
            "\n",
            "    accuracy                           1.00      1192\n",
            "   macro avg       1.00      1.00      1.00      1192\n",
            "weighted avg       1.00      1.00      1.00      1192\n",
            "\n",
            "\n",
            "Test Data Evaluation\n",
            "\n",
            "              precision    recall  f1-score   support\n",
            "\n",
            "           0       0.93      0.96      0.94        67\n",
            "           1       0.96      0.96      0.96        52\n",
            "           2       0.94      0.91      0.93        55\n",
            "           3       0.97      0.99      0.98        69\n",
            "           4       0.98      0.96      0.97        55\n",
            "\n",
            "    accuracy                           0.96       298\n",
            "   macro avg       0.96      0.95      0.96       298\n",
            "weighted avg       0.96      0.96      0.96       298\n",
            "\n"
          ]
        }
      ]
    },
    {
      "cell_type": "code",
      "source": [
        "# Confusion Matrix\n",
        "from sklearn.metrics import confusion_matrix\n",
        "mat1 = confusion_matrix(y_train, y_pred_bool_train)\n",
        "df_tr = pd.DataFrame(mat1, columns=np.unique(y_train), index=np.unique(y_train))\n",
        "df_tr.index.name = 'Actual'\n",
        "df_tr.columns.name = 'Predicted'\n",
        "mat2 = confusion_matrix(y_test, y_pred_bool_test)\n",
        "df_te = pd.DataFrame(mat2, columns=np.unique(y_train), index=np.unique(y_train))\n",
        "df_te.index.name = 'Actual'\n",
        "df_te.columns.name = 'Predicted'\n",
        "\n",
        "plt.figure(figsize = (5, 5))\n",
        "plt.subplot(1, 2, 1)\n",
        "sns.heatmap(df_tr, annot=True, cbar=False)\n",
        "plt.title(\"Train Data\")\n",
        "plt.subplot(1, 2, 2)\n",
        "sns.heatmap(df_te, annot=True, cbar=False)\n",
        "plt.title(\"Test Data\")\n",
        "plt.subplots_adjust(right=2.5)\n",
        "plt.show()"
      ],
      "metadata": {
        "id": "5gZp1YktJLDK",
        "colab": {
          "base_uri": "https://localhost:8080/",
          "height": 413
        },
        "outputId": "b653656e-5dee-4d7a-a442-db4ead7899eb"
      },
      "execution_count": 46,
      "outputs": [
        {
          "output_type": "display_data",
          "data": {
            "text/plain": [
              "<Figure size 500x500 with 2 Axes>"
            ],
            "image/png": "[encoded data removed]"
          },
          "metadata": {}
        }
      ]
    },
    {
      "cell_type": "markdown",
      "source": [
        "## 13. Results and Conclusions"
      ],
      "metadata": {
        "id": "elDIR9CZIpyL"
      }
    },
    {
      "cell_type": "code",
      "source": [
        "!pip install -q prettytable"
      ],
      "metadata": {
        "id": "x_RibslJpsuM"
      },
      "execution_count": 12,
      "outputs": []
    },
    {
      "cell_type": "code",
      "source": [
        "from prettytable import PrettyTable"
      ],
      "metadata": {
        "id": "BEhiFbqSIw7m"
      },
      "execution_count": 13,
      "outputs": []
    },
    {
      "cell_type": "code",
      "source": [
        "myTable = PrettyTable([\"Model\", \"Embedding\", \"Validation Accuracy\"])\n",
        "myTable.add_row([\"Baseline Logistic Regression\", \"GloVe\", 0.97])\n",
        "myTable.add_row([\"MLP\", \"No Embeddings\", 0.92])\n",
        "myTable.add_row([\"MLP\", \"Glove\", 0.14])\n",
        "myTable.add_row([\"MLP\", \"Glove(Trained)\", 0.95])\n",
        "myTable.add_row([\"MLP\", \"Fasttext\", 0.92])\n",
        "myTable.add_row([\"MLP\", \"Fasttext(Trained)\", 0.96])\n",
        "# myTable.add_row([\"CNN\", \"Glove\", 0.7161])\n",
        "myTable.add_row([\"LSTM 2 Dense layers\", \"Fasttext\", 0.18])\n",
        "myTable.add_row([\"LSTM\", \"Fasttext\", 0.13])\n",
        "myTable.add_row([\"Bidirectional LSTM\", \"Glove\", 0.95])\n",
        "print(myTable)"
      ],
      "metadata": {
        "colab": {
          "base_uri": "https://localhost:8080/"
        },
        "id": "21j8IQvFIrDU",
        "outputId": "8c6926ba-6574-4b5c-a638-47ebcde7b983"
      },
      "execution_count": 21,
      "outputs": [
        {
          "output_type": "stream",
          "name": "stdout",
          "text": [
            "+------------------------------+-------------------+---------------------+\n",
            "|            Model             |     Embedding     | Validation Accuracy |\n",
            "+------------------------------+-------------------+---------------------+\n",
            "| Baseline Logistic Regression |       GloVe       |         0.97        |\n",
            "|             MLP              |   No Embeddings   |         0.92        |\n",
            "|             MLP              |       Glove       |         0.14        |\n",
            "|             MLP              |   Glove(Trained)  |         0.95        |\n",
            "|             MLP              |      Fasttext     |         0.92        |\n",
            "|             MLP              | Fasttext(Trained) |         0.96        |\n",
            "|     LSTM 2 Dense layers      |      Fasttext     |         0.18        |\n",
            "|             LSTM             |      Fasttext     |         0.13        |\n",
            "|      Bidirectional LSTM      |       Glove       |         0.95        |\n",
            "+------------------------------+-------------------+---------------------+\n"
          ]
        }
      ]
    },
    {
      "cell_type": "code",
      "source": [],
      "metadata": {
        "id": "LSAtzv-4IuyM"
      },
      "execution_count": null,
      "outputs": []
    }
  ]
}