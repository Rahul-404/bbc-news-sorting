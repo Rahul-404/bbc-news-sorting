{
 "cells": [
  {
   "cell_type": "markdown",
   "metadata": {},
   "source": [
    "## Project Title: BBC NEWS SORTING"
   ]
  },
  {
   "cell_type": "markdown",
   "metadata": {},
   "source": [
    "### STEP 1: Creating Virtual Environment"
   ]
  },
  {
   "cell_type": "markdown",
   "metadata": {},
   "source": [
    "`conda create -p venv python==3.9 -y`"
   ]
  },
  {
   "cell_type": "markdown",
   "metadata": {},
   "source": [
    "Created python environment with version 3.9"
   ]
  },
  {
   "cell_type": "markdown",
   "metadata": {},
   "source": [
    "Created `requirement.txt`"
   ]
  },
  {
   "cell_type": "markdown",
   "metadata": {},
   "source": [
    "- numpy\n",
    "- pandas\n",
    "- imblearn\n",
    "- seaborn\n",
    "- lightgbm\n",
    "- xgboost\n",
    "- nltk\n",
    "- wordcloud\n",
    "- plotly\n"
   ]
  },
  {
   "cell_type": "markdown",
   "metadata": {},
   "source": [
    "STEP 2: Creating project structure, by executing `template.py` file. project got a new directory"
   ]
  },
  {
   "cell_type": "markdown",
   "metadata": {},
   "source": [
    "```\n",
    "BBC-NEWS-SORTING\n",
    "├── notebooks\n",
    "|   ├── data\n",
    "|   |   ├── BBC News Sample Solution.csv\n",
    "|   |   ├── BBC News Train.csv\n",
    "|   |   └── BBC News Test.csv\n",
    "|   ├── Project_Detailed_Report.ipynb\n",
    "|   └── NLP: BBC_News_Data_preperation_and_Cleaning.ipynb\n",
    "|\n",
    "├── src\n",
    "|   └── bbc-news-sorting\n",
    "│       ├── __init__.py\n",
    "│       ├── components\n",
    "│       │   ├── __init__.py\n",
    "│       │   ├── data_ingestion.py\n",
    "│       │   ├── data_transformation.py\n",
    "│       │   ├── model_trainer.py\n",
    "│       │   └── model_monitoring.py\n",
    "│       ├── pipeline\n",
    "│       │   ├── __init__.py\n",
    "│       │   ├── training_pipeline.py\n",
    "│       │   └── prediction_pipeline.py\n",
    "│       ├── exception.py\n",
    "│       ├── logger.py\n",
    "│       └── utils.py\n",
    "├── app.py\n",
    "├── Dockerfile\n",
    "├── requirements.txt\n",
    "├── setup.py\n",
    "└── artifacts\n",
    "```"
   ]
  },
  {
   "cell_type": "markdown",
   "metadata": {},
   "source": []
  }
 ],
 "metadata": {
  "language_info": {
   "name": "python"
  }
 },
 "nbformat": 4,
 "nbformat_minor": 2
}
